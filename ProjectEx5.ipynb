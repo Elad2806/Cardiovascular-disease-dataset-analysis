{
 "cells":[
  {
   "cell_type":"markdown",
   "source":[
    "# project 4"
   ],
   "attachments":{
    
   },
   "metadata":{
    "datalore":{
     "node_id":"project 4",
     "type":"MD",
     "hide_input_from_viewers":false,
     "hide_output_from_viewers":false,
     "sheet_delimiter":true
    }
   }
  },
  {
   "cell_type":"markdown",
   "source":[
    "## Pre-processing the Data:"
   ],
   "attachments":{
    
   },
   "metadata":{
    "datalore":{
     "node_id":"07KgUCyjZ1ubgC8REJjpOQ",
     "type":"MD",
     "hide_input_from_viewers":true,
     "hide_output_from_viewers":true
    }
   }
  },
  {
   "cell_type":"code",
   "source":[
    "from scipy import stats\n",
    "import numpy as np\n",
    "import matplotlib.pyplot as plt\n",
    "import pandas as pd\n",
    "from statsmodels.graphics.gofplots import qqplot\n",
    "from scipy.stats import norm"
   ],
   "execution_count":60,
   "outputs":[
    
   ],
   "metadata":{
    "datalore":{
     "node_id":"1pDXJ56q4KdZqu0jXRLV7K",
     "type":"CODE",
     "hide_input_from_viewers":true,
     "hide_output_from_viewers":true
    }
   }
  },
  {
   "cell_type":"code",
   "source":[
    "df = pd.read_csv('\/data\/notebook_files\/CVD_cleaned.csv')\n",
    "# Binary columns transformation\n",
    "\n",
    "df['Heart_Disease'] = df['Heart_Disease'].map({'Yes': 1, 'No': 0})\n",
    "df['Sex'] = df['Sex'].map({'Female': 1, 'Male': 0})\n",
    "# Dropping columns we don't need\n",
    "\n",
    "df.drop(columns=['General_Health', 'Checkup', 'Exercise', 'Skin_Cancer', 'Other_Cancer', 'Depression', 'Diabetes',\n",
    "                 'Arthritis', 'Smoking_History', 'Fruit_Consumption', 'Green_Vegetables_Consumption',\n",
    "                 'FriedPotato_Consumption', 'Weight_(kg)', 'Height_(cm)'], inplace=True)\n",
    "df.head()"
   ],
   "execution_count":61,
   "outputs":[
    {
     "data":{
      "text\/html":[
       "<div>\n",
       "<style scoped>\n",
       "    .dataframe tbody tr th:only-of-type {\n",
       "        vertical-align: middle;\n",
       "    }\n",
       "\n",
       "    .dataframe tbody tr th {\n",
       "        vertical-align: top;\n",
       "    }\n",
       "\n",
       "    .dataframe thead th {\n",
       "        text-align: right;\n",
       "    }\n",
       "<\/style>\n",
       "<table border=\"1\" class=\"dataframe\">\n",
       "  <thead>\n",
       "    <tr style=\"text-align: right;\">\n",
       "      <th><\/th>\n",
       "      <th>Heart_Disease<\/th>\n",
       "      <th>Sex<\/th>\n",
       "      <th>Age_Category<\/th>\n",
       "      <th>BMI<\/th>\n",
       "      <th>Alcohol_Consumption<\/th>\n",
       "    <\/tr>\n",
       "  <\/thead>\n",
       "  <tbody>\n",
       "    <tr>\n",
       "      <th>0<\/th>\n",
       "      <td>0<\/td>\n",
       "      <td>1<\/td>\n",
       "      <td>70-74<\/td>\n",
       "      <td>14.54<\/td>\n",
       "      <td>0.0<\/td>\n",
       "    <\/tr>\n",
       "    <tr>\n",
       "      <th>1<\/th>\n",
       "      <td>1<\/td>\n",
       "      <td>1<\/td>\n",
       "      <td>70-74<\/td>\n",
       "      <td>28.29<\/td>\n",
       "      <td>0.0<\/td>\n",
       "    <\/tr>\n",
       "    <tr>\n",
       "      <th>2<\/th>\n",
       "      <td>0<\/td>\n",
       "      <td>1<\/td>\n",
       "      <td>60-64<\/td>\n",
       "      <td>33.47<\/td>\n",
       "      <td>4.0<\/td>\n",
       "    <\/tr>\n",
       "    <tr>\n",
       "      <th>3<\/th>\n",
       "      <td>1<\/td>\n",
       "      <td>0<\/td>\n",
       "      <td>75-79<\/td>\n",
       "      <td>28.73<\/td>\n",
       "      <td>0.0<\/td>\n",
       "    <\/tr>\n",
       "    <tr>\n",
       "      <th>4<\/th>\n",
       "      <td>0<\/td>\n",
       "      <td>0<\/td>\n",
       "      <td>80+<\/td>\n",
       "      <td>24.37<\/td>\n",
       "      <td>0.0<\/td>\n",
       "    <\/tr>\n",
       "  <\/tbody>\n",
       "<\/table>\n",
       "<\/div>"
      ]
     },
     "metadata":{
      
     },
     "output_type":"display_data"
    }
   ],
   "metadata":{
    "datalore":{
     "node_id":"fzh7VIAJ5ZiPhqRt1U0Z8n",
     "type":"CODE",
     "hide_input_from_viewers":true,
     "hide_output_from_viewers":true
    }
   }
  },
  {
   "cell_type":"markdown",
   "source":[
    "# Q1"
   ],
   "attachments":{
    
   },
   "metadata":{
    "datalore":{
     "node_id":"7haPeGYE842I9LZKwNyz2G",
     "type":"MD",
     "hide_input_from_viewers":true,
     "hide_output_from_viewers":true
    }
   }
  },
  {
   "cell_type":"markdown",
   "source":[
    "\n",
    "Our research question:\n",
    "\n",
    "**Is there a difference in mean BMI between males and females?**"
   ],
   "attachments":{
    
   },
   "metadata":{
    "datalore":{
     "node_id":"RvP2NcdtRTDiIQaQ4AX3GS",
     "type":"MD",
     "hide_input_from_viewers":true,
     "hide_output_from_viewers":true
    }
   }
  },
  {
   "cell_type":"code",
   "source":[
    "# Setting a seed ensures that the random operations can be replicated for consistent results\n",
    "np.random.seed(10101)\n",
    "\n",
    "# Sampling 200 observations from the dataframe 'df' for initial analysis\n",
    "\n",
    "observed_data_200 = df.sample(200)\n",
    "\n",
    "# Removing the 200 sampled observations to avoid overlap in future samples\n",
    "# This creates a new dataframe 'remaining_df' that excludes the previously sampled observations\n",
    "remaining_df = df.drop(observed_data_200.index)\n",
    "\n",
    "# Sampling 1000 additional observations from the remaining data for further analysis\n",
    "\n",
    "past_data_1000 = remaining_df.sample(n=1000)"
   ],
   "execution_count":62,
   "outputs":[
    
   ],
   "metadata":{
    "datalore":{
     "node_id":"duHfwmquxkSVPDUetdccuv",
     "type":"CODE",
     "hide_input_from_viewers":true,
     "hide_output_from_viewers":true
    }
   }
  },
  {
   "cell_type":"markdown",
   "source":[
    "# Q2"
   ],
   "attachments":{
    
   },
   "metadata":{
    "datalore":{
     "node_id":"tc5IHxvGVo9j44kKqn908R",
     "type":"MD",
     "hide_input_from_viewers":true,
     "hide_output_from_viewers":true
    }
   }
  },
  {
   "cell_type":"code",
   "source":[
    "x_title = 'BMI'\n",
    "y_title = 'Sex'\n",
    "\n",
    "male_num = 0\n",
    "female_num = 1"
   ],
   "execution_count":63,
   "outputs":[
    
   ],
   "metadata":{
    "datalore":{
     "node_id":"AtofwCBl43sNLo20OXyIA1",
     "type":"CODE",
     "hide_input_from_viewers":true,
     "hide_output_from_viewers":true
    }
   }
  },
  {
   "cell_type":"code",
   "source":[
    "# We define tau as the median of the BMI\n",
    "tau = observed_data_200['BMI'].quantile(0.5)\n",
    "print(f\"tau is: {tau}\")"
   ],
   "execution_count":64,
   "outputs":[
    {
     "name":"stdout",
     "text":[
      "tau is: 28.22\n"
     ],
     "output_type":"stream"
    }
   ],
   "metadata":{
    "datalore":{
     "node_id":"Brltt04IazEhHLkaBGZNd7",
     "type":"CODE",
     "hide_input_from_viewers":true,
     "hide_output_from_viewers":true
    }
   }
  },
  {
   "cell_type":"code",
   "source":[
    "# Split the samples to males and females\n",
    "observed_data_males_200 = observed_data_200[observed_data_200['Sex'] == 0]\n",
    "observed_data_females_200 = observed_data_200[observed_data_200['Sex'] == 1]"
   ],
   "execution_count":65,
   "outputs":[
    
   ],
   "metadata":{
    "datalore":{
     "node_id":"3dvkrXBf3EfO2jwQKAHq7U",
     "type":"CODE",
     "hide_input_from_viewers":true,
     "hide_output_from_viewers":true
    }
   }
  },
  {
   "cell_type":"code",
   "source":[
    "bins = 10\n",
    "fig, (ax1, ax2, ax3) = plt.subplots(1, 3, figsize=(20, 4))\n",
    "observed_data_males_200['BMI'].hist(edgecolor=\"black\", grid=False, alpha=0.5,\n",
    "                                    label=\"males\", ax=ax1, bins=bins)\n",
    "observed_data_females_200['BMI'].hist(edgecolor=\"black\", grid=False, alpha=0.5,\n",
    "                                      label=\"females\", ax=ax1, bins=bins)\n",
    "ax1.set_title(\"BMI histograms among females and males\", fontweight=\"bold\", fontsize=14)\n",
    "ax1.legend()\n",
    "\n",
    "qqplot(observed_data_males_200['BMI'].values, norm, fit=True, line=\"s\", ax=ax2)\n",
    "ax2.set_title(\"Normal QQ plot for male BMI\", fontsize=15, fontweight=\"bold\")\n",
    "\n",
    "qqplot(observed_data_females_200['BMI'].values, norm, fit=True, line=\"s\", ax=ax3)\n",
    "ax3.set_title(\"Normal QQ plot for female BMI\", fontsize=15, fontweight=\"bold\")\n",
    "plt.show()"
   ],
   "execution_count":66,
   "outputs":[
    {
     "data":{
      "image\/png":"[encoded data removed]"
     },
     "metadata":{
      "image\/png":{
       
      }
     },
     "output_type":"display_data"
    }
   ],
   "metadata":{
    "datalore":{
     "node_id":"E7S4mpnUL5zfflByN9bmrb",
     "type":"CODE",
     "hide_input_from_viewers":true,
     "hide_output_from_viewers":true
    }
   }
  },
  {
   "cell_type":"markdown",
   "source":[
    "we can see here, the values of the two categories (males and females) are distributed normally (although the unsuppressed group data is slightly skewed). because of that we can use a normal approximation to the bootstrap-based confidence interval."
   ],
   "attachments":{
    
   },
   "metadata":{
    "datalore":{
     "node_id":"49pYYfUJYPlFy8JrTwsa82",
     "type":"MD",
     "hide_input_from_viewers":true,
     "hide_output_from_viewers":true
    }
   }
  },
  {
   "cell_type":"markdown",
   "source":[
    "## א"
   ],
   "attachments":{
    
   },
   "metadata":{
    "datalore":{
     "node_id":"Ntu3dfZQ67rlxN9sN1bEVA",
     "type":"MD",
     "hide_input_from_viewers":true,
     "hide_output_from_viewers":true
    }
   }
  },
  {
   "cell_type":"code",
   "source":[
    "\n",
    "# We'll use these lists in section E\n",
    "psi_array = []\n",
    "RI_array = []"
   ],
   "execution_count":67,
   "outputs":[
    
   ],
   "metadata":{
    "datalore":{
     "node_id":"eYkikIxh4DitXWKG1rp1e2",
     "type":"CODE",
     "hide_input_from_viewers":true,
     "hide_output_from_viewers":true
    }
   }
  },
  {
   "cell_type":"code",
   "source":[
    "def get_probabilities_and_eta(observed_data_with_z):\n",
    "    \"\"\"\n",
    "    Calculate probabilities and eta values for male and female categories within the dataset.\n",
    "    \"\"\"\n",
    "    # Separating the dataset into male and female subsets based on the 'Sex' column\n",
    "    observed_data_males = observed_data_with_z[observed_data_with_z['Sex'] == 0]\n",
    "    observed_data_females = observed_data_with_z[observed_data_with_z['Sex'] == 1]\n",
    "\n",
    "    # Calculating the probability of Z=1 for males\n",
    "    p_males = len(observed_data_males[observed_data_males['Z'] == 1]) \/ len(observed_data_males)\n",
    "\n",
    "    # Calculating the probability of Z=1 for females\n",
    "    p_females = len(observed_data_females[observed_data_females['Z'] == 1]) \/ len(observed_data_females)\n",
    "\n",
    "    # Computing the eta (𝜂) value for males, which is the logit of the probability\n",
    "    eta_p_males = np.log(p_males \/ (1 - p_males))\n",
    "\n",
    "    # Computing the eta (𝜂) value for females, similarly as the logit of the probability\n",
    "    eta_p_females = np.log(p_females \/ (1 - p_females))\n",
    "\n",
    "    return p_males, p_females, eta_p_males, eta_p_females"
   ],
   "execution_count":68,
   "outputs":[
    
   ],
   "metadata":{
    "datalore":{
     "node_id":"hbVaYUKeLj5QBAnX66gQvH",
     "type":"CODE",
     "hide_input_from_viewers":true,
     "hide_output_from_viewers":true
    }
   }
  },
  {
   "cell_type":"code",
   "source":[
    "# Create a new binary variable 'Z' in the dataframe where 'Z' is 1 if 'BMI' is greater than tau, else 0\n",
    "observed_data_200['Z'] = observed_data_200['BMI'] > tau\n",
    "# Replace boolean values in 'Z' with integers (True to 1, False to 0)\n",
    "observed_data_200.replace({'Z': {False: 0, True: 1}}, inplace=True)\n",
    "\n",
    "# Calculate probabilities and eta values for both sexes using the defined function\n",
    "p_males, p_females, eta_p_females, eta_p_males = get_probabilities_and_eta(observed_data_200)\n",
    "\n",
    "# Calculate the psi estimator as the difference between eta values for females and males\n",
    "psi_estimator = eta_p_females - eta_p_males"
   ],
   "execution_count":69,
   "outputs":[
    
   ],
   "metadata":{
    "datalore":{
     "node_id":"TXaz5ow1HEoFh5ryISYY7Y",
     "type":"CODE",
     "hide_input_from_viewers":true,
     "hide_output_from_viewers":true
    }
   }
  },
  {
   "cell_type":"code",
   "source":[
    "# Number of bootstrap samples\n",
    "B = 400\n",
    "\n",
    "# Initialization of the psi array\n",
    "samples_psi_estimators = []\n",
    "\n",
    "for _ in range(B):\n",
    "    # Resample with replacement\n",
    "    sample = observed_data_200.sample(200, replace=True)\n",
    "\n",
    "    sample_p_males, sample_females, sample_eta_p_males, sample_eta_p_females = get_probabilities_and_eta(\n",
    "        sample)\n",
    "    # Estimates the psi of the sample and adding it to the array\n",
    "    sample_psi = sample_eta_p_males - sample_eta_p_females\n",
    "\n",
    "    samples_psi_estimators.append(sample_psi)\n",
    "\n",
    "# Set the confidence level\n",
    "confidence_level = 0.95\n",
    "\n",
    "# Calculate the critical value based on the confidence level\n",
    "# For an asymptotic normal distribution, we can use the z-score\n",
    "z_critical = stats.norm.ppf(1 - (1 - confidence_level) \/ 2)  # == 0.975\n",
    "\n",
    "# Calculate the standard deviation of the psi across bootstrap samples\n",
    "bootstrap_sd = np.std(samples_psi_estimators, axis=0)\n",
    " \n",
    "# Calculate the lower and upper bounds of the confidence interval\n",
    "RI = [psi_estimator - z_critical * bootstrap_sd, psi_estimator + z_critical * bootstrap_sd]\n",
    "\n",
    "# For future use in section e\n",
    "psi_array.append(psi_estimator)\n",
    "RI_array.append(RI)\n",
    "\n",
    "print(f\"The estimator for psi is: {psi_estimator}\")\n",
    "print(f\"The confidence interval to psi is: {RI}\")"
   ],
   "execution_count":70,
   "outputs":[
    {
     "name":"stdout",
     "text":[
      "The estimator for psi is: 0.24273068458951466\n",
      "The confidence interval to psi is: [-0.3305383257323137, 0.8159996949113429]\n"
     ],
     "output_type":"stream"
    }
   ],
   "metadata":{
    "datalore":{
     "node_id":"TF3Ip4yFDEv2R836i2hkxK",
     "type":"CODE",
     "hide_input_from_viewers":true,
     "hide_output_from_viewers":true
    }
   }
  },
  {
   "cell_type":"markdown",
   "source":[
    "## ב "
   ],
   "attachments":{
    
   },
   "metadata":{
    "datalore":{
     "node_id":"2T4jFPCV31NoFWEgOGokuT",
     "type":"MD",
     "hide_input_from_viewers":true,
     "hide_output_from_viewers":true
    }
   }
  },
  {
   "cell_type":"markdown",
   "source":[
    "In practice, the expected matching method when: \n",
    "$ S $ = the number of claims submitted by a sample surfer \n",
    "$ n $ = the total number of claims\n",
    "\n",
    "$$\n",
    "\\frac{2}{n+2} E_{\\pi}[p] + \\frac{n}{n+2} \\hat{p}^{MLE} = \\frac{1}{n+2} + \\frac{S}{n+2} = \\frac{S+1}{n+2}\n",
    "$$"
   ],
   "attachments":{
    
   },
   "metadata":{
    "datalore":{
     "node_id":"kBARLimJw8xA4W93AVgc71",
     "type":"MD",
     "hide_input_from_viewers":true,
     "hide_output_from_viewers":true
    }
   }
  },
  {
   "cell_type":"code",
   "source":[
    "\n",
    "# Filtering data for males and females based on the 'Sex' column\n",
    "observed_data_males = observed_data_200[observed_data_200['Sex'] == 0]\n",
    "observed_data_females = observed_data_200[observed_data_200['Sex'] == 1]\n",
    "\n",
    "# Calculating the probability of Z=1 for males\n",
    "# Adjust the count of males with Z=1 by adding 1 for Laplace smoothing\n",
    "z_1_males_num_S = len(observed_data_males[observed_data_males['Z'] == 1])\n",
    "# Total number of males in the dataset\n",
    "males_num_n = len(observed_data_males)\n",
    "# Calculate the probability with Laplace smoothing\n",
    "p_males = (z_1_males_num_S + 1) \/ (males_num_n + 2)\n",
    "\n",
    "# Calculating the probability of Z=1 for females\n",
    "# Adjust the count of females with Z=1 by adding 1 for Laplace smoothing\n",
    "z_1_females_num_S = len(observed_data_females[observed_data_females['Z'] == 1])\n",
    "# Total number of females in the dataset\n",
    "females_num_n = len(observed_data_females)\n",
    "# Calculate the probability with Laplace smoothing\n",
    "p_females = (z_1_females_num_S + 1) \/ (females_num_n + 2)\n",
    "\n",
    "# Calculating the log-odds (eta) for males and females\n",
    "eta_p_males = np.log(p_males \/ (1 - p_males))\n",
    "eta_p_females = np.log(p_females \/ (1 - p_females))\n",
    "\n",
    "# Calculating the difference in log-odds (psi) between males and females\n",
    "psi = eta_p_males - eta_p_females"
   ],
   "execution_count":71,
   "outputs":[
    
   ],
   "metadata":{
    "datalore":{
     "node_id":"ipw1xIlcniKRR0b4QnGKhk",
     "type":"CODE",
     "hide_input_from_viewers":true,
     "hide_output_from_viewers":true
    }
   }
  },
  {
   "cell_type":"markdown",
   "source":[
    "$p_1 | X_m \\propto \\text{Beta}(S_x + 1, m - S_x + 1)$\n",
    "\n",
    "$p_2 | Y_n \\propto \\text{Beta}(S_y + 1, n - S_y + 1)$"
   ],
   "attachments":{
    
   },
   "metadata":{
    "datalore":{
     "node_id":"w0RwX4GKrPxOllEJx0MihV",
     "type":"MD",
     "hide_input_from_viewers":true,
     "hide_output_from_viewers":true
    }
   }
  },
  {
   "cell_type":"code",
   "source":[
    "# Setting the number of bootstrap samples\n",
    "B = 400\n",
    "\n",
    "# Initializing the list to store psi values for each bootstrap sample\n",
    "samples_psi = []\n",
    "\n",
    "for b in range(B):\n",
    "    # Generating bootstrap samples for male and female probabilities using Beta distribution\n",
    "    # The parameters are derived from observed counts with a Bayesian perspective\n",
    "    sample_p_males = stats.beta.rvs(z_1_males_num_S + 1, males_num_n - z_1_males_num_S + 1, size=1)\n",
    "    sample_p_females = stats.beta.rvs(z_1_females_num_S + 1, females_num_n - z_1_females_num_S + 1, size=1)\n",
    "    \n",
    "    # Computing the log-odds (eta) for the bootstrap probabilities for males and females\n",
    "    sample_eta_p_males = np.log(sample_p_males \/ (1 - sample_p_males))\n",
    "    sample_eta_p_females = np.log(sample_p_females \/ (1 - sample_p_females))\n",
    "\n",
    "    # Calculating the difference in log-odds (psi) for the sample and storing it\n",
    "    sample_psi = sample_eta_p_males - sample_eta_p_females\n",
    "    samples_psi.append(sample_psi[0])\n",
    "\n",
    "# Calculating the 95% reliability interval for psi\n",
    "RI = [np.quantile(samples_psi, 0.025), np.quantile(samples_psi, 0.975)]\n",
    "\n",
    "# Storing psi and its reliability interval for future reference (e.g., in section e)\n",
    "psi_array.append(psi)\n",
    "RI_array.append(RI)\n",
    "\n",
    "# Displaying the estimated psi and its reliability interval\n",
    "print(f\"The estimated value for psi is: {psi}\")\n",
    "print(f\"The 95% reliability interval for psi is: {RI}\")"
   ],
   "execution_count":72,
   "outputs":[
    {
     "name":"stdout",
     "text":[
      "The estimated value for psi is: 0.2378657127706621\n",
      "The 95% reliability interval for psi is: [-0.3328949542945969, 0.7556958757080245]\n"
     ],
     "output_type":"stream"
    }
   ],
   "metadata":{
    "datalore":{
     "node_id":"bdC9avbnuP0PJem9vdaXlW",
     "type":"CODE",
     "hide_input_from_viewers":true,
     "hide_output_from_viewers":true
    }
   }
  },
  {
   "cell_type":"markdown",
   "source":[
    "## ג"
   ],
   "attachments":{
    
   },
   "metadata":{
    "datalore":{
     "node_id":"nyWHNxEVT9C2bBICdaEOsX",
     "type":"MD",
     "hide_input_from_viewers":true,
     "hide_output_from_viewers":true
    }
   }
  },
  {
   "cell_type":"markdown",
   "source":[
    "The likelihood function for the parameter \\( p \\) given the data \\( x^n \\) is proportional to the prior times the likelihood of \\( p \\), which can be written as:\n",
    "\n",
    "$$\n",
    "f(p|x^n) \\propto \\pi(p) L_n(p) = \\frac{1}{\\sqrt{p(1-p)}} \\cdot p^S(1-p)^{n-S} = p^{S-\\frac{1}{2}}(1-p)^{n-S-\\frac{1}{2}}\n",
    "$$\n",
    "\n",
    "Which is proprstional to a Beta distribution:\n",
    "\n",
    "$$\n",
    "= p^{(S+\\frac{1}{2})-1}(1-p)^{(n-S+\\frac{1}{2})-1} \\propto \\text{Beta}\\left( S + \\frac{1}{2}, n - S + \\frac{1}{2}\\right)\n",
    "$$"
   ],
   "attachments":{
    
   },
   "metadata":{
    "datalore":{
     "node_id":"k6h1mKT6dNLbzijYtWWa8V",
     "type":"MD",
     "hide_input_from_viewers":true,
     "hide_output_from_viewers":true
    }
   }
  },
  {
   "cell_type":"code",
   "source":[
    "# Number of bootstrap samples\n",
    "B = 400\n",
    "\n",
    "# Initialization of the psi array\n",
    "samples_psi = []\n",
    "\n",
    "for b in range(B):\n",
    "    # Estimates the probability for each category of the sample\n",
    "    sample_p_males = stats.beta.rvs(z_1_males_num_S + 0.5, males_num_n - z_1_males_num_S + 0.5, size=1)\n",
    "    sample_p_females = stats.beta.rvs(z_1_females_num_S + 0.5, females_num_n - z_1_females_num_S + 0.5, size=1)\n",
    "\n",
    "    # Estimates the eta for each probability of the sample\n",
    "    sample_eta_p_males = np.log(sample_p_males \/ (1 - sample_p_males))\n",
    "    sample_eta_p_females = np.log(sample_p_females\/(1-sample_p_females))\n",
    "\n",
    "    # Estimates the psi of the sample and adding it to the array\n",
    "    sample_psi = sample_eta_p_males - sample_eta_p_females\n",
    "    samples_psi.append(sample_psi)\n",
    "\n",
    "# Estimates the psi \n",
    "psi = np.mean(samples_psi)\n",
    "    \n",
    "# Reliability interval    \n",
    "RI = [np.quantile(samples_psi, 0.025), np.quantile(samples_psi, 0.975)]\n",
    "\n",
    "# For future use in section e\n",
    "psi_array.append(psi)\n",
    "RI_array.append(RI)\n",
    "\n",
    "print(f\"The estimator for psi is: {psi}\")\n",
    "print(f\"The reliability interval is: {RI}\")"
   ],
   "execution_count":73,
   "outputs":[
    {
     "name":"stdout",
     "text":[
      "The estimator for psi is: 0.2378444005156918\n",
      "The reliability interval is: [-0.2673117632258802, 0.7725383123723466]\n"
     ],
     "output_type":"stream"
    }
   ],
   "metadata":{
    "datalore":{
     "node_id":"6qtDP2narmuDFHKGSSoQwx",
     "type":"CODE",
     "hide_input_from_viewers":true,
     "hide_output_from_viewers":true
    }
   }
  },
  {
   "cell_type":"markdown",
   "source":[
    "## ד"
   ],
   "attachments":{
    
   },
   "metadata":{
    "datalore":{
     "node_id":"NkvZAHY69rxrTgdrxXO5Wm",
     "type":"MD",
     "hide_input_from_viewers":true,
     "hide_output_from_viewers":true
    }
   }
  },
  {
   "cell_type":"markdown",
   "source":[
    "We assume that for each gender group $j$, the prior distribution for $p_i$ is a Beta distribution: $p_i \\sim Beta(\\alpha_j, \\beta_j)$, where $\\alpha_j = 1 + \\sum_{1}^{n} I(z = 1)_j$ and $\\beta_j = 1 + n_j - \\sum_{1}^{n} I(z = 1)_j$. \n",
    "\n",
    "Given the data, $Z = 1$ occurs $k_j$ times out of $n_j$ observations in group $j$. The likelihood is $p_i^{k_j} (1 - p_i)^{n_j - k_j}$.\n",
    "\n",
    "By Bayes' theorem:\n",
    "\n",
    "$$\n",
    "\\text{Posterior} \\propto \\text{Likelihood} \\times \\text{Prior} = p_i^{k_j} (1 - p_i)^{n_j - k_j} \\times p_i^{\\alpha_j - 1} (1 - p_i)^{\\beta_j - 1}\n",
    "$$\n",
    "\n",
    "Combining exponents:\n",
    "\n",
    "$$\n",
    "\\text{Posterior} \\propto p_i^{k_j + \\alpha_j - 1} (1 - p_i)^{n_j - k_j + \\beta_j - 1}\n",
    "$$\n",
    "\n",
    "Hence, the posterior is $Beta(k_j + \\alpha_j, n_j - k_j + \\beta_j)$."
   ],
   "attachments":{
    
   },
   "metadata":{
    "datalore":{
     "node_id":"nOrxcX4WhRXg2eAptaPZDk",
     "type":"MD",
     "hide_input_from_viewers":true,
     "hide_output_from_viewers":true
    }
   }
  },
  {
   "cell_type":"code",
   "source":[
    "# Define a new binary variable Z based on tau \n",
    "past_data_1000['Z'] =  past_data_1000['BMI'] > tau \n",
    "past_data_1000.replace({'Z': {False : 0, True : 1}}, inplace=True)\n",
    "\n",
    "# Split the sample by the category\n",
    "past_data_males = past_data_1000[past_data_1000['Sex'] == 0]\n",
    "past_data_females = past_data_1000[past_data_1000['Sex'] == 1]\n",
    "\n",
    "# Calculate the number of occurrences in the sample for which Z=1.\n",
    "z_1_males_num = len(past_data_males[past_data_males['Z'] == 1])\n",
    "z_1_females_num = len(past_data_females[past_data_females['Z'] == 1])\n",
    "\n",
    "# Calculate the number of all the occurrences in the sample.\n",
    "males_num = len(past_data_males)\n",
    "females_num = len(past_data_females)\n",
    "\n",
    "# Calculate the alfa and beta for each category\n",
    "alfa_females = z_1_females_num + 1\n",
    "alfa_males = z_1_males_num + 1\n",
    "beta_females = females_num - z_1_females_num + 1\n",
    "beta_males = males_num - z_1_males_num + 1\n",
    "\n",
    "print(f\"p1 (males) prior distribution: Beta({alfa_males}, {beta_males})\")\n",
    "print(f\"p1 (males) posterior distribution: Beta({alfa_males + z_1_males_num}, {beta_males + males_num - z_1_males_num})\")\n",
    "\n",
    "print(f\"p2 (females) prior distribution: Beta({alfa_females}, {beta_females})\")\n",
    "print(f\"p2 (females) posterior distribution: Beta({alfa_females + z_1_females_num}, {beta_females + females_num - z_1_females_num})\")"
   ],
   "execution_count":74,
   "outputs":[
    {
     "name":"stdout",
     "text":[
      "p1 (males) prior distribution: Beta(219, 251)\n",
      "p1 (males) posterior distribution: Beta(437, 501)\n",
      "p2 (females) prior distribution: Beta(233, 301)\n",
      "p2 (females) posterior distribution: Beta(465, 601)\n"
     ],
     "output_type":"stream"
    }
   ],
   "metadata":{
    "datalore":{
     "node_id":"hxUoIM7ZpUOuDxRDWz4t7A",
     "type":"CODE",
     "hide_input_from_viewers":true,
     "hide_output_from_viewers":true
    }
   }
  },
  {
   "cell_type":"code",
   "source":[
    "# Number of bootstrap samples\n",
    "B = 400\n",
    "\n",
    "# Initialization of the psi array\n",
    "samples_psi = []\n",
    "\n",
    "for b in range(B):\n",
    "    # Generating sample probabilities for each gender using a beta distribution\n",
    "    sample_p_females = stats.beta.rvs(alfa_females + z_1_females_num, beta_females + females_num - z_1_females_num, size=1)\n",
    "    sample_p_males = stats.beta.rvs(alfa_males + z_1_males_num, beta_males + males_num - z_1_males_num, size=1)\n",
    "    \n",
    "    # Calculating eta values by applying a logarithmic transformation to the probability ratios\n",
    "    sample_eta_p_males = np.log(sample_p_males \/ (1 - sample_p_males))\n",
    "    sample_eta_p_females = np.log(sample_p_females \/ (1 - sample_p_females))\n",
    "\n",
    "    # Computing the difference in eta values to estimate psi and appending it directly to the list\n",
    "    samples_psi.append(sample_eta_p_males - sample_eta_p_females)\n",
    "\n",
    "# Calculating the mean of psi values directly without intermediate variable assignment\n",
    "psi = np.mean(samples_psi)\n",
    "\n",
    "# Computing the reliability interval directly within the print statement\n",
    "RI = [np.quantile(samples_psi, 0.025), np.quantile(samples_psi, 0.975)]\n",
    "\n",
    "# Storing psi and RI values for future reference\n",
    "psi_array.append(psi)\n",
    "RI_array.append(RI)\n",
    "\n",
    "# Printing the estimated psi and reliability interval\n",
    "print(f\"The estimated psi value is: {psi}\")\n",
    "print(f\"The calculated reliability interval is: {RI}\")"
   ],
   "execution_count":75,
   "outputs":[
    {
     "name":"stdout",
     "text":[
      "The estimated psi value is: 0.12447574909206828\n",
      "The calculated reliability interval is: [-0.029839863418218943, 0.3243868145928361]\n"
     ],
     "output_type":"stream"
    }
   ],
   "metadata":{
    "datalore":{
     "node_id":"a0FG1uv0s0NgqFjQBmYL2K",
     "type":"CODE",
     "hide_input_from_viewers":true,
     "hide_output_from_viewers":true
    }
   }
  },
  {
   "cell_type":"markdown",
   "source":[
    "## ה"
   ],
   "attachments":{
    
   },
   "metadata":{
    "datalore":{
     "node_id":"0xyoBCfaxgbd0jeqqQMY5N",
     "type":"MD",
     "hide_input_from_viewers":true,
     "hide_output_from_viewers":true
    }
   }
  },
  {
   "cell_type":"code",
   "source":[
    "# Setting up interval boundaries with a dictionary structure\n",
    "interval_definitions = {\n",
    "    'a': RI_array[0],\n",
    "    'b': RI_array[1],\n",
    "    'c': RI_array[2],\n",
    "    'd': RI_array[3]\n",
    "}\n",
    "\n",
    "# Utilizing enumerate for simultaneous indexing and retrieval in the loop\n",
    "for idx, (section, interval_value) in enumerate(interval_definitions.items()):\n",
    "    # Directly plotting intervals with red circles and black connecting lines\n",
    "    plt.plot(interval_value, (idx, idx), 'ro-', color=\"green\")\n",
    "    \n",
    "    # Displaying the psi value corresponding to each interval\n",
    "    print(f\"Psi value for {section} interval: {psi_array[idx]}\")\n",
    "\n",
    "# Adjusting y-axis ticks and labels to match interval names\n",
    "plt.yticks(range(len(interval_definitions)), interval_definitions.keys())\n",
    "\n",
    "# Labeling x-axis and y-axis for clarity\n",
    "plt.xlabel(\"Magnitude\")\n",
    "plt.ylabel(\"Intervals\")\n",
    "\n",
    "# Giving the plot a descriptive title\n",
    "plt.title(\"Reliability  Interval Visualization\")\n",
    "\n",
    "# Rendering the plot\n",
    "plt.show()\n"
   ],
   "execution_count":76,
   "outputs":[
    {
     "name":"stdout",
     "text":[
      "Psi value for a interval: 0.24273068458951466\n",
      "Psi value for b interval: 0.2378657127706621\n",
      "Psi value for c interval: 0.2378444005156918\n",
      "Psi value for d interval: 0.12447574909206828\n"
     ],
     "output_type":"stream"
    },
    {
     "name":"stderr",
     "text":[
      "<ipython-input-76-85cea32ac756>:12: UserWarning: color is redundantly defined by the 'color' keyword argument and the fmt string \"ro-\" (-> color='r'). The keyword argument will take precedence.\n",
      "  plt.plot(interval_value, (idx, idx), 'ro-', color=\"green\")\n"
     ],
     "output_type":"stream"
    },
    {
     "data":{
      "image\/png":"[encoded data removed]"
     },
     "metadata":{
      "image\/png":{
       
      }
     },
     "output_type":"display_data"
    }
   ],
   "metadata":{
    "datalore":{
     "node_id":"cDfPWkBUswNOFpYxaUU8Vh",
     "type":"CODE",
     "hide_input_from_viewers":true,
     "hide_output_from_viewers":true
    }
   }
  },
  {
   "cell_type":"markdown",
   "source":[
    "As we can see above, the smallest reliability interval was found in section D. This result is expected because, in section D, we relied on past data that had a larger number of observations. Generally, more data points contribute to a more stable and accurate estimate, which in turn reduces variance. A lower variance is directly associated with a narrower confidence interval, meaning our estimate is more precise.We should also note that the lengths of the reliability intervals of sections A to C were quite similar, suggesting consistency across our analytical approaches. This consistency is a good indicator that our methods are robust, providing reliable results regardless of the technique applied."
   ],
   "attachments":{
    
   },
   "metadata":{
    "datalore":{
     "node_id":"lNkvwc0SAzQyStq8LunqjB",
     "type":"MD",
     "hide_input_from_viewers":true,
     "hide_output_from_viewers":true
    }
   }
  }
 ],
 "metadata":{
  "kernelspec":{
   "display_name":"Python",
   "language":"python",
   "name":"python"
  },
  "datalore":{
   "computation_mode":"JUPYTER",
   "package_manager":"pip",
   "base_environment":"default",
   "packages":[
    
   ],
   "report_row_ids":[
    
   ],
   "version":3
  }
 },
 "nbformat":4,
 "nbformat_minor":4
}