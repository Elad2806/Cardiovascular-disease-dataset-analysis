{
 "cells":[
  {
   "cell_type":"markdown",
   "source":[
    "# Sheet 1"
   ],
   "attachments":{
    
   },
   "metadata":{
    "datalore":{
     "node_id":"Sheet 1",
     "type":"MD",
     "hide_input_from_viewers":false,
     "hide_output_from_viewers":false,
     "sheet_delimiter":true
    }
   }
  },
  {
   "cell_type":"markdown",
   "source":[
    "**Link to the dataset**: https:\/\/www.kaggle.com\/datasets\/alphiree\/cardiovascular-diseases-risk-prediction-dataset"
   ],
   "attachments":{
    
   },
   "metadata":{
    "datalore":{
     "node_id":"e0Tiuvc35KATPfakju7QIL",
     "type":"MD",
     "hide_input_from_viewers":true,
     "hide_output_from_viewers":true
    }
   }
  },
  {
   "cell_type":"markdown",
   "source":[
    "# Pre-processing (same as part 1):"
   ],
   "attachments":{
    
   },
   "metadata":{
    "datalore":{
     "node_id":"LyK3N3KvBtspBB5EmFVGEK",
     "type":"MD",
     "hide_input_from_viewers":true,
     "hide_output_from_viewers":true
    }
   }
  },
  {
   "cell_type":"code",
   "source":[
    "import numpy as np\n",
    "import matplotlib.pyplot as plt\n",
    "import pandas as pd\n",
    "import seaborn as sns\n",
    "from scipy import stats\n",
    "\n",
    "df2 = pd.read_csv('\/data\/notebook_files\/CVD_cleaned.csv')\n",
    "# Binary columns transformation\n",
    "\n",
    "df2['Heart_Disease'] = df2['Heart_Disease'].map({'Yes': 1, 'No': 0})\n",
    "df2['Sex'] = df2['Sex'].map({'Female': 1, 'Male': 0})\n",
    "# Dropping columns we don't need\n",
    "\n",
    "df2.drop(columns=['General_Health', 'Checkup', 'Exercise', 'Skin_Cancer', 'Other_Cancer', 'Depression', 'Diabetes',\n",
    "                  'Arthritis', 'Smoking_History', 'Fruit_Consumption', 'Green_Vegetables_Consumption',\n",
    "                  'FriedPotato_Consumption', 'Weight_(kg)', 'Height_(cm)'], inplace=True)\n",
    "df2.head()"
   ],
   "execution_count":604,
   "outputs":[
    {
     "data":{
      "text\/html":[
       "<div>\n",
       "<style scoped>\n",
       "    .dataframe tbody tr th:only-of-type {\n",
       "        vertical-align: middle;\n",
       "    }\n",
       "\n",
       "    .dataframe tbody tr th {\n",
       "        vertical-align: top;\n",
       "    }\n",
       "\n",
       "    .dataframe thead th {\n",
       "        text-align: right;\n",
       "    }\n",
       "<\/style>\n",
       "<table border=\"1\" class=\"dataframe\">\n",
       "  <thead>\n",
       "    <tr style=\"text-align: right;\">\n",
       "      <th><\/th>\n",
       "      <th>Heart_Disease<\/th>\n",
       "      <th>Sex<\/th>\n",
       "      <th>Age_Category<\/th>\n",
       "      <th>BMI<\/th>\n",
       "      <th>Alcohol_Consumption<\/th>\n",
       "    <\/tr>\n",
       "  <\/thead>\n",
       "  <tbody>\n",
       "    <tr>\n",
       "      <th>0<\/th>\n",
       "      <td>0<\/td>\n",
       "      <td>1<\/td>\n",
       "      <td>70-74<\/td>\n",
       "      <td>14.54<\/td>\n",
       "      <td>0.0<\/td>\n",
       "    <\/tr>\n",
       "    <tr>\n",
       "      <th>1<\/th>\n",
       "      <td>1<\/td>\n",
       "      <td>1<\/td>\n",
       "      <td>70-74<\/td>\n",
       "      <td>28.29<\/td>\n",
       "      <td>0.0<\/td>\n",
       "    <\/tr>\n",
       "    <tr>\n",
       "      <th>2<\/th>\n",
       "      <td>0<\/td>\n",
       "      <td>1<\/td>\n",
       "      <td>60-64<\/td>\n",
       "      <td>33.47<\/td>\n",
       "      <td>4.0<\/td>\n",
       "    <\/tr>\n",
       "    <tr>\n",
       "      <th>3<\/th>\n",
       "      <td>1<\/td>\n",
       "      <td>0<\/td>\n",
       "      <td>75-79<\/td>\n",
       "      <td>28.73<\/td>\n",
       "      <td>0.0<\/td>\n",
       "    <\/tr>\n",
       "    <tr>\n",
       "      <th>4<\/th>\n",
       "      <td>0<\/td>\n",
       "      <td>0<\/td>\n",
       "      <td>80+<\/td>\n",
       "      <td>24.37<\/td>\n",
       "      <td>0.0<\/td>\n",
       "    <\/tr>\n",
       "  <\/tbody>\n",
       "<\/table>\n",
       "<\/div>"
      ]
     },
     "metadata":{
      
     },
     "output_type":"display_data"
    }
   ],
   "metadata":{
    "datalore":{
     "node_id":"cUPAoTTP9t2Jy0BIRXiels",
     "type":"CODE",
     "hide_input_from_viewers":true,
     "hide_output_from_viewers":true
    }
   }
  },
  {
   "cell_type":"code",
   "source":[
    "print(df2.columns.tolist())"
   ],
   "execution_count":605,
   "outputs":[
    {
     "name":"stdout",
     "text":[
      "['Heart_Disease', 'Sex', 'Age_Category', 'BMI', 'Alcohol_Consumption']\n"
     ],
     "output_type":"stream"
    }
   ],
   "metadata":{
    "datalore":{
     "node_id":"j85Sh9u7sP7Whx7Wa56nh8",
     "type":"CODE",
     "hide_input_from_viewers":true,
     "hide_output_from_viewers":true
    }
   }
  },
  {
   "cell_type":"markdown",
   "source":[
    "# PART 1"
   ],
   "attachments":{
    
   },
   "metadata":{
    "datalore":{
     "node_id":"5KI8xKMewutEnyWBcDrwOc",
     "type":"MD",
     "hide_input_from_viewers":true,
     "hide_output_from_viewers":true
    }
   }
  },
  {
   "cell_type":"markdown",
   "source":[
    "Our research question is: What is the effect of alcohol consumption, sex, and having heart disease on BMI?"
   ],
   "attachments":{
    
   },
   "metadata":{
    "datalore":{
     "node_id":"Zjqgb3s4AG7OKjLRO94Vnz",
     "type":"MD",
     "hide_input_from_viewers":true,
     "hide_output_from_viewers":true
    }
   }
  },
  {
   "cell_type":"code",
   "source":[
    "df = df2.copy()\n",
    "x_list = ['Heart_Disease', 'Sex', 'Alcohol_Consumption']\n",
    "y_title = 'BMI'\n",
    "\n",
    "independent_vars = x_list\n",
    "\n",
    "n = 200\n",
    "k = len(x_list)\n",
    "p = k + 1\n",
    "B = 400\n",
    "\n",
    "np.random.seed(100)\n",
    "df_sampled = df.sample(200)"
   ],
   "execution_count":606,
   "outputs":[
    
   ],
   "metadata":{
    "datalore":{
     "node_id":"ADzfwZeV9cFkmeskT4FIsw",
     "type":"CODE",
     "hide_input_from_viewers":true,
     "hide_output_from_viewers":true
    }
   }
  },
  {
   "cell_type":"markdown",
   "source":[
    "## Q1"
   ],
   "attachments":{
    
   },
   "metadata":{
    "datalore":{
     "node_id":"qCP0yNhH0IVowC2eKsoHOR",
     "type":"MD",
     "hide_input_from_viewers":true,
     "hide_output_from_viewers":true
    }
   }
  },
  {
   "cell_type":"code",
   "source":[
    "# Initialize the design matrix and outcome vector for regression analysis.\n",
    "\n",
    "predictors = df[x_list].to_numpy() \n",
    "outcome = df[y_title].to_numpy()  \n",
    "design_matrix = np.c_[np.ones(predictors.shape[0]), predictors]\n",
    "\n",
    "# Compute the transposed product of the design matrix.\n",
    "transposed_product = np.dot(design_matrix.T, design_matrix)\n",
    "\n",
    "# Calculate the inverse of the transposed product matrix.\n",
    "inverse_matrix = np.linalg.inv(transposed_product)  \n",
    "\n",
    "# Determine the product of transposed design matrix and outcome vector.\n",
    "design_outcome_product = np.dot(design_matrix.T, outcome)  \n",
    "\n",
    "# Estimate regression coefficients using Ordinary Least Squares (OLS).\n",
    "beta_estimates = np.dot(inverse_matrix, design_outcome_product) "
   ],
   "execution_count":607,
   "outputs":[
    
   ],
   "metadata":{
    "datalore":{
     "node_id":"mGC0u314cmATIcItEqzluH",
     "type":"CODE",
     "hide_input_from_viewers":true,
     "hide_output_from_viewers":true
    }
   }
  },
  {
   "cell_type":"markdown",
   "source":[
    "### א"
   ],
   "attachments":{
    
   },
   "metadata":{
    "datalore":{
     "node_id":"Z4d8r4nX1DcIvzQZStK9ul",
     "type":"MD",
     "hide_input_from_viewers":true,
     "hide_output_from_viewers":true
    }
   }
  },
  {
   "cell_type":"code",
   "source":[
    "# Set up the matrix of predictors and the response variable for confidence interval computation.\n",
    "design_matrix = df[x_list].to_numpy()\n",
    "outcome_vector = df[y_title].to_numpy()\n",
    "extended_matrix = np.c_[np.ones(design_matrix.shape[0]), design_matrix]\n",
    "matrix_product = np.dot(extended_matrix.T, extended_matrix)\n",
    "inverted_matrix = np.linalg.inv(matrix_product)\n",
    "outcome_product = np.dot(extended_matrix.T, outcome_vector)\n",
    "\n",
    "parameter_estimates = np.dot(inverted_matrix, outcome_product)\n",
    "covariance_matrix = np.linalg.inv(extended_matrix.T @ extended_matrix)\n",
    "deviations = outcome_vector - np.dot(extended_matrix, beta_estimates)\n",
    "variance_estimation = 1 \/ (200 - (len(x_list) + 1)) * np.sum(deviations ** 2)\n",
    "z_value = stats.norm.ppf(0.975)\n",
    "intervals_of_confidence = []\n",
    "\n",
    "# Calculate and print the confidence intervals for each parameter.\n",
    "for index, predictor in enumerate(['Intercept'] + x_list):\n",
    "    variance_of_coeff = variance_estimation * covariance_matrix[index][index]\n",
    "    std_error_coeff = np.sqrt(variance_of_coeff)\n",
    "    interval = [beta_estimates[index] - z_value * std_error_coeff, \n",
    "                beta_estimates[index] + z_value * std_error_coeff]\n",
    "    intervals_of_confidence.append(interval)\n",
    "    print(f\"Confidence Interval for parameter {index} ({predictor}): {interval}\")\n",
    "    print(f\"Is the population parameter estimate within the interval? {'Yes' if parameter_estimates[index] >= interval[0] and parameter_estimates[index] <= interval[1] else 'No'}\")\n",
    "    print()\n",
    "\n",
    "parameter_estimates"
   ],
   "execution_count":608,
   "outputs":[
    {
     "name":"stdout",
     "text":[
      "Confidence Interval for parameter 0 (Intercept): [27.630042575036622, 30.678538093849756]\n",
      "Is the population parameter estimate within the interval? Yes\n",
      "\n",
      "Confidence Interval for parameter 1 (Heart_Disease): [-2.4535652785965794, 4.223945120831681]\n",
      "Is the population parameter estimate within the interval? Yes\n",
      "\n",
      "Confidence Interval for parameter 2 (Sex): [-2.13024017073798, 1.5413334600231223]\n",
      "Is the population parameter estimate within the interval? Yes\n",
      "\n",
      "Confidence Interval for parameter 3 (Alcohol_Consumption): [-0.19933711580122862, 0.023948944448405257]\n",
      "Is the population parameter estimate within the interval? Yes\n",
      "\n"
     ],
     "output_type":"stream"
    },
    {
     "data":{
      "text\/html":[
       "<pre>array([29.15429033,  0.88518992, -0.29445336, -0.08769409])<\/pre>"
      ]
     },
     "metadata":{
      
     },
     "output_type":"display_data"
    }
   ],
   "metadata":{
    "datalore":{
     "node_id":"oG5xggxtjVs5Fls4NkAIPF",
     "type":"CODE",
     "hide_input_from_viewers":true,
     "hide_output_from_viewers":true
    }
   }
  },
  {
   "cell_type":"markdown",
   "source":[
    "### ב"
   ],
   "attachments":{
    
   },
   "metadata":{
    "datalore":{
     "node_id":"ha6EvRkVLNWg6YzxDo5gt8",
     "type":"MD",
     "hide_input_from_viewers":true,
     "hide_output_from_viewers":true
    }
   }
  },
  {
   "cell_type":"code",
   "source":[
    "# Initialize lists to store bootstrap estimates for each coefficient.\n",
    "intercept_coefficients = []\n",
    "beta_1_coefficients = []\n",
    "beta_2_coefficients = []\n",
    "beta_3_coefficients = []\n",
    "\n",
    "# Perform bootstrap sampling and estimation.\n",
    "for iteration in range(B):\n",
    "    bootstrap_sample = df.sample(n, replace=True)\n",
    "    bootstrap_predictors = bootstrap_sample[x_list].to_numpy()\n",
    "    bootstrap_predictors = np.c_[np.ones(bootstrap_predictors.shape[0]), bootstrap_predictors]\n",
    "    bootstrap_response = bootstrap_sample[y_title].to_numpy()\n",
    "    product_response_bootstrap = np.matmul(bootstrap_predictors.T, bootstrap_response)\n",
    "    matrix_inverse_bootstrap = np.linalg.inv(bootstrap_predictors.T @ bootstrap_predictors)\n",
    "    ols_estimator_bootstrap = np.matmul(matrix_inverse_bootstrap, product_response_bootstrap)\n",
    "    intercept_coefficients.append(ols_estimator_bootstrap[0])\n",
    "    beta_1_coefficients.append(ols_estimator_bootstrap[1])\n",
    "    beta_2_coefficients.append(ols_estimator_bootstrap[2])\n",
    "    beta_3_coefficients.append(ols_estimator_bootstrap[3])\n",
    "\n",
    "# Calculate standard errors for each coefficient based on bootstrap samples.\n",
    "bootstrap_standard_errors = [np.std(intercept_coefficients), np.std(beta_1_coefficients), np.std(beta_2_coefficients), np.std(beta_3_coefficients)]\n",
    "\n",
    "# Construct confidence intervals using the normal approximation from bootstrap standard errors.\n",
    "bootstrap_confidence_intervals = []\n",
    "for index, feature in enumerate(['Intercept'] + x_list):\n",
    "    confidence_interval = [ols_estimator_bootstrap[index] - stats.norm.ppf(0.975) * bootstrap_standard_errors[index], \n",
    "                           ols_estimator_bootstrap[index] + stats.norm.ppf(0.975) * bootstrap_standard_errors[index]]\n",
    "    bootstrap_confidence_intervals.append(confidence_interval)\n",
    "    print(f\"Confidence Interval for coefficient {index} ({feature}): {confidence_interval}\")\n",
    "    print(f\"Does the interval include the population parameter estimate? {'Yes' if parameter_estimates[index] >= confidence_interval[0] and parameter_estimates[index] <= confidence_interval[1] else 'No'}\\n\")"
   ],
   "execution_count":609,
   "outputs":[
    {
     "name":"stdout",
     "text":[
      "Confidence Interval for coefficient 0 (Intercept): [27.34279304403355, 30.15876742190705]\n",
      "Does the interval include the population parameter estimate? Yes\n",
      "\n",
      "Confidence Interval for coefficient 1 (Heart_Disease): [-2.1608715034642607, 4.619618427871696]\n",
      "Does the interval include the population parameter estimate? Yes\n",
      "\n",
      "Confidence Interval for coefficient 2 (Sex): [-2.0476598742844754, 1.7837502765907092]\n",
      "Does the interval include the population parameter estimate? Yes\n",
      "\n",
      "Confidence Interval for coefficient 3 (Alcohol_Consumption): [-0.16185897007837038, 0.024103391389495493]\n",
      "Does the interval include the population parameter estimate? Yes\n",
      "\n"
     ],
     "output_type":"stream"
    }
   ],
   "metadata":{
    "datalore":{
     "node_id":"IRG9OWUrc8zOvhZsbIEmVT",
     "type":"CODE",
     "hide_input_from_viewers":true,
     "hide_output_from_viewers":true
    }
   }
  },
  {
   "cell_type":"markdown",
   "source":[
    "### ג"
   ],
   "attachments":{
    
   },
   "metadata":{
    "datalore":{
     "node_id":"eMAtdCDZuVFlhBzMsGnsd4",
     "type":"MD",
     "hide_input_from_viewers":true,
     "hide_output_from_viewers":true
    }
   }
  },
  {
   "cell_type":"code",
   "source":[
    "# Initialize a dictionary to store quantiles of bootstrap estimates.\n",
    "bootstrap_quantiles = {}\n",
    "\n",
    "# Define the names for the coefficients\n",
    "coefficient_names = ['intercept', 'beta_1', 'beta_2', 'beta_3']\n",
    "coefs = [intercept_coefficients, beta_1_coefficients, beta_2_coefficients, beta_3_coefficients]\n",
    "\n",
    "# Calculate the 2.5th and 97.5th percentiles for each bootstrap coefficient distribution.\n",
    "for name, coef in zip(coefficient_names, coefs):\n",
    "    bootstrap_quantiles[name] = (np.quantile(coef, 0.975), np.quantile(coef, 0.025))\n",
    "\n",
    "# Compute the pivotal confidence intervals.\n",
    "pivotal_intervals = []\n",
    "for index, (predictor, name) in enumerate(zip(['Intercept'] + x_list, coefficient_names)):\n",
    "    interval = [2 * parameter_estimates[index] - bootstrap_quantiles[name][0], \n",
    "                2 * parameter_estimates[index] - bootstrap_quantiles[name][1]]\n",
    "    pivotal_intervals.append(interval)\n",
    "    print(f\"Confidence Interval for {predictor} (coefficient {index}): {interval}\")\n",
    "    print(f\"Does the interval include the population parameter estimate? {'Yes' if parameter_estimates[index] >= interval[0] and parameter_estimates[index] <= interval[1] else 'No'}\\n\")"
   ],
   "execution_count":610,
   "outputs":[
    {
     "name":"stdout",
     "text":[
      "Confidence Interval for Intercept (coefficient 0): [27.696188919065694, 30.4554255500578]\n",
      "Does the interval include the population parameter estimate? Yes\n",
      "\n",
      "Confidence Interval for Heart_Disease (coefficient 1): [-2.980020020793149, 4.023494601061506]\n",
      "Does the interval include the population parameter estimate? Yes\n",
      "\n",
      "Confidence Interval for Sex (coefficient 2): [-2.102183833185758, 1.7183752286380867]\n",
      "Does the interval include the population parameter estimate? Yes\n",
      "\n",
      "Confidence Interval for Alcohol_Consumption (coefficient 3): [-0.1836248056560948, 0.008100798493758415]\n",
      "Does the interval include the population parameter estimate? Yes\n",
      "\n"
     ],
     "output_type":"stream"
    }
   ],
   "metadata":{
    "datalore":{
     "node_id":"eWjkfbwyTUIAdgxNrCQwUc",
     "type":"CODE",
     "hide_input_from_viewers":true,
     "hide_output_from_viewers":true
    }
   }
  },
  {
   "cell_type":"markdown",
   "source":[
    "### ד"
   ],
   "attachments":{
    
   },
   "metadata":{
    "datalore":{
     "node_id":"ji95vYaNFf5DIDRNPzHZ0Y",
     "type":"MD",
     "hide_input_from_viewers":true,
     "hide_output_from_viewers":true
    }
   }
  },
  {
   "cell_type":"code",
   "source":[
    "# Construct confidence intervals using the quantiles method from bootstrap samples.\n",
    "quantiles_intervals = []\n",
    "# Define the names for the coefficients as before\n",
    "coefficient_names = ['intercept', 'beta_1', 'beta_2', 'beta_3']\n",
    "\n",
    "for index, (predictor, name) in enumerate(zip(['Intercept'] + x_list, coefficient_names)):\n",
    "    interval = [bootstrap_quantiles[name][1], bootstrap_quantiles[name][0]]\n",
    "    quantiles_intervals.append(interval)\n",
    "    print(f\"Confidence Interval for {predictor} (coefficient {index}): {interval}\")\n",
    "    print(f\"Does the interval include the population parameter estimate? {'Yes' if parameter_estimates[index] >= interval[0] and parameter_estimates[index] <= interval[1] else 'No'}\\n\")"
   ],
   "execution_count":611,
   "outputs":[
    {
     "name":"stdout",
     "text":[
      "Confidence Interval for Intercept (coefficient 0): [27.853155118828578, 30.612391749820684]\n",
      "Does the interval include the population parameter estimate? Yes\n",
      "\n",
      "Confidence Interval for Heart_Disease (coefficient 1): [-2.253114758826404, 4.7503998630282505]\n",
      "Does the interval include the population parameter estimate? Yes\n",
      "\n",
      "Confidence Interval for Sex (coefficient 2): [-2.307281939352944, 1.5132771224709003]\n",
      "Does the interval include the population parameter estimate? Yes\n",
      "\n",
      "Confidence Interval for Alcohol_Consumption (coefficient 3): [-0.18348896984658178, 0.008236634303271434]\n",
      "Does the interval include the population parameter estimate? Yes\n",
      "\n"
     ],
     "output_type":"stream"
    }
   ],
   "metadata":{
    "datalore":{
     "node_id":"vqLyTPif9X7Ag5EWeDpfK8",
     "type":"CODE",
     "hide_input_from_viewers":true,
     "hide_output_from_viewers":true
    }
   }
  },
  {
   "cell_type":"markdown",
   "source":[
    "## Q2"
   ],
   "attachments":{
    
   },
   "metadata":{
    "datalore":{
     "node_id":"QH6dAq7TC6jv2CD5JeR2Vq",
     "type":"MD",
     "hide_input_from_viewers":true,
     "hide_output_from_viewers":true
    }
   }
  },
  {
   "cell_type":"code",
   "source":[
    "# Initialize a dictionary to store the lengths of confidence intervals for each coefficient and method.\n",
    "ci_lengths = {\"coefficient\": [\"Intercept\", \"Heart_Disease\", \"Sex\", \"Alcohol_Consumption\"],\n",
    "              \"normal_matrix\": [],\n",
    "              \"normal_bootstrap\": [],\n",
    "              \"pivot_bootstrap\": [],\n",
    "              \"quantile_bootstrap\": []}\n",
    "\n",
    "# Calculate the lengths of the confidence intervals for each method and coefficient.\n",
    "for idx in range(p):\n",
    "    ci_lengths[\"normal_matrix\"].append(round(intervals_of_confidence[idx][1] - intervals_of_confidence[idx][0], 4))\n",
    "    ci_lengths[\"normal_bootstrap\"].append(round(bootstrap_confidence_intervals[idx][1] - bootstrap_confidence_intervals[idx][0], 4))\n",
    "    ci_lengths[\"pivot_bootstrap\"].append(round(pivotal_intervals[idx][1] - pivotal_intervals[idx][0], 4))\n",
    "    ci_lengths[\"quantile_bootstrap\"].append(round(quantiles_intervals[idx][1] - quantiles_intervals[idx][0], 4))\n",
    "   \n",
    "\n",
    "# Convert the dictionary to a DataFrame and set the coefficient names as the index.\n",
    "ci_lengths_df = pd.DataFrame(ci_lengths)\n",
    "ci_lengths_df = ci_lengths_df.set_index(\"coefficient\", drop=True)\n",
    "ci_lengths_df"
   ],
   "execution_count":612,
   "outputs":[
    {
     "data":{
      "text\/html":[
       "<div>\n",
       "<style scoped>\n",
       "    .dataframe tbody tr th:only-of-type {\n",
       "        vertical-align: middle;\n",
       "    }\n",
       "\n",
       "    .dataframe tbody tr th {\n",
       "        vertical-align: top;\n",
       "    }\n",
       "\n",
       "    .dataframe thead th {\n",
       "        text-align: right;\n",
       "    }\n",
       "<\/style>\n",
       "<table border=\"1\" class=\"dataframe\">\n",
       "  <thead>\n",
       "    <tr style=\"text-align: right;\">\n",
       "      <th><\/th>\n",
       "      <th>normal_matrix<\/th>\n",
       "      <th>normal_bootstrap<\/th>\n",
       "      <th>pivot_bootstrap<\/th>\n",
       "      <th>quantile_bootstrap<\/th>\n",
       "    <\/tr>\n",
       "    <tr>\n",
       "      <th>coefficient<\/th>\n",
       "      <th><\/th>\n",
       "      <th><\/th>\n",
       "      <th><\/th>\n",
       "      <th><\/th>\n",
       "    <\/tr>\n",
       "  <\/thead>\n",
       "  <tbody>\n",
       "    <tr>\n",
       "      <th>Intercept<\/th>\n",
       "      <td>3.0485<\/td>\n",
       "      <td>2.8160<\/td>\n",
       "      <td>2.7592<\/td>\n",
       "      <td>2.7592<\/td>\n",
       "    <\/tr>\n",
       "    <tr>\n",
       "      <th>Heart_Disease<\/th>\n",
       "      <td>6.6775<\/td>\n",
       "      <td>6.7805<\/td>\n",
       "      <td>7.0035<\/td>\n",
       "      <td>7.0035<\/td>\n",
       "    <\/tr>\n",
       "    <tr>\n",
       "      <th>Sex<\/th>\n",
       "      <td>3.6716<\/td>\n",
       "      <td>3.8314<\/td>\n",
       "      <td>3.8206<\/td>\n",
       "      <td>3.8206<\/td>\n",
       "    <\/tr>\n",
       "    <tr>\n",
       "      <th>Alcohol_Consumption<\/th>\n",
       "      <td>0.2233<\/td>\n",
       "      <td>0.1860<\/td>\n",
       "      <td>0.1917<\/td>\n",
       "      <td>0.1917<\/td>\n",
       "    <\/tr>\n",
       "  <\/tbody>\n",
       "<\/table>\n",
       "<\/div>"
      ]
     },
     "metadata":{
      
     },
     "output_type":"display_data"
    }
   ],
   "metadata":{
    "datalore":{
     "node_id":"PVbHCoPufGKedIkUngMDjf",
     "type":"CODE",
     "hide_input_from_viewers":true,
     "hide_output_from_viewers":true
    }
   }
  },
  {
   "cell_type":"markdown",
   "source":[
    "## Q3"
   ],
   "attachments":{
    
   },
   "metadata":{
    "datalore":{
     "node_id":"qcJaq1YhQHR9b8rh59wJxt",
     "type":"MD",
     "hide_input_from_viewers":true,
     "hide_output_from_viewers":true
    }
   }
  },
  {
   "cell_type":"markdown",
   "source":[
    "### א"
   ],
   "attachments":{
    
   },
   "metadata":{
    "datalore":{
     "node_id":"WVM9M5ZBJXGfZinCDCkZjx",
     "type":"MD",
     "hide_input_from_viewers":true,
     "hide_output_from_viewers":true
    }
   }
  },
  {
   "cell_type":"code",
   "source":[
    "# Set the seed for reproducible random sampling.\n",
    "np.random.seed(101)\n",
    "\n",
    "# Merge the full dataframe with the sampled dataframe to identify rows not in the sample.\n",
    "merged_data = df.merge(df_sampled, how='left', indicator=True)\n",
    "unsampled_data = merged_data[merged_data[\"_merge\"] == \"left_only\"]\n",
    "\n",
    "# Randomly select 100 rows from the unsampled data.\n",
    "new_sample = unsampled_data.sample(100).drop(\"_merge\", axis=1)\n",
    "new_sample"
   ],
   "execution_count":613,
   "outputs":[
    {
     "data":{
      "text\/html":[
       "<div>\n",
       "<style scoped>\n",
       "    .dataframe tbody tr th:only-of-type {\n",
       "        vertical-align: middle;\n",
       "    }\n",
       "\n",
       "    .dataframe tbody tr th {\n",
       "        vertical-align: top;\n",
       "    }\n",
       "\n",
       "    .dataframe thead th {\n",
       "        text-align: right;\n",
       "    }\n",
       "<\/style>\n",
       "<table border=\"1\" class=\"dataframe\">\n",
       "  <thead>\n",
       "    <tr style=\"text-align: right;\">\n",
       "      <th><\/th>\n",
       "      <th>Heart_Disease<\/th>\n",
       "      <th>Sex<\/th>\n",
       "      <th>Age_Category<\/th>\n",
       "      <th>BMI<\/th>\n",
       "      <th>Alcohol_Consumption<\/th>\n",
       "    <\/tr>\n",
       "  <\/thead>\n",
       "  <tbody>\n",
       "    <tr>\n",
       "      <th>35594<\/th>\n",
       "      <td>0<\/td>\n",
       "      <td>0<\/td>\n",
       "      <td>25-29<\/td>\n",
       "      <td>24.03<\/td>\n",
       "      <td>4.0<\/td>\n",
       "    <\/tr>\n",
       "    <tr>\n",
       "      <th>265415<\/th>\n",
       "      <td>0<\/td>\n",
       "      <td>0<\/td>\n",
       "      <td>40-44<\/td>\n",
       "      <td>24.41<\/td>\n",
       "      <td>0.0<\/td>\n",
       "    <\/tr>\n",
       "    <tr>\n",
       "      <th>287574<\/th>\n",
       "      <td>0<\/td>\n",
       "      <td>0<\/td>\n",
       "      <td>35-39<\/td>\n",
       "      <td>26.63<\/td>\n",
       "      <td>0.0<\/td>\n",
       "    <\/tr>\n",
       "    <tr>\n",
       "      <th>293114<\/th>\n",
       "      <td>0<\/td>\n",
       "      <td>1<\/td>\n",
       "      <td>75-79<\/td>\n",
       "      <td>24.09<\/td>\n",
       "      <td>0.0<\/td>\n",
       "    <\/tr>\n",
       "    <tr>\n",
       "      <th>17671<\/th>\n",
       "      <td>0<\/td>\n",
       "      <td>0<\/td>\n",
       "      <td>55-59<\/td>\n",
       "      <td>33.96<\/td>\n",
       "      <td>1.0<\/td>\n",
       "    <\/tr>\n",
       "    <tr>\n",
       "      <th>...<\/th>\n",
       "      <td>...<\/td>\n",
       "      <td>...<\/td>\n",
       "      <td>...<\/td>\n",
       "      <td>...<\/td>\n",
       "      <td>...<\/td>\n",
       "    <\/tr>\n",
       "    <tr>\n",
       "      <th>258822<\/th>\n",
       "      <td>0<\/td>\n",
       "      <td>1<\/td>\n",
       "      <td>30-34<\/td>\n",
       "      <td>31.89<\/td>\n",
       "      <td>0.0<\/td>\n",
       "    <\/tr>\n",
       "    <tr>\n",
       "      <th>67832<\/th>\n",
       "      <td>0<\/td>\n",
       "      <td>0<\/td>\n",
       "      <td>18-24<\/td>\n",
       "      <td>28.12<\/td>\n",
       "      <td>0.0<\/td>\n",
       "    <\/tr>\n",
       "    <tr>\n",
       "      <th>172314<\/th>\n",
       "      <td>0<\/td>\n",
       "      <td>0<\/td>\n",
       "      <td>55-59<\/td>\n",
       "      <td>33.52<\/td>\n",
       "      <td>0.0<\/td>\n",
       "    <\/tr>\n",
       "    <tr>\n",
       "      <th>229195<\/th>\n",
       "      <td>0<\/td>\n",
       "      <td>0<\/td>\n",
       "      <td>75-79<\/td>\n",
       "      <td>25.10<\/td>\n",
       "      <td>28.0<\/td>\n",
       "    <\/tr>\n",
       "    <tr>\n",
       "      <th>289831<\/th>\n",
       "      <td>1<\/td>\n",
       "      <td>0<\/td>\n",
       "      <td>55-59<\/td>\n",
       "      <td>20.92<\/td>\n",
       "      <td>0.0<\/td>\n",
       "    <\/tr>\n",
       "  <\/tbody>\n",
       "<\/table>\n",
       "<p>100 rows × 5 columns<\/p>\n",
       "<\/div>"
      ]
     },
     "metadata":{
      
     },
     "output_type":"display_data"
    }
   ],
   "metadata":{
    "datalore":{
     "node_id":"42lbtNjfY4joOwmOxQSTu5",
     "type":"CODE",
     "hide_input_from_viewers":true,
     "hide_output_from_viewers":true
    }
   }
  },
  {
   "cell_type":"code",
   "source":[
    "# Prepare the design matrix for the new sample and the response variable.\n",
    "predictors_new = new_sample[x_list].to_numpy()\n",
    "predictors_new = np.c_[np.ones(predictors_new.shape[0]), predictors_new]\n",
    "response_real = new_sample[y_title].to_numpy()\n",
    "\n",
    "# Predict the response variable for the new sample using the OLS estimator from the sampled data.\n",
    "predicted_response = np.dot(predictors_new, parameter_estimates)"
   ],
   "execution_count":614,
   "outputs":[
    
   ],
   "metadata":{
    "datalore":{
     "node_id":"Ruz6rRBoRngXgyjMSc56r5",
     "type":"CODE",
     "hide_input_from_viewers":true,
     "hide_output_from_viewers":true
    }
   }
  },
  {
   "cell_type":"markdown",
   "source":[
    "### ב"
   ],
   "attachments":{
    
   },
   "metadata":{
    "datalore":{
     "node_id":"xk2YYJGLU5fFyZVojjts6z",
     "type":"MD",
     "hide_input_from_viewers":true,
     "hide_output_from_viewers":true
    }
   }
  },
  {
   "cell_type":"code",
   "source":[
    "# Initialize a list to store predicted responses from bootstrap samples.\n",
    "bootstrap_predicted_responses = []\n",
    "\n",
    "# Perform bootstrap sampling and prediction for the new sample.\n",
    "for iteration in range(B):\n",
    "    bootstrap_sample = df_sampled.sample(n, replace=True)\n",
    "    bootstrap_predictors = bootstrap_sample[x_list].to_numpy()\n",
    "    bootstrap_predictors = np.c_[np.ones(bootstrap_predictors.shape[0]), bootstrap_predictors]\n",
    "    bootstrap_response = bootstrap_sample[y_title].to_numpy()\n",
    "    product_response_bootstrap = np.dot(bootstrap_predictors.T, bootstrap_response)\n",
    "    matrix_inverse_bootstrap = np.linalg.inv(bootstrap_predictors.T @ bootstrap_predictors)\n",
    "    ols_estimator_bootstrap = np.dot(matrix_inverse_bootstrap, product_response_bootstrap)\n",
    "    predicted_response_bootstrap = np.dot(predictors_new, ols_estimator_bootstrap)\n",
    "    bootstrap_predicted_responses.append(predicted_response_bootstrap)\n",
    "\n"
   ],
   "execution_count":615,
   "outputs":[
    
   ],
   "metadata":{
    "datalore":{
     "node_id":"7zZOOJUKOK8piWrfigFzZJ",
     "type":"CODE",
     "hide_input_from_viewers":true,
     "hide_output_from_viewers":true
    }
   }
  },
  {
   "cell_type":"markdown",
   "source":[
    "### ג"
   ],
   "attachments":{
    
   },
   "metadata":{
    "datalore":{
     "node_id":"m7S6e7x2rhzVIvKbsk4oPW",
     "type":"MD",
     "hide_input_from_viewers":true,
     "hide_output_from_viewers":true
    }
   }
  },
  {
   "cell_type":"code",
   "source":[
    "# Calculate the percentage of times the confidence interval contains the real response.\n",
    "counter = 0\n",
    "for i in range(len(predicted_response)):\n",
    "    yi_se = np.std([y[i] for y in bootstrap_predicted_responses])\n",
    "    yi_ci = [predicted_response[i] - z_value * yi_se, predicted_response[i] + z_value * yi_se]\n",
    "    if response_real[i] >= yi_ci[0] and response_real[i] <= yi_ci[1]:\n",
    "        counter += 1\n",
    "\n",
    "print(f\"Percentage: number of times C.I contained the real response: {counter \/ len(predicted_response) * 100}%\")"
   ],
   "execution_count":616,
   "outputs":[
    {
     "name":"stdout",
     "text":[
      "Percentage: number of times C.I contained the real response: 23.0%\n"
     ],
     "output_type":"stream"
    }
   ],
   "metadata":{
    "datalore":{
     "node_id":"1vr5IFE2SDOcfBsWwH1y9h",
     "type":"CODE",
     "hide_input_from_viewers":true,
     "hide_output_from_viewers":true
    }
   }
  },
  {
   "cell_type":"markdown",
   "source":[
    "The observation that only 23% of the Confidence Intervals (CIs) include $Y_{\\text{new}}$ might seem unusual at first, but it makes sense when you consider what these intervals represent. They're built around the expected value of the prediction, shown as $E(Y_{\\text{new}} | X_{\\text{new}})$, not the individual predictions themselves. Because these CIs focus on the average predicted value, they tend to be narrower. They don't account for the full range of possible outcomes for each prediction, which is why fewer of them contain the actual value of $Y_{\\text{new}}$."
   ],
   "attachments":{
    
   },
   "metadata":{
    "datalore":{
     "node_id":"11jbdKLcOaf3iPulAx2ufe",
     "type":"MD",
     "hide_input_from_viewers":true,
     "hide_output_from_viewers":true
    }
   }
  },
  {
   "cell_type":"markdown",
   "source":[
    "### ד"
   ],
   "attachments":{
    
   },
   "metadata":{
    "datalore":{
     "node_id":"xjE8lrzMHW8iJmGvrjVuQN",
     "type":"MD",
     "hide_input_from_viewers":true,
     "hide_output_from_viewers":true
    }
   }
  },
  {
   "cell_type":"markdown",
   "source":[
    "The variance of the new observations, which is denoted by $\\sigma_{\\epsilon}^2$, can be divided into two parts. The first part is the variance due to the input data, which we denote by $\\sigma_{\\epsilon}^2 X_{\\text{new}} C X_{\\text{new}}^T$. The second part is the inherent variance of the model, which is denoted by $\\sigma_{\\epsilon}^2$.\n",
    "\n",
    "We'll adjust our computation by using the bootstrap method to estimate the variance of the residuals as before. However, the variance estimator for a new observation will now be calculated as follows:\n",
    "\n",
    "${\\hat{\\sigma}^{*2}_{\\epsilon} \\cdot \\mathbf{X}_{\\text{new}}^\\top \\cdot \\mathbf{C} \\cdot \\mathbf{X}_{\\text{new}} + \\hat{\\sigma}^{*2}_{\\epsilon}}$\n",
    "\n",
    "Where ${\\hat{\\sigma}^{*2}}_{\\epsilon}$ represents the bootstrap estimator for ${\\sigma}^{*2}_{\\epsilon}$."
   ],
   "attachments":{
    
   },
   "metadata":{
    "datalore":{
     "node_id":"qlX2gEzDHzQtg9fvCJELdO",
     "type":"MD",
     "hide_input_from_viewers":true,
     "hide_output_from_viewers":true
    }
   }
  },
  {
   "cell_type":"markdown",
   "source":[
    "# PART 2"
   ],
   "attachments":{
    
   },
   "metadata":{
    "datalore":{
     "node_id":"IUgpGCvk9oXs5nIVqu9Y3E",
     "type":"MD",
     "hide_input_from_viewers":true,
     "hide_output_from_viewers":true
    }
   }
  },
  {
   "cell_type":"markdown",
   "source":[
    "## Q1\n",
    "*Our original research question in Project p.2 was: Is there a difference in mean BMI between males and females?*\n",
    "\n",
    "So this will be our research question for this part: **Is the distribution of BMI among males bigger than the distribution of BMI among females?**\n"
   ],
   "attachments":{
    
   },
   "metadata":{
    "datalore":{
     "node_id":"SRpfiyJCTdjYoDm1XN9X1l",
     "type":"MD",
     "hide_input_from_viewers":true,
     "hide_output_from_viewers":true
    }
   }
  },
  {
   "cell_type":"markdown",
   "source":[
    "## Q2"
   ],
   "attachments":{
    
   },
   "metadata":{
    "datalore":{
     "node_id":"WwyBKHKTnqsWIdTcFaYTJp",
     "type":"MD",
     "hide_input_from_viewers":true,
     "hide_output_from_viewers":true
    }
   }
  },
  {
   "cell_type":"code",
   "source":[
    "# q2\n",
    "n = 200\n",
    "np.random.seed(101)\n",
    "df2_sampled = df2.sample(n)"
   ],
   "execution_count":617,
   "outputs":[
    
   ],
   "metadata":{
    "datalore":{
     "node_id":"rsXwphv6BwiJaCHh9TPkzc",
     "type":"CODE",
     "hide_input_from_viewers":true,
     "hide_output_from_viewers":true
    }
   }
  },
  {
   "cell_type":"markdown",
   "source":[
    "## Q3"
   ],
   "attachments":{
    
   },
   "metadata":{
    "datalore":{
     "node_id":"czYE1gVBByLBHakkdKbsD2",
     "type":"MD",
     "hide_input_from_viewers":true,
     "hide_output_from_viewers":true
    }
   }
  },
  {
   "cell_type":"markdown",
   "source":[
    "### א"
   ],
   "attachments":{
    
   },
   "metadata":{
    "datalore":{
     "node_id":"gQFJHVGIdPvMEQgdZdbYl8",
     "type":"MD",
     "hide_input_from_viewers":true,
     "hide_output_from_viewers":true
    }
   }
  },
  {
   "cell_type":"code",
   "source":[
    "# Q3.a index 1 refers to males, index to refers to females\n",
    "males_df = df2_sampled[df2_sampled['Sex'] == 0]\n",
    "females_df = df2_sampled[df2_sampled['Sex'] == 1]\n",
    "n_males = len(males_df)\n",
    "n_females = len(females_df)\n",
    "mu_1 = males_df['BMI'].mean()\n",
    "mu_2 = females_df['BMI'].mean()\n",
    "delta = mu_1 - mu_2\n",
    "print(\"Mean BMI of males: {}\".format(mu_1))\n",
    "print(\"Mean BMI of females: {}\".format(mu_2))\n",
    "print(\"mu_1 - mu_2 = {}\".format(delta))"
   ],
   "execution_count":618,
   "outputs":[
    {
     "name":"stdout",
     "text":[
      "Mean BMI of males: 29.221368421052635\n",
      "Mean BMI of females: 28.183238095238092\n",
      "mu_1 - mu_2 = 1.0381303258145422\n"
     ],
     "output_type":"stream"
    }
   ],
   "metadata":{
    "datalore":{
     "node_id":"L0NAQpvppWBWMnjlCaLhNO",
     "type":"CODE",
     "hide_input_from_viewers":true,
     "hide_output_from_viewers":true
    }
   }
  },
  {
   "cell_type":"code",
   "source":[
    "# Titles for the plots\n",
    "titles = [\"Males\", \"Females\"]\n",
    "\n",
    "# Set up the matplotlib figure with two subplots, one row and two columns\n",
    "fig, axes = plt.subplots(nrows=1, ncols=2, figsize=(10, 5))\n",
    "\n",
    "for index, df in enumerate([males_df, females_df]):\n",
    "    # Create a QQ plot in the appropriate subplot\n",
    "    stats.probplot(df['BMI'], dist=\"norm\", plot=axes[index])\n",
    "\n",
    "    # Customize the plot with a conditional title\n",
    "    axes[index].set_title(f\"QQ Plot - {titles[index]}\")\n",
    "    axes[index].set_xlabel(\"Theoretical Quantiles\")\n",
    "    axes[index].set_ylabel(\"Sample Quantiles\")\n",
    "\n",
    "# Adjust the layout so the plots do not overlap\n",
    "plt.tight_layout()\n",
    "\n",
    "# Show the plots\n",
    "plt.show()"
   ],
   "execution_count":619,
   "outputs":[
    {
     "data":{
      "image\/png":"[encoded data removed]"
     },
     "metadata":{
      "image\/png":{
       
      }
     },
     "output_type":"display_data"
    }
   ],
   "metadata":{
    "datalore":{
     "node_id":"iNkeqTbHlIBlS24sukxBL9",
     "type":"CODE",
     "hide_input_from_viewers":true,
     "hide_output_from_viewers":true
    }
   }
  },
  {
   "cell_type":"markdown",
   "source":[
    "The Q-Q plots suggest the data likely follows a Normal distribution, implying that the means are normally distributed. This indicates the mean is the maximum likelihood estimate (MLE). Furthermore, since the difference between MLEs is also an MLE, the delta value qualifies as an MLE too."
   ],
   "attachments":{
    
   },
   "metadata":{
    "datalore":{
     "node_id":"QERE8HOFOzyddYr0vCD0rk",
     "type":"MD",
     "hide_input_from_viewers":true,
     "hide_output_from_viewers":true
    }
   }
  },
  {
   "cell_type":"markdown",
   "source":[
    "### ב"
   ],
   "attachments":{
    
   },
   "metadata":{
    "datalore":{
     "node_id":"9RbKmsFUoWNtlajkCcecZy",
     "type":"MD",
     "hide_input_from_viewers":true,
     "hide_output_from_viewers":true
    }
   }
  },
  {
   "cell_type":"code",
   "source":[
    "#3.b\n",
    "\n",
    "alpha = 0.05\n",
    "z_critical = stats.norm.ppf(1 - alpha \/ 2)\n",
    "std_males = np.std(males_df['BMI'])\n",
    "std_females = np.std(females_df['BMI'])\n",
    "delta_var = std_males ** 2 + std_females ** 2\n",
    "delta_std = np.sqrt(delta_var)\n",
    "confidence_interval_difference = [delta - z_critical * (delta_std \/ np.sqrt(n)),\n",
    "                                  delta + z_critical * (delta_std \/ np.sqrt(n))]\n",
    "print(f\"The CI for delta is: {confidence_interval_difference}\")"
   ],
   "execution_count":620,
   "outputs":[
    {
     "name":"stdout",
     "text":[
      "The CI for delta is: [-0.16055325881576876, 2.2368139104448534]\n"
     ],
     "output_type":"stream"
    }
   ],
   "metadata":{
    "datalore":{
     "node_id":"xseWbpyTxyk7yU3J298S5v",
     "type":"CODE",
     "hide_input_from_viewers":true,
     "hide_output_from_viewers":true
    }
   }
  },
  {
   "cell_type":"markdown",
   "source":[
    "### ג"
   ],
   "attachments":{
    
   },
   "metadata":{
    "datalore":{
     "node_id":"1nCfenpJsOCNPQ6e6DKwGb",
     "type":"MD",
     "hide_input_from_viewers":true,
     "hide_output_from_viewers":true
    }
   }
  },
  {
   "cell_type":"code",
   "source":[
    "#3.c\n",
    "maled_df_all = df2[df2['Sex'] == 0]\n",
    "femaled_df_all = df2[df2['Sex'] == 1]\n",
    "\n",
    "mu_1_all = maled_df_all['BMI'].mean()\n",
    "mu_2_all = femaled_df_all['BMI'].mean()\n",
    "delta_all = mu_1_all - mu_2_all\n",
    "\n",
    "is_in_CI = delta_all <= confidence_interval_difference[1] and delta_all >= confidence_interval_difference[0]\n",
    "print(f\"Delta estimator for the entire data: {delta_all}\")\n",
    "print(f\"Is delta estimator for the entire data inside the CI for delta based on sample data? answer: {is_in_CI}\")"
   ],
   "execution_count":621,
   "outputs":[
    {
     "name":"stdout",
     "text":[
      "Delta estimator for the entire data: 0.14344435649675447\n",
      "Is delta estimator for the entire data inside the CI for delta based on sample data? answer: True\n"
     ],
     "output_type":"stream"
    }
   ],
   "metadata":{
    "datalore":{
     "node_id":"Xg4YMr5IA0EWlyzkKqFocH",
     "type":"CODE",
     "hide_input_from_viewers":true,
     "hide_output_from_viewers":true
    }
   }
  },
  {
   "cell_type":"markdown",
   "source":[
    "### ד"
   ],
   "attachments":{
    
   },
   "metadata":{
    "datalore":{
     "node_id":"KOK74SFqwi5ZrYzDD9nyrH",
     "type":"MD",
     "hide_input_from_viewers":true,
     "hide_output_from_viewers":true
    }
   }
  },
  {
   "cell_type":"code",
   "source":[
    "#3.d - wald test\n",
    "\n",
    "# Compute the pooled variance of BMI for males and females\n",
    "pooled_variance = (std_males ** 2 \/ n_males) + (std_females ** 2 \/ n_females)\n",
    "\n",
    "# Calculate the standard error of the mean difference between male and female BMI\n",
    "standard_error_difference = np.sqrt(pooled_variance)\n",
    "\n",
    "# Define the null hypothesis value for the difference in means (no difference)\n",
    "null_hypothesis_difference = 0\n",
    "\n",
    "# Compute the test statistic for the difference in mean BMI between males and females\n",
    "test_statistic = (delta - null_hypothesis_difference) \/ standard_error_difference\n",
    "\n",
    "p_value_one_sided = stats.norm.cdf(-test_statistic)  # Adjusted for one-sided test\n",
    "\n",
    "print(\"t-statistic:\", test_statistic)\n",
    "print(\"p-value:\", p_value_one_sided)\n",
    "print(f\"Should we reject the null hypothesis? {p_value_one_sided < alpha}\")"
   ],
   "execution_count":622,
   "outputs":[
    {
     "name":"stdout",
     "text":[
      "t-statistic: 1.2073810327928807\n",
      "p-value: 0.11364271832328493\n",
      "Should we reject the null hypothesis? False\n"
     ],
     "output_type":"stream"
    }
   ],
   "metadata":{
    "datalore":{
     "node_id":"YuG8yoQSTU60CWdVVFU9zu",
     "type":"CODE",
     "hide_input_from_viewers":true,
     "hide_output_from_viewers":true
    }
   }
  },
  {
   "cell_type":"code",
   "source":[
    "# 3.d - permutations test  \n",
    "\n",
    "import numpy as np\n",
    "import random\n",
    "\n",
    "# Observed difference in means (delta)\n",
    "observed_difference = delta\n",
    "\n",
    "# Number of permutations\n",
    "num_permutations = 400\n",
    "\n",
    "# Initialize a counter for permutations where the difference is greater or equal\n",
    "counter = 0\n",
    "\n",
    "# Combine all BMI values into a single array for resampling\n",
    "all_BMI_values = np.concatenate([males_df['BMI'].values, females_df['BMI'].values])\n",
    "\n",
    "# Perform the permutation test\n",
    "for _ in range(num_permutations):\n",
    "    # Shuffle the combined BMI randomly\n",
    "    np.random.shuffle(all_BMI_values)\n",
    "\n",
    "    # Split the shuffled BMI into two groups\n",
    "    group1_BMIs = all_BMI_values[:n_males]\n",
    "    group2_BMIs = all_BMI_values[n_males:]\n",
    "\n",
    "    # Calculate the mean BMI for each group\n",
    "    mu_group1 = np.mean(group1_BMIs)\n",
    "    mu_group2 = np.mean(group2_BMIs)\n",
    "\n",
    "    # Calculate the difference in means for this permutation\n",
    "    permuted_difference = mu_group1 - mu_group2\n",
    "\n",
    "    # Check if the permuted difference is greater or equal to the observed difference\n",
    "    if permuted_difference >= observed_difference:\n",
    "        counter += 1\n",
    "\n",
    "# Calculate the p-value\n",
    "p_value = counter \/ num_permutations\n",
    "\n",
    "print(\"Permutation test:\")\n",
    "print(f\"p-value: {p_value}\")\n",
    "print(f\"Reject H0? {p_value < 0.05}\")"
   ],
   "execution_count":623,
   "outputs":[
    {
     "name":"stdout",
     "text":[
      "Permutation test:\n",
      "p-value: 0.1225\n",
      "Reject H0? False\n"
     ],
     "output_type":"stream"
    }
   ],
   "metadata":{
    "datalore":{
     "node_id":"GdtUCVHOZfTTFIL61nXth9",
     "type":"CODE",
     "hide_input_from_viewers":true,
     "hide_output_from_viewers":true
    }
   }
  },
  {
   "cell_type":"markdown",
   "source":[
    "## Q4"
   ],
   "attachments":{
    
   },
   "metadata":{
    "datalore":{
     "node_id":"JbjOHx237s5JtJlRYnCj2r",
     "type":"MD",
     "hide_input_from_viewers":true,
     "hide_output_from_viewers":true
    }
   }
  },
  {
   "cell_type":"markdown",
   "source":[
    "### א"
   ],
   "attachments":{
    
   },
   "metadata":{
    "datalore":{
     "node_id":"m2X2RNWXzE36TDU6lnTwpB",
     "type":"MD",
     "hide_input_from_viewers":true,
     "hide_output_from_viewers":true
    }
   }
  },
  {
   "cell_type":"code",
   "source":[
    "#Q4.a\n",
    "# Calculate the median BMI for males (m_1)\n",
    "m_1 = df2[df2['Sex'] == 0]['BMI'].median()\n",
    "\n",
    "# Calculate the median BMI for females (m_2)\n",
    "m_2 = df2[df2['Sex'] == 1]['BMI'].median()\n",
    "\n",
    "# Calculate the difference between the two medians (delta)\n",
    "delta_medians = m_1 - m_2\n",
    "\n",
    "# Output the results\n",
    "print(f\"Median BMI for males (m_1): {m_1}\")\n",
    "print(f\"Median BMI for females (m_2): {m_2}\")\n",
    "print(f\"Difference in medians (delta): {delta_medians}\")"
   ],
   "execution_count":624,
   "outputs":[
    {
     "name":"stdout",
     "text":[
      "Median BMI for males (m_1): 27.8\n",
      "Median BMI for females (m_2): 27.37\n",
      "Difference in medians (delta): 0.4299999999999997\n"
     ],
     "output_type":"stream"
    }
   ],
   "metadata":{
    "datalore":{
     "node_id":"Z1kRSYokH1zb4HjYOx29cf",
     "type":"CODE",
     "hide_input_from_viewers":true,
     "hide_output_from_viewers":true
    }
   }
  },
  {
   "cell_type":"markdown",
   "source":[
    "We do not know how the median is distributed, so we cannot directly derive an MLE for it.\n",
    "\n",
    "However, in Q3.a we saw (via QQ plots) that it is quite likely that our data is normally distributed. In a normal distribution, the mean and median are the same because of symmetricity. We also know that the mean is normally distributed, thanks to the Central Limit Theorem. Therefore, practically the sample median is a good estimator for the median, even though it's not an MLE in the traditional way."
   ],
   "attachments":{
    
   },
   "metadata":{
    "datalore":{
     "node_id":"2lw6fCWqLsIraRBJELoK4j",
     "type":"MD",
     "hide_input_from_viewers":true,
     "hide_output_from_viewers":true
    }
   }
  },
  {
   "cell_type":"markdown",
   "source":[
    "### ב"
   ],
   "attachments":{
    
   },
   "metadata":{
    "datalore":{
     "node_id":"ovmvt4LFatRMquyBFZ9yn4",
     "type":"MD",
     "hide_input_from_viewers":true,
     "hide_output_from_viewers":true
    }
   }
  },
  {
   "cell_type":"code",
   "source":[
    "#Q4.b + d code\n",
    "\n",
    "B = 400  # Number of permutations\n",
    "delta_values = []\n",
    "\n",
    "# Aggregating all BMI data into a unified array for further analysis\n",
    "all_BMI_values = np.concatenate([males_df['BMI'].values, females_df['BMI'].values])\n",
    "\n",
    "# Establishing the baseline difference in median BMIs\n",
    "delta_est = delta_medians\n",
    "\n",
    "# Initiating bootstrap analysis\n",
    "for i in range(B):\n",
    "    # Generate two new subsets by sampling without replacement\n",
    "    group1_BMIs = np.random.choice(all_BMI_values, size=n_males, replace=False)\n",
    "    group2_BMIs = np.random.choice(all_BMI_values, size=n_females, replace=False)\n",
    "\n",
    "    # Compute the median BMI for each subgroup\n",
    "    mu_group1 = np.median(group1_BMIs)\n",
    "    mu_group2 = np.median(group2_BMIs)\n",
    "\n",
    "    # Determine the median difference for this iteration\n",
    "    delta_b = mu_group1 - mu_group2\n",
    "\n",
    "    # Record the median difference\n",
    "    delta_values.append(delta_b)\n",
    "\n",
    "# Ordering the delta values\n",
    "delta_values_sorted = np.sort(delta_values)\n",
    "\n",
    "# Constructing the QQ plot to assess normality of the delta values\n",
    "stats.probplot(delta_values_sorted, dist=\"norm\", plot=plt)\n",
    "\n",
    "# Configuring the plot's title and axes labels\n",
    "plt.title('Quantile-Quantile Plot of Median Differences')  # Setting the plot title\n",
    "plt.xlabel('Theoretical Quantiles')  # Naming the x-axis\n",
    "plt.ylabel('Empirical Quantiles')  # Naming the y-axis\n",
    "plt.show()\n",
    "\n",
    "# Estimating the 95% confidence interval for the difference in medians\n",
    "ci_lower = np.quantile(delta_values, alpha \/ 2)\n",
    "ci_upper = np.quantile(delta_values, 1 - (alpha \/ 2))\n",
    "print(f\"The 95% confidence interval for the difference in medians is: [{ci_lower}, {ci_upper}]\")\n",
    "\n",
    "\n"
   ],
   "execution_count":625,
   "outputs":[
    {
     "name":"stdout",
     "text":[
      "The 95% confidence interval for the difference in medians is: [-1.2320000000000002, 1.2112499999999997]\n"
     ],
     "output_type":"stream"
    },
    {
     "data":{
      "image\/png":"[encoded data removed]"
     },
     "metadata":{
      "image\/png":{
       
      }
     },
     "output_type":"display_data"
    }
   ],
   "metadata":{
    "datalore":{
     "node_id":"kec2l6RhckoCcGdx6OP8WV",
     "type":"CODE",
     "hide_input_from_viewers":true,
     "hide_output_from_viewers":true
    }
   }
  },
  {
   "cell_type":"markdown",
   "source":[
    "We used bootstrap to first check if we can assume that the delta of medians is normally distributed. The QQ plot indeed confirms this assumption. The CI (based on quantiles) for delta of medians is shown above the QQ plot."
   ],
   "attachments":{
    
   },
   "metadata":{
    "datalore":{
     "node_id":"VyvTazV9Q08znNaRHiWvPn",
     "type":"MD",
     "hide_input_from_viewers":true,
     "hide_output_from_viewers":true
    }
   }
  },
  {
   "cell_type":"markdown",
   "source":[
    "### ג"
   ],
   "attachments":{
    
   },
   "metadata":{
    "datalore":{
     "node_id":"MbBXFqFKMhFKr2Jo8y4TkQ",
     "type":"MD",
     "hide_input_from_viewers":true,
     "hide_output_from_viewers":true
    }
   }
  },
  {
   "cell_type":"code",
   "source":[
    "males_all_median = np.median(maled_df_all['BMI'])\n",
    "females_all_median = np.median(femaled_df_all['BMI'])\n",
    "delta_medians_all = males_all_median - females_all_median\n",
    "is_in_CI = delta_medians_all <= ci_upper and delta_medians_all >= ci_lower\n",
    "print(f\"Delta of medians estimator for full dataset: {delta_medians_all}\")\n",
    "print(f\"Is Delta of medians estimator for full dataset in sample CI ? {is_in_CI}\")"
   ],
   "execution_count":626,
   "outputs":[
    {
     "name":"stdout",
     "text":[
      "Delta of medians estimator for full dataset: 0.4299999999999997\n",
      "Is Delta of medians estimator for full dataset in sample CI ? True\n"
     ],
     "output_type":"stream"
    }
   ],
   "metadata":{
    "datalore":{
     "node_id":"meVYh1RbFNFf2mv7zh7bFI",
     "type":"CODE",
     "hide_input_from_viewers":true,
     "hide_output_from_viewers":true
    }
   }
  },
  {
   "cell_type":"markdown",
   "source":[
    "### ד"
   ],
   "attachments":{
    
   },
   "metadata":{
    "datalore":{
     "node_id":"jCVzs8Mm4C4kUiXCbhsKAZ",
     "type":"MD",
     "hide_input_from_viewers":true,
     "hide_output_from_viewers":true
    }
   }
  },
  {
   "cell_type":"code",
   "source":[
    "# Observed difference in means (delta)\n",
    "observed_difference = delta_medians\n",
    "\n",
    "# Combine all BMI values into a single array for resampling\n",
    "all_BMI_values = np.concatenate([males_df['BMI'].values, females_df['BMI'].values])\n",
    "counter = 0\n",
    "\n",
    "# Perform the permutation test\n",
    "for _ in range(B):\n",
    "    # Shuffle the combined BMI randomly\n",
    "    np.random.shuffle(all_BMI_values)\n",
    "\n",
    "    # Split the shuffled BMI into two groups\n",
    "    group1_BMIs = all_BMI_values[:n_males]\n",
    "    group2_BMIs = all_BMI_values[n_males:]\n",
    "\n",
    "    # Calculate the mean BMI for each group\n",
    "    median_group1 = np.median(group1_BMIs)\n",
    "    median_group2 = np.median(group2_BMIs)\n",
    "\n",
    "    # Calculate the difference in means for this permutation\n",
    "    permuted_difference = median_group1 - median_group2\n",
    "\n",
    "    # Check if the permuted difference is greater or equal to the observed difference\n",
    "    if permuted_difference >= observed_difference:\n",
    "        counter += 1\n",
    "\n",
    "# Calculate the p-value\n",
    "p_value = counter \/ B\n",
    "\n",
    "print(\"Permutation test:\")\n",
    "print(f\"p-value: {p_value}\")\n",
    "print(f\"Reject H0? {p_value < 0.05}\")"
   ],
   "execution_count":627,
   "outputs":[
    {
     "name":"stdout",
     "text":[
      "Permutation test:\n",
      "p-value: 0.3475\n",
      "Reject H0? False\n"
     ],
     "output_type":"stream"
    }
   ],
   "metadata":{
    "datalore":{
     "node_id":"1RMxQdloZT4JokxSj8TJOD",
     "type":"CODE",
     "hide_input_from_viewers":true,
     "hide_output_from_viewers":true
    }
   }
  },
  {
   "cell_type":"markdown",
   "source":[
    "### ה"
   ],
   "attachments":{
    
   },
   "metadata":{
    "datalore":{
     "node_id":"obW61WLMPQoQmXVoVk12v2",
     "type":"MD",
     "hide_input_from_viewers":true,
     "hide_output_from_viewers":true
    }
   }
  },
  {
   "cell_type":"code",
   "source":[
    "from scipy.stats import f\n",
    "\n",
    "# Calculate the sample variances, not the squared standard errors\n",
    "var_males = np.var(males_df['BMI'], ddof=1)\n",
    "var_females = np.var(females_df['BMI'], ddof=1)\n",
    "print(f\"Sample variance of females = {var_females}, sample variance of males ={var_males}\")\n",
    "# Ensure the larger variance is in the numerator to avoid an F-statistic < 1\n",
    "if var_males > var_females:\n",
    "    f_statistic = var_males \/ var_females\n",
    "    df_num = n_males - 1  # degrees of freedom for the numerator\n",
    "    df_den = n_females - 1  # degrees of freedom for the denominator\n",
    "else:\n",
    "    f_statistic = var_females \/ var_males\n",
    "    df_num = n_females - 1\n",
    "    df_den = n_males - 1\n",
    "\n",
    "p_value = 1 - f.cdf(f_statistic, df_num, df_den)  # n-1 DoF\n",
    "\n",
    "print(\"F-statistic:\", f_statistic)\n",
    "print(\"p-value:\", p_value)\n",
    "print(f\"Should we reject the null hypothesis? {p_value < alpha}\")"
   ],
   "execution_count":628,
   "outputs":[
    {
     "name":"stdout",
     "text":[
      "Sample variance of females = 48.49444326007325, sample variance of males =27.059363001119827\n",
      "F-statistic: 1.79215021647281\n",
      "p-value: 0.0021567690781615356\n",
      "Should we reject the null hypothesis? True\n"
     ],
     "output_type":"stream"
    }
   ],
   "metadata":{
    "datalore":{
     "node_id":"iK1A4gJsRqAwaZhPQ5xXaT",
     "type":"CODE",
     "hide_input_from_viewers":true,
     "hide_output_from_viewers":true
    }
   }
  },
  {
   "cell_type":"markdown",
   "source":[
    "T-Test: Since we rejected the null hypothesis in the F test above, the assumption of equal variances does not hold, so we can't use T-test in Q4.d .\n",
    "\n",
    "Wald test: We showed earlier that we can assume that the median is normally distributed, which means that we can use this test."
   ],
   "attachments":{
    
   },
   "metadata":{
    "datalore":{
     "node_id":"roNRqI932gvH9kBb8aSMfW",
     "type":"MD",
     "hide_input_from_viewers":true,
     "hide_output_from_viewers":true
    }
   }
  },
  {
   "cell_type":"markdown",
   "source":[
    "## Q5 "
   ],
   "attachments":{
    
   },
   "metadata":{
    "datalore":{
     "node_id":"nT3mIb5HMGcK3wkQgE0BVe",
     "type":"MD",
     "hide_input_from_viewers":true,
     "hide_output_from_viewers":true
    }
   }
  },
  {
   "cell_type":"code",
   "source":[
    "B = 400  # Number of permutations\n",
    "counter = 0\n",
    "\n",
    "# Combine all BMI values into a single array for resampling\n",
    "all_BMI_values = np.concatenate([males_df['BMI'].values, females_df['BMI'].values])\n",
    "\n",
    "# Rank the combined BMI values\n",
    "ranks = np.argsort(np.argsort(all_BMI_values))\n",
    "\n",
    "# Get the sum of ranks for the original groups\n",
    "original_group1_ranks_sum = np.sum(ranks[:n_males])\n",
    "original_group2_ranks_sum = np.sum(ranks[n_males:])\n",
    "\n",
    "# Your observed difference in sum of ranks (delta)\n",
    "delta_est = original_group1_ranks_sum - original_group2_ranks_sum\n",
    "\n",
    "# Permutation test\n",
    "for _ in range(B):\n",
    "    # Randomly shuffle the ranks\n",
    "    np.random.shuffle(ranks)\n",
    "\n",
    "    # Get the sum of ranks for the permuted groups\n",
    "    perm_group1_ranks_sum = np.sum(ranks[:n_males])\n",
    "    perm_group2_ranks_sum = np.sum(ranks[n_males:])\n",
    "\n",
    "    # Calculate the difference in sum of ranks for this permutation\n",
    "    delta_b = perm_group1_ranks_sum - perm_group2_ranks_sum\n",
    "\n",
    "    # Increment counter if permuted difference is greater than or equal to observed difference\n",
    "    if (delta_b) >= (delta_est):\n",
    "        counter += 1\n",
    "\n",
    "# Calculate the p-value\n",
    "p_value = counter \/ B\n",
    "print(f\"Original difference of ranks: {delta_est}\")\n",
    "print(\"Permutation test for delta of medians:\")\n",
    "print(f\"p-value: {p_value}\")\n",
    "print(f\"Should we reject H0? {p_value < 0.05}\")"
   ],
   "execution_count":629,
   "outputs":[
    {
     "name":"stdout",
     "text":[
      "Original difference of ranks: 740\n",
      "Permutation test for delta of medians:\n",
      "p-value: 0.01\n",
      "Should we reject H0? True\n"
     ],
     "output_type":"stream"
    }
   ],
   "metadata":{
    "datalore":{
     "node_id":"UgsMO7VtI1tYmoYkXcgktu",
     "type":"CODE",
     "hide_input_from_viewers":true,
     "hide_output_from_viewers":true
    }
   }
  },
  {
   "cell_type":"markdown",
   "source":[
    "## Q6"
   ],
   "attachments":{
    
   },
   "metadata":{
    "datalore":{
     "node_id":"TxzK8JRoK8LtA9UD77135B",
     "type":"MD",
     "hide_input_from_viewers":true,
     "hide_output_from_viewers":true
    }
   }
  },
  {
   "cell_type":"code",
   "source":[
    "males_bmi = males_df['BMI'].values\n",
    "females_bmi = females_df['BMI'].values\n",
    "\n",
    "# Set up the matplotlib figure for the combined histogram\n",
    "fig, ax = plt.subplots(figsize=(12, 6))\n",
    "\n",
    "# Determine the common bin size for both groups\n",
    "bins = np.histogram(np.hstack((males_bmi, females_bmi)), bins=20)[1]  # get the bin edges\n",
    "\n",
    "# Plot histogram for males\n",
    "ax.hist(males_bmi, bins=bins, color='blue', alpha=0.7, edgecolor='black', label='Males')\n",
    "\n",
    "# Plot histogram for females\n",
    "ax.hist(females_bmi, bins=bins, color='pink', alpha=0.5, edgecolor='black', label='Females')\n",
    "\n",
    "# Create a legend to differentiate between males and females\n",
    "ax.legend()\n",
    "\n",
    "# Add titles and labels to the axes\n",
    "ax.set_title('Combined BMI Distribution for Males and Females')\n",
    "ax.set_xlabel('BMI')\n",
    "ax.set_ylabel('Frequency')\n",
    "\n",
    "# Show the combined histogram\n",
    "plt.show()"
   ],
   "execution_count":630,
   "outputs":[
    {
     "data":{
      "image\/png":"[encoded data removed]"
     },
     "metadata":{
      "image\/png":{
       
      }
     },
     "output_type":"display_data"
    }
   ],
   "metadata":{
    "datalore":{
     "node_id":"i7hSGOZ0ASb5YkWB6XKuNF",
     "type":"CODE",
     "hide_input_from_viewers":true,
     "hide_output_from_viewers":true
    }
   }
  },
  {
   "cell_type":"markdown",
   "source":[
    "Recap in part 2:\n",
    "\n",
    "In Questions 3 to 5, we examined whether the BMI distributions of males and females are the same (null hypothesis H0), versus whether males have a generally higher BMI than females (alternative hypothesis H1).\n",
    "\n",
    "In Q3, the permutation test on the difference in means did not lead us to reject the null hypothesis.\n",
    "\n",
    "In Q4, similarly, the permutation test on the difference in medians did not convince us to reject the null hypothesis.\n",
    "\n",
    "In Q5, however, we found sufficient evidence to reject the null hypothesis when we used a permutation test on the difference in ranks.\n",
    "\n",
    "The histograms for the two groups show notable differences (also reflected by the F-test's indication of varying variance), complicating our analysis. Nonetheless, there is some indication that the BMI for males trends higher than for females, particularly in the mid to upper ranges of BMI, which supports our decision to reject H0 in Q5."
   ],
   "attachments":{
    
   },
   "metadata":{
    "datalore":{
     "node_id":"jmww9Doq6p7cxkwxPjZwDB",
     "type":"MD",
     "hide_input_from_viewers":true,
     "hide_output_from_viewers":true
    }
   }
  }
 ],
 "metadata":{
  "kernelspec":{
   "display_name":"Python",
   "language":"python",
   "name":"python"
  },
  "datalore":{
   "computation_mode":"JUPYTER",
   "package_manager":"pip",
   "base_environment":"default",
   "packages":[
    
   ],
   "report_row_ids":[
    
   ],
   "version":3
  }
 },
 "nbformat":4,
 "nbformat_minor":4
}