{
 "cells":[
  {
   "cell_type":"markdown",
   "source":[
    "**Link to the dataset**: https:\/\/www.kaggle.com\/datasets\/alphiree\/cardiovascular-diseases-risk-prediction-dataset"
   ],
   "attachments":{
    
   },
   "metadata":{
    "datalore":{
     "node_id":"kMLc0vXRm1hesr9G3lEdF0",
     "type":"MD",
     "hide_input_from_viewers":true,
     "hide_output_from_viewers":true
    }
   }
  },
  {
   "cell_type":"code",
   "source":[
    "import numpy as np\n",
    "import matplotlib.pyplot as plt\n",
    "import pandas as pd\n",
    "import seaborn as sns\n",
    "\n",
    "from scipy import stats\n",
    "# from statsmodels.graphics.gofplots importqqplot\n",
    "from sklearn.linear_model import LogisticRegression\n",
    "import math"
   ],
   "execution_count":40,
   "outputs":[
    
   ],
   "metadata":{
    "datalore":{
     "node_id":"swsdfT97al6kmfrJ3E3MRK",
     "type":"CODE",
     "hide_input_from_viewers":true,
     "hide_output_from_viewers":true
    }
   }
  },
  {
   "cell_type":"code",
   "source":[
    "df = pd.read_csv('\/data\/notebook_files\/CVD_cleaned.csv')"
   ],
   "execution_count":41,
   "outputs":[
    
   ],
   "metadata":{
    "datalore":{
     "node_id":"ysxiIMuhECzyNS1yesuUDX",
     "type":"CODE",
     "hide_input_from_viewers":true,
     "hide_output_from_viewers":true
    }
   }
  },
  {
   "cell_type":"code",
   "source":[
    "# Binary columns transformation\n",
    "\n",
    "df['Heart_Disease'] = df['Heart_Disease'].map({'Yes': 1, 'No': 0})\n",
    "df['Sex'] = df['Sex'].map({'Female': 1, 'Male': 0})"
   ],
   "execution_count":42,
   "outputs":[
    
   ],
   "metadata":{
    "datalore":{
     "node_id":"elCCsvE2mzK4VZr1i751iE",
     "type":"CODE",
     "hide_input_from_viewers":true,
     "hide_output_from_viewers":true
    }
   }
  },
  {
   "cell_type":"code",
   "source":[
    "# Dropping columns we don't need\n",
    "\n",
    "df.drop(columns=['Age_Category','General_Health', 'Checkup', 'Exercise', 'Skin_Cancer', 'Other_Cancer', 'Depression', 'Diabetes',\n",
    "                 'Arthritis', 'Smoking_History', 'Fruit_Consumption', 'Green_Vegetables_Consumption',\n",
    "                 'FriedPotato_Consumption', 'Weight_(kg)', 'Height_(cm)'], inplace=True)\n",
    "df.head()"
   ],
   "execution_count":43,
   "outputs":[
    {
     "data":{
      "text\/html":[
       "<div>\n",
       "<style scoped>\n",
       "    .dataframe tbody tr th:only-of-type {\n",
       "        vertical-align: middle;\n",
       "    }\n",
       "\n",
       "    .dataframe tbody tr th {\n",
       "        vertical-align: top;\n",
       "    }\n",
       "\n",
       "    .dataframe thead th {\n",
       "        text-align: right;\n",
       "    }\n",
       "<\/style>\n",
       "<table border=\"1\" class=\"dataframe\">\n",
       "  <thead>\n",
       "    <tr style=\"text-align: right;\">\n",
       "      <th><\/th>\n",
       "      <th>Heart_Disease<\/th>\n",
       "      <th>Sex<\/th>\n",
       "      <th>BMI<\/th>\n",
       "      <th>Alcohol_Consumption<\/th>\n",
       "    <\/tr>\n",
       "  <\/thead>\n",
       "  <tbody>\n",
       "    <tr>\n",
       "      <th>0<\/th>\n",
       "      <td>0<\/td>\n",
       "      <td>1<\/td>\n",
       "      <td>14.54<\/td>\n",
       "      <td>0.0<\/td>\n",
       "    <\/tr>\n",
       "    <tr>\n",
       "      <th>1<\/th>\n",
       "      <td>1<\/td>\n",
       "      <td>1<\/td>\n",
       "      <td>28.29<\/td>\n",
       "      <td>0.0<\/td>\n",
       "    <\/tr>\n",
       "    <tr>\n",
       "      <th>2<\/th>\n",
       "      <td>0<\/td>\n",
       "      <td>1<\/td>\n",
       "      <td>33.47<\/td>\n",
       "      <td>4.0<\/td>\n",
       "    <\/tr>\n",
       "    <tr>\n",
       "      <th>3<\/th>\n",
       "      <td>1<\/td>\n",
       "      <td>0<\/td>\n",
       "      <td>28.73<\/td>\n",
       "      <td>0.0<\/td>\n",
       "    <\/tr>\n",
       "    <tr>\n",
       "      <th>4<\/th>\n",
       "      <td>0<\/td>\n",
       "      <td>0<\/td>\n",
       "      <td>24.37<\/td>\n",
       "      <td>0.0<\/td>\n",
       "    <\/tr>\n",
       "  <\/tbody>\n",
       "<\/table>\n",
       "<\/div>"
      ]
     },
     "metadata":{
      
     },
     "output_type":"display_data"
    }
   ],
   "metadata":{
    "datalore":{
     "node_id":"BvpcwbMoZK7uTldOhWYBvv",
     "type":"CODE",
     "hide_input_from_viewers":true,
     "hide_output_from_viewers":true
    }
   }
  },
  {
   "cell_type":"markdown",
   "source":[
    "# PART 1"
   ],
   "attachments":{
    
   },
   "metadata":{
    "datalore":{
     "node_id":"BvAb1u54K17Ka33jcD8bad",
     "type":"MD",
     "hide_input_from_viewers":true,
     "hide_output_from_viewers":true
    }
   }
  },
  {
   "cell_type":"markdown",
   "source":[
    "## Q1. \n",
    "Our research question is: What is the effect of alcohol consumption, sex, and having heart disease on BMI?\n"
   ],
   "attachments":{
    
   },
   "metadata":{
    "datalore":{
     "node_id":"9qJVQ2ojAqohlS5oSxIkBW",
     "type":"MD",
     "hide_input_from_viewers":true,
     "hide_output_from_viewers":true
    }
   }
  },
  {
   "cell_type":"markdown",
   "source":[
    "## Q2"
   ],
   "attachments":{
    
   },
   "metadata":{
    "datalore":{
     "node_id":"ykel83aMJYt3TMrVLwUrxk",
     "type":"MD",
     "hide_input_from_viewers":true,
     "hide_output_from_viewers":true
    }
   }
  },
  {
   "cell_type":"code",
   "source":[
    "# q2\n",
    "np.random.seed(100)\n",
    "df_sampled = df.sample(200)"
   ],
   "execution_count":44,
   "outputs":[
    
   ],
   "metadata":{
    "datalore":{
     "node_id":"yLNCEMDcS3KImY3AbOapnf",
     "type":"CODE",
     "hide_input_from_viewers":true,
     "hide_output_from_viewers":true
    }
   }
  },
  {
   "cell_type":"markdown",
   "source":[
    "## Q3"
   ],
   "attachments":{
    
   },
   "metadata":{
    "datalore":{
     "node_id":"heHNu7sIXaXvaCkGh3HZVk",
     "type":"MD",
     "hide_input_from_viewers":true,
     "hide_output_from_viewers":true
    }
   }
  },
  {
   "cell_type":"markdown",
   "source":[
    "### א+ב Variables summary:"
   ],
   "attachments":{
    
   },
   "metadata":{
    "datalore":{
     "node_id":"LzBQrlvSyexMPt5GTDceMM",
     "type":"MD",
     "hide_input_from_viewers":true,
     "hide_output_from_viewers":true
    }
   }
  },
  {
   "cell_type":"markdown",
   "source":[
    "**BMI:**"
   ],
   "attachments":{
    
   },
   "metadata":{
    "datalore":{
     "node_id":"VEwJu7s52ruLF6H0mrNfXx",
     "type":"MD",
     "hide_input_from_viewers":true,
     "hide_output_from_viewers":true
    }
   }
  },
  {
   "cell_type":"code",
   "source":[
    "sns.histplot(data=df_sampled, x='BMI', bins=30)\n",
    "\n",
    "plt.title('BMI histogram')\n",
    "plt.xlabel('BMI Values')\n",
    "plt.ylabel('Frequency')\n",
    "\n",
    "plt.show()"
   ],
   "execution_count":45,
   "outputs":[
    {
     "data":{
      "image\/png":"[encoded data removed]"
     },
     "metadata":{
      "image\/png":{
       
      }
     },
     "output_type":"display_data"
    }
   ],
   "metadata":{
    "datalore":{
     "node_id":"nvRiC64LbiUUTHLuD46iKY",
     "type":"CODE",
     "hide_input_from_viewers":true,
     "hide_output_from_viewers":true
    }
   }
  },
  {
   "cell_type":"markdown",
   "source":[
    "The histogram of BMI values does exhibit some characteristics of a normal distribution, but there appears to be a longer tail on the right side of the distribution, suggesting that there are more individuals with higher BMI values than what would be expected in a normal distribution. "
   ],
   "attachments":{
    
   },
   "metadata":{
    "datalore":{
     "node_id":"LRLWyFjcwlVlxcbUCye20o",
     "type":"MD",
     "hide_input_from_viewers":true,
     "hide_output_from_viewers":true
    }
   }
  },
  {
   "cell_type":"markdown",
   "source":[
    "**Alcohol consumption:**"
   ],
   "attachments":{
    
   },
   "metadata":{
    "datalore":{
     "node_id":"0hK7im2tj9NBQDpB14CxMC",
     "type":"MD",
     "hide_input_from_viewers":true,
     "hide_output_from_viewers":true
    }
   }
  },
  {
   "cell_type":"markdown",
   "source":[
    "We'd like to note that the values within this variable, though they are integers ranging from 0 to 30, likely represent estimations rather than precise quantities. This inference is drawn from the observation that figures like 10, 20, and 30 have notably higher frequencies compared to adjacent values, suggesting that respondents provided rounded estimates of their consumption. Based on this pattern, we will treat this variable as continuous, acknowledging the inherent variability in the data."
   ],
   "attachments":{
    
   },
   "metadata":{
    "datalore":{
     "node_id":"d6CLzHhQK2rQS6LDw1cnQq",
     "type":"MD",
     "hide_input_from_viewers":true,
     "hide_output_from_viewers":true
    }
   }
  },
  {
   "cell_type":"code",
   "source":[
    "unique_values = df_sampled['Alcohol_Consumption'].unique()\n",
    "\n",
    "print(f\"Unique alcohol consumption values: {unique_values}\")\n",
    "\n",
    "print(df_sampled[\"Alcohol_Consumption\"].describe())"
   ],
   "execution_count":46,
   "outputs":[
    {
     "name":"stdout",
     "text":[
      "Unique alcohol consumption values: [30.  8.  2. 12.  0.  4. 20.  3. 28.  5.  1. 29.  7. 25. 15. 24. 10. 16.\n",
      " 23. 18.  6.]\n",
      "count    200.000000\n",
      "mean       5.345000\n",
      "std        8.374163\n",
      "min        0.000000\n",
      "25%        0.000000\n",
      "50%        2.000000\n",
      "75%        8.000000\n",
      "max       30.000000\n",
      "Name: Alcohol_Consumption, dtype: float64\n"
     ],
     "output_type":"stream"
    }
   ],
   "metadata":{
    "datalore":{
     "node_id":"ZHI21ipXcwqU82TGFTiDSs",
     "type":"CODE",
     "hide_input_from_viewers":true,
     "hide_output_from_viewers":true
    }
   }
  },
  {
   "cell_type":"markdown",
   "source":[
    "Although the values in the 'Alcohol_Consumption' column are whole numbers between [0,30], we will refer to this variable as continious."
   ],
   "attachments":{
    
   },
   "metadata":{
    "datalore":{
     "node_id":"wuWms72uZsHmg5t6zBSIBH",
     "type":"MD",
     "hide_input_from_viewers":true,
     "hide_output_from_viewers":true
    }
   }
  },
  {
   "cell_type":"code",
   "source":[
    "sns.histplot(x='Alcohol_Consumption', data=df_sampled, multiple='stack', bins=30).set_title('Alcohol Consuming Distribution')"
   ],
   "execution_count":47,
   "outputs":[
    {
     "data":{
      "text\/plain":[
       "Text(0.5, 1.0, 'Alcohol Consuming Distribution')"
      ]
     },
     "metadata":{
      
     },
     "output_type":"display_data"
    },
    {
     "data":{
      "image\/png":"[encoded data removed]"
     },
     "metadata":{
      "image\/png":{
       
      }
     },
     "output_type":"display_data"
    }
   ],
   "metadata":{
    "datalore":{
     "node_id":"dmnzzY1MH6mz1zK3I3dGV4",
     "type":"CODE",
     "hide_input_from_viewers":true,
     "hide_output_from_viewers":true
    }
   }
  },
  {
   "cell_type":"markdown",
   "source":[
    "The histogram for Alcohol Consumption Distribution shows that the majority of observations are clustered at the lower end of the scale, with the highest frequency at the very first bin (near 0).  ButThere are also few counts as we move towards the higher end of the alcohol consumption scale (around 25 to 30 units). These could be considered outliers or simply represent a small proportion of the population that consumes alcohol at high levels. These characteristics make it hard to estimate the variable's distribution, but it does resemble an exponential distribution.\n"
   ],
   "attachments":{
    
   },
   "metadata":{
    "datalore":{
     "node_id":"ZvN6v1AKzdVNnwLyE4HPtx",
     "type":"MD",
     "hide_input_from_viewers":true,
     "hide_output_from_viewers":true
    }
   }
  },
  {
   "cell_type":"markdown",
   "source":[
    "**Gender:**"
   ],
   "attachments":{
    
   },
   "metadata":{
    "datalore":{
     "node_id":"gnBKkBbRLnmp8dhniRbEbL",
     "type":"MD",
     "hide_input_from_viewers":true,
     "hide_output_from_viewers":true
    }
   }
  },
  {
   "cell_type":"code",
   "source":[
    "sex_df = df_sampled.groupby(\"Sex\", as_index = False).size().rename(columns={\"size\": \"number of participantes\"}).set_index([\"Sex\"])\n",
    "sex_df[\"Sex\"] = [\"Male\", \"Female\"]\n",
    "sex_df = sex_df.set_index([\"Sex\"])\n",
    "sex_df\n",
    "# 'Female': 1, 'Male': 0}"
   ],
   "execution_count":48,
   "outputs":[
    {
     "data":{
      "text\/html":[
       "<div>\n",
       "<style scoped>\n",
       "    .dataframe tbody tr th:only-of-type {\n",
       "        vertical-align: middle;\n",
       "    }\n",
       "\n",
       "    .dataframe tbody tr th {\n",
       "        vertical-align: top;\n",
       "    }\n",
       "\n",
       "    .dataframe thead th {\n",
       "        text-align: right;\n",
       "    }\n",
       "<\/style>\n",
       "<table border=\"1\" class=\"dataframe\">\n",
       "  <thead>\n",
       "    <tr style=\"text-align: right;\">\n",
       "      <th><\/th>\n",
       "      <th>number of participantes<\/th>\n",
       "    <\/tr>\n",
       "    <tr>\n",
       "      <th>Sex<\/th>\n",
       "      <th><\/th>\n",
       "    <\/tr>\n",
       "  <\/thead>\n",
       "  <tbody>\n",
       "    <tr>\n",
       "      <th>Male<\/th>\n",
       "      <td>95<\/td>\n",
       "    <\/tr>\n",
       "    <tr>\n",
       "      <th>Female<\/th>\n",
       "      <td>105<\/td>\n",
       "    <\/tr>\n",
       "  <\/tbody>\n",
       "<\/table>\n",
       "<\/div>"
      ]
     },
     "metadata":{
      
     },
     "output_type":"display_data"
    }
   ],
   "metadata":{
    "datalore":{
     "node_id":"ln4NlgvS5iRZNipiYtrSuZ",
     "type":"CODE",
     "hide_input_from_viewers":true,
     "hide_output_from_viewers":true
    }
   }
  },
  {
   "cell_type":"markdown",
   "source":[
    "We can see that there are about the same amount of males and females. Based on prior knowledge, we know that the gender distribution is approximately Bernoulli(0.5)."
   ],
   "attachments":{
    
   },
   "metadata":{
    "datalore":{
     "node_id":"lolYbhi81dyp1IU1N9PQch",
     "type":"MD",
     "hide_input_from_viewers":true,
     "hide_output_from_viewers":true
    }
   }
  },
  {
   "cell_type":"markdown",
   "source":[
    "**Heart disease:**"
   ],
   "attachments":{
    
   },
   "metadata":{
    "datalore":{
     "node_id":"LNxgHpOXUnLlTD4PWtaZBY",
     "type":"MD",
     "hide_input_from_viewers":true,
     "hide_output_from_viewers":true
    }
   }
  },
  {
   "cell_type":"code",
   "source":[
    "have_heart_disease_df = df_sampled.groupby(\"Heart_Disease\", as_index = False).size().rename(columns={\"size\": \"number of participants\"}).set_index([\"Heart_Disease\"])\n",
    "have_heart_disease_df[\"Heart_Disease\"] = [\"No\", \"Yes\"]\n",
    "have_heart_disease_df = have_heart_disease_df.set_index([\"Heart_Disease\"])\n",
    "have_heart_disease_df"
   ],
   "execution_count":49,
   "outputs":[
    {
     "data":{
      "text\/html":[
       "<div>\n",
       "<style scoped>\n",
       "    .dataframe tbody tr th:only-of-type {\n",
       "        vertical-align: middle;\n",
       "    }\n",
       "\n",
       "    .dataframe tbody tr th {\n",
       "        vertical-align: top;\n",
       "    }\n",
       "\n",
       "    .dataframe thead th {\n",
       "        text-align: right;\n",
       "    }\n",
       "<\/style>\n",
       "<table border=\"1\" class=\"dataframe\">\n",
       "  <thead>\n",
       "    <tr style=\"text-align: right;\">\n",
       "      <th><\/th>\n",
       "      <th>number of participants<\/th>\n",
       "    <\/tr>\n",
       "    <tr>\n",
       "      <th>Heart_Disease<\/th>\n",
       "      <th><\/th>\n",
       "    <\/tr>\n",
       "  <\/thead>\n",
       "  <tbody>\n",
       "    <tr>\n",
       "      <th>No<\/th>\n",
       "      <td>177<\/td>\n",
       "    <\/tr>\n",
       "    <tr>\n",
       "      <th>Yes<\/th>\n",
       "      <td>23<\/td>\n",
       "    <\/tr>\n",
       "  <\/tbody>\n",
       "<\/table>\n",
       "<\/div>"
      ]
     },
     "metadata":{
      
     },
     "output_type":"display_data"
    }
   ],
   "metadata":{
    "datalore":{
     "node_id":"8wlNOADGfHuetHTECt2BnD",
     "type":"CODE",
     "hide_input_from_viewers":true,
     "hide_output_from_viewers":true
    }
   }
  },
  {
   "cell_type":"markdown",
   "source":[
    "We can see that about 11% of the participants have heart disease. So we can estimate that the variable is distributed Bernoulli(0.11)."
   ],
   "attachments":{
    
   },
   "metadata":{
    "datalore":{
     "node_id":"59VoWFhDwutN0qa35jHRBv",
     "type":"MD",
     "hide_input_from_viewers":true,
     "hide_output_from_viewers":true
    }
   }
  },
  {
   "cell_type":"code",
   "source":[
    "#q1.3.b Checking for missing data\n",
    "df_sampled.isnull().sum()"
   ],
   "execution_count":50,
   "outputs":[
    {
     "data":{
      "text\/html":[
       "<pre>Heart_Disease          0\n",
       "Sex                    0\n",
       "BMI                    0\n",
       "Alcohol_Consumption    0\n",
       "dtype: int64<\/pre>"
      ]
     },
     "metadata":{
      
     },
     "output_type":"display_data"
    }
   ],
   "metadata":{
    "datalore":{
     "node_id":"WNnC9gpb2YawrjNRxOvTmh",
     "type":"CODE",
     "hide_input_from_viewers":true,
     "hide_output_from_viewers":true
    }
   }
  },
  {
   "cell_type":"markdown",
   "source":[
    "We can see that there is no missing data in the dataset."
   ],
   "attachments":{
    
   },
   "metadata":{
    "datalore":{
     "node_id":"xu4mshTzUhNZJdlcQSnT3p",
     "type":"MD",
     "hide_input_from_viewers":true,
     "hide_output_from_viewers":true
    }
   }
  },
  {
   "cell_type":"markdown",
   "source":[
    "### ג"
   ],
   "attachments":{
    
   },
   "metadata":{
    "datalore":{
     "node_id":"32EAWJicpEmbG4Ude2mIGr",
     "type":"MD",
     "hide_input_from_viewers":true,
     "hide_output_from_viewers":true
    }
   }
  },
  {
   "cell_type":"code",
   "source":[
    "def plot_relationship_between_variables(variable_pair, dataframe):\n",
    "    \"\"\"\n",
    "    This function plots the relationship between two variables and calculates the Spearman's rank correlation coefficient.\n",
    "    \"\"\"\n",
    "\n",
    "    independent_variable = variable_pair[0]\n",
    "    dependent_variable = variable_pair[1]\n",
    "    \n",
    "    # Displaying the independent variable values\n",
    "    print(f\"Values for {independent_variable}:\\n{dataframe[independent_variable]}\")\n",
    "    \n",
    "    # Calculating Spearman's rank correlation coefficient\n",
    "    spearman_coefficient, p_value = stats.spearmanr(dataframe[independent_variable], dataframe[dependent_variable])\n",
    "    print(f\"Spearman's rank correlation coefficient between {independent_variable} and {dependent_variable}: {spearman_coefficient}\")\n",
    "    print(f\"P-value for hypothesis test where null hypothesis is no correlation: {p_value}\\n\")\n",
    "    \n",
    "    # Plotting the data\n",
    "    plt.scatter(dataframe[independent_variable], dataframe[dependent_variable])\n",
    "    plt.title(f\"{independent_variable} vs {dependent_variable}\", size=15, fontweight=\"bold\")\n",
    "    plt.xlabel(independent_variable)\n",
    "    plt.ylabel(dependent_variable)\n",
    "    plt.show()\n",
    "    print()\n",
    "\n",
    "for variable_pair in [['Alcohol_Consumption', 'BMI']]:\n",
    "    plot_relationship_between_variables(variable_pair, df_sampled)\n"
   ],
   "execution_count":51,
   "outputs":[
    {
     "name":"stdout",
     "text":[
      "Values for Alcohol_Consumption:\n",
      "210943    30.0\n",
      "83068      8.0\n",
      "122276     2.0\n",
      "129725    12.0\n",
      "60669     12.0\n",
      "          ... \n",
      "272939    20.0\n",
      "218054    20.0\n",
      "163112    15.0\n",
      "48395      3.0\n",
      "194230    20.0\n",
      "Name: Alcohol_Consumption, Length: 200, dtype: float64\n",
      "Spearman's rank correlation coefficient between Alcohol_Consumption and BMI: -0.161722585159785\n",
      "P-value for hypothesis test where null hypothesis is no correlation: 0.022146355066422086\n",
      "\n",
      "\n"
     ],
     "output_type":"stream"
    },
    {
     "data":{
      "image\/png":"[encoded data removed]"
     },
     "metadata":{
      "image\/png":{
       
      }
     },
     "output_type":"display_data"
    }
   ],
   "metadata":{
    "datalore":{
     "node_id":"EKeDTfcaCethTmm0I3DkFc",
     "type":"CODE",
     "hide_input_from_viewers":true,
     "hide_output_from_viewers":true
    }
   }
  },
  {
   "cell_type":"markdown",
   "source":[
    "There does not appear to be a clear or strong pattern indicating a linear relationship between alcohol consumption and BMI. The points are fairly dispersed across all levels of alcohol consumption, suggesting a weak correlation, if any."
   ],
   "attachments":{
    
   },
   "metadata":{
    "datalore":{
     "node_id":"3BBFC87CMXQaLiguQMBp43",
     "type":"MD",
     "hide_input_from_viewers":true,
     "hide_output_from_viewers":true
    }
   }
  },
  {
   "cell_type":"markdown",
   "source":[
    "### ד"
   ],
   "attachments":{
    
   },
   "metadata":{
    "datalore":{
     "node_id":"xpI9X02KMNpWhw6tjOtoQY",
     "type":"MD",
     "hide_input_from_viewers":true,
     "hide_output_from_viewers":true
    }
   }
  },
  {
   "cell_type":"code",
   "source":[
    "def plot_categorical_boxplot(category_column, numeric_column, dataframe):\n",
    "    # Prepare data for the two categories\n",
    "    category_data_1 = dataframe[dataframe[category_column] == 1][numeric_column]\n",
    "    category_data_0 = dataframe[dataframe[category_column] == 0][numeric_column]\n",
    "    print(category_data_0)\n",
    "\n",
    "    # Create boxplot\n",
    "    boxplot_data = [category_data_0, category_data_1]  # Reordered to match the labels 0, 1\n",
    "    plt.boxplot(boxplot_data, showmeans=True)\n",
    "\n",
    "    # Title and labels\n",
    "    plt.title(f\"Distribution of {numeric_column} for Different {category_column} Categories\", size=15, fontweight=\"bold\")\n",
    "    plt.xlabel(category_column)\n",
    "    plt.ylabel(numeric_column)\n",
    "\n",
    "    # Set custom labels for x-ticks\n",
    "    if category_column == 'Sex':\n",
    "        plt.xticks([1, 2], ['Male', 'Female']) \n",
    "    else:\n",
    "        plt.xticks([1, 2], ['No', 'Yes'])  # Adjusted to label the categories as 0 and 1 instead of 1 and 2\n",
    "\n",
    "    # Display the plot\n",
    "    plt.show()\n",
    "\n",
    "category_columns = ['Sex', 'Heart_Disease']\n",
    "for category in category_columns:\n",
    "    plot_categorical_boxplot(category, 'BMI', df_sampled)"
   ],
   "execution_count":52,
   "outputs":[
    {
     "name":"stdout",
     "text":[
      "83068     27.71\n",
      "136641    43.76\n",
      "49549     40.61\n",
      "131283    30.13\n",
      "126517    32.19\n",
      "          ...  \n",
      "234473    39.53\n",
      "172443    26.50\n",
      "35039     29.65\n",
      "246271    28.89\n",
      "194230    30.17\n",
      "Name: BMI, Length: 95, dtype: float64\n",
      "210943    26.63\n",
      "83068     27.71\n",
      "129725    25.77\n",
      "60669     30.11\n",
      "159434    37.12\n",
      "          ...  \n",
      "272939    23.91\n",
      "218054    22.66\n",
      "163112    27.32\n",
      "48395     32.22\n",
      "194230    30.17\n",
      "Name: BMI, Length: 177, dtype: float64\n"
     ],
     "output_type":"stream"
    },
    {
     "data":{
      "image\/png":"[encoded data removed]"
     },
     "metadata":{
      "image\/png":{
       
      }
     },
     "output_type":"display_data"
    },
    {
     "data":{
      "image\/png":"[encoded data removed]"
     },
     "metadata":{
      "image\/png":{
       
      }
     },
     "output_type":"display_data"
    }
   ],
   "metadata":{
    "datalore":{
     "node_id":"isPqaTXbA5128cl80azKMT",
     "type":"CODE",
     "hide_input_from_viewers":true,
     "hide_output_from_viewers":true
    }
   }
  },
  {
   "cell_type":"markdown",
   "source":[
    "From the boxplots, we can see that there’s a wider range of BMI scores in women compared to men. This suggests women’s BMI scores vary more. The plot also has quite a few high BMI scores for women, showing up as outliers. This suggests that sex may have some effect on the BMI.\n",
    "\n",
    "For heart disease, people without it have BMI scores that spread out more than those with heart disease. This wider spread could mean there’s more variety in the BMIs of people without heart disease. However, the group with heart disease seems smaller since there are fewer outliers, and that might be why there’s less variation in BMI among them compared to those without heart disease. When we consider the effect of sample size, it's possible that the smaller number of people with heart disease might be skewing the results a bit."
   ],
   "attachments":{
    
   },
   "metadata":{
    "datalore":{
     "node_id":"QhJMV2AmmY5R4FDahaU8bK",
     "type":"MD",
     "hide_input_from_viewers":true,
     "hide_output_from_viewers":true
    }
   }
  },
  {
   "cell_type":"markdown",
   "source":[
    "## Q4"
   ],
   "attachments":{
    
   },
   "metadata":{
    "datalore":{
     "node_id":"NlTa5y4ncRi7ICQMqf3lhO",
     "type":"MD",
     "hide_input_from_viewers":true,
     "hide_output_from_viewers":true
    }
   }
  },
  {
   "cell_type":"code",
   "source":[
    "#Q4\n",
    "\n",
    "# Preparing the data\n",
    "# X contains the independent variables 'Alcohol_Consumption', 'Sex', and 'Heart_Disease'\n",
    "X = df_sampled[['Alcohol_Consumption', 'Sex', 'Heart_Disease']].to_numpy()\n",
    "\n",
    "# y contains the dependent variable 'BMI'\n",
    "Y = df_sampled['BMI'].to_numpy()\n",
    "\n",
    "# Adding a column of ones to X for the intercept term\n",
    "X_with_intercept = np.c_[np.ones(X.shape[0]), X]\n",
    "\n",
    "# Calculating the OLS (Ordinary Least Squares) coefficients\n",
    "# Step 1: Compute the transpose of X multiplied by X\n",
    "X_transpose_X = np.matmul(X_with_intercept.T, X_with_intercept)\n",
    "\n",
    "# Step 2: Calculate the inverse of X_transpose_X\n",
    "inverse_X_transpose_X = np.linalg.inv(X_transpose_X)\n",
    "\n",
    "# Step 3: Compute the transpose of X multiplied by y\n",
    "X_transpose_y = np.matmul(X_with_intercept.T, Y)\n",
    "\n",
    "# Step 4: Calculate the OLS coefficients by multiplying the inverse of X_transpose_X and X_transpose_y\n",
    "ols_coefficients = np.matmul(inverse_X_transpose_X, X_transpose_y)\n",
    "\n",
    "# Display the OLS coefficients\n",
    "print(f\"OLS coefficients = {ols_coefficients} \\n\")\n",
    "\n",
    "# Constructing and displaying the linear model equation\n",
    "print(\"The linear model is: \")\n",
    "print(\"BMI = \", end=\"\")\n",
    "for i, coef in enumerate(ols_coefficients):\n",
    "    if i != len(ols_coefficients) - 1:\n",
    "        print(f\"{coef:.3f} * x_{i} + \", end=\"\") if i != 0 else print(f\"{coef:.3f} + \", end=\"\")\n",
    "    else:\n",
    "        print(f\"{coef:.3f} * x_{i} \\n\")\n",
    "print(\"***********\")\n",
    "# Explaining the variables\n",
    "print(\"Variables meaning: \")\n",
    "variable_names = ['Alcohol_Consumption', 'Sex', 'Heart_Disease']\n",
    "for i, name in enumerate(variable_names):\n",
    "    print(f\"x{i+1} = {name}\")"
   ],
   "execution_count":53,
   "outputs":[
    {
     "name":"stdout",
     "text":[
      "OLS coefficients = [30.10111015 -0.14255937  0.47326118 -0.56602097] \n",
      "\n",
      "The linear model is: \n",
      "BMI = 30.101 + -0.143 * x_1 + 0.473 * x_2 + -0.566 * x_3 \n",
      "\n",
      "***********\n",
      "Variables meaning: \n",
      "x1 = Alcohol_Consumption\n",
      "x2 = Sex\n",
      "x3 = Heart_Disease\n"
     ],
     "output_type":"stream"
    }
   ],
   "metadata":{
    "datalore":{
     "node_id":"WHekiLLvHo9MaUfaR0ZPlr",
     "type":"CODE",
     "hide_input_from_viewers":true,
     "hide_output_from_viewers":true
    }
   }
  },
  {
   "cell_type":"markdown",
   "source":[
    "The OLS coefficients represent the relationship between the independent variables and the dependent variable in a linear regression model, explained as follows:\n",
    "\n",
    "1. **Intercept ($\\beta_0$):** This coefficient indicates the expected value of the dependent variable $Y$ when all independent variables $X$ are 0. It's the point where the regression line crosses the Y-axis.\n",
    "\n",
    "2. **Slope Coefficients ($\\beta_1, \\beta_2, ..., \\beta_k$):** Each of these coefficients corresponds to one independent variable in the model. A slope coefficient $\\beta_i$ indicates the expected change in the dependent variable $Y$ for a one-unit increase in the corresponding independent variable $X_i$, holding all other variables constant.\n",
    "\n",
    "### What happens when increasing a variable by 1 unit?\n",
    "\n",
    "We learned that in linear regression, if you increase an independent variable $X_i$ by 1 unit, the dependent variable $Y$ is expected to change by $\\beta_i$ units, assuming all other variables remain constant. \n"
   ],
   "attachments":{
    
   },
   "metadata":{
    "datalore":{
     "node_id":"bQJaeR0EYtuzldR9LHvqA9",
     "type":"MD",
     "hide_input_from_viewers":true,
     "hide_output_from_viewers":true
    }
   }
  },
  {
   "cell_type":"markdown",
   "source":[
    "## q5"
   ],
   "attachments":{
    
   },
   "metadata":{
    "datalore":{
     "node_id":"b1UFf65JuzbEOYAPMte1lB",
     "type":"MD",
     "hide_input_from_viewers":true,
     "hide_output_from_viewers":true
    }
   }
  },
  {
   "cell_type":"code",
   "source":[
    "num_observations = df_sampled['BMI'].shape[0]\n",
    "X = X_with_intercept\n",
    "num_independent_vars = len(['Alcohol_Consumption', 'Sex', 'Heart_Disease'])\n",
    "\n",
    "# Total number of parameters (including the intercept)\n",
    "num_parameters = num_independent_vars + 1\n",
    "\n",
    "# Predicted BMI values using the linear model\n",
    "predicted_BMI = np.matmul(X, ols_coefficients)\n",
    "\n",
    "# Actual BMI values\n",
    "actual_BMI = df_sampled['BMI'].to_numpy()\n",
    "\n",
    "# Mean of actual BMI values\n",
    "mean_BMI = np.mean(actual_BMI)\n",
    "\n",
    "# Sum of Squares for Regression (explained variation)\n",
    "SSR = sum([(predicted_BMI[i] - mean_BMI) ** 2 for i in range(predicted_BMI.shape[0])])\n",
    "\n",
    "# Sum of Squares for Residuals (unexplained variation)\n",
    "SSRES = sum([(actual_BMI[i] - predicted_BMI[i]) ** 2 for i in range(actual_BMI.shape[0])])\n",
    "\n",
    "# Total Sum of Squares (total variation)\n",
    "SST = sum([(actual_BMI[i] - mean_BMI) ** 2 for i in range(actual_BMI.shape[0])])\n",
    "\n",
    "# Mean Square for Regression\n",
    "mean_square_regression = SSR \/ num_independent_vars\n",
    "\n",
    "# Mean Square for Residuals\n",
    "mean_square_residuals = SSRES \/ (num_observations - num_parameters)\n",
    "\n",
    "# Mean Square Total\n",
    "mean_square_total = SST \/ (num_observations - 1)\n",
    "\n",
    "# F statistic and p-value for the regression model significance\n",
    "F_statistic = mean_square_regression \/ mean_square_residuals\n",
    "n= 200\n",
    "p = 4\n",
    "k = p-1\n",
    "p_value=1-stats.f.cdf(F_statistic,k,n-p)\n",
    "# Consructing the ANOVA table\n",
    "anova_table = pd.DataFrame({\n",
    "    \"Sum of Squares\": [SSR, SSRES, SST],\n",
    "    \"Degrees of Freedom\": [num_independent_vars, num_observations - num_parameters, num_observations - 1],\n",
    "    \"Mean Square\": [mean_square_regression, mean_square_residuals, mean_square_total],\n",
    "    \"F statistic\": [f\"{F_statistic}, p-value = {p_value}\", \"\", \"\"],\n",
    "}, index=[\"Regression\", \"Residuals\/Errors\", \"Total\"])\n",
    "\n",
    "\n",
    "display(anova_table)\n",
    "\n",
    "r_squared = SSR \/ SST\n",
    "adjusted_r_squared = 1 - (mean_square_residuals \/ mean_square_total)\n",
    "print(f\"\\nR^2: {r_squared}\")\n",
    "print(f\"Adjusted R^2: {adjusted_r_squared}\")"
   ],
   "execution_count":54,
   "outputs":[
    {
     "name":"stdout",
     "text":[
      "\n",
      "R^2: 0.0329792887390837\n",
      "Adjusted R^2: 0.01817795132182498\n"
     ],
     "output_type":"stream"
    },
    {
     "data":{
      "text\/html":[
       "<div>\n",
       "<style scoped>\n",
       "    .dataframe tbody tr th:only-of-type {\n",
       "        vertical-align: middle;\n",
       "    }\n",
       "\n",
       "    .dataframe tbody tr th {\n",
       "        vertical-align: top;\n",
       "    }\n",
       "\n",
       "    .dataframe thead th {\n",
       "        text-align: right;\n",
       "    }\n",
       "<\/style>\n",
       "<table border=\"1\" class=\"dataframe\">\n",
       "  <thead>\n",
       "    <tr style=\"text-align: right;\">\n",
       "      <th><\/th>\n",
       "      <th>Sum of Squares<\/th>\n",
       "      <th>Degrees of Freedom<\/th>\n",
       "      <th>Mean Square<\/th>\n",
       "      <th>F statistic<\/th>\n",
       "    <\/tr>\n",
       "  <\/thead>\n",
       "  <tbody>\n",
       "    <tr>\n",
       "      <th>Regression<\/th>\n",
       "      <td>310.345916<\/td>\n",
       "      <td>3<\/td>\n",
       "      <td>103.448639<\/td>\n",
       "      <td>2.228128973036491, p-value = 0.08619444908921825<\/td>\n",
       "    <\/tr>\n",
       "    <tr>\n",
       "      <th>Residuals\/Errors<\/th>\n",
       "      <td>9099.981834<\/td>\n",
       "      <td>196<\/td>\n",
       "      <td>46.428479<\/td>\n",
       "      <td><\/td>\n",
       "    <\/tr>\n",
       "    <tr>\n",
       "      <th>Total<\/th>\n",
       "      <td>9410.327750<\/td>\n",
       "      <td>199<\/td>\n",
       "      <td>47.288079<\/td>\n",
       "      <td><\/td>\n",
       "    <\/tr>\n",
       "  <\/tbody>\n",
       "<\/table>\n",
       "<\/div>"
      ]
     },
     "metadata":{
      
     },
     "output_type":"display_data"
    }
   ],
   "metadata":{
    "datalore":{
     "node_id":"JSjnyWb5OdRfDMlrwojlSL",
     "type":"CODE",
     "hide_input_from_viewers":true,
     "hide_output_from_viewers":true
    }
   }
  },
  {
   "cell_type":"markdown",
   "source":[
    "## Q6"
   ],
   "attachments":{
    
   },
   "metadata":{
    "datalore":{
     "node_id":"lZ4EEZLFhRzKWTADK0L5Ne",
     "type":"MD",
     "hide_input_from_viewers":true,
     "hide_output_from_viewers":true
    }
   }
  },
  {
   "cell_type":"code",
   "source":[
    "import numpy as np\n",
    "from scipy.stats import norm\n",
    "\n",
    "# Extract features and target from the dataframe\n",
    "X_original = df[['Alcohol_Consumption', 'Sex', 'Heart_Disease']].values\n",
    "Y_original = df['BMI'].values\n",
    "\n",
    "# Add a constant column to the feature set for the intercept\n",
    "X_original = np.concatenate([np.ones((X_original.shape[0], 1)), X_original], axis=1)\n",
    "\n",
    "# Calculate OLS coefficients using linear algebra\n",
    "X_transpose_X = np.dot(X_original.T, X_original)\n",
    "inverse_X_transpose_X = np.linalg.inv(X_transpose_X)\n",
    "X_transpose_y = np.dot(X_original.T, Y_original)\n",
    "original_coefficients = np.dot(inverse_X_transpose_X, X_transpose_y)\n",
    "\n",
    "# Display the coefficients in a formatted model\n",
    "print(\"OLS Coefficients for original data:\", original_coefficients)\n",
    "print(\"\\nThe linear model is:\")\n",
    "print(f\"y = {' + '.join(f'{coeff:.2f} * x_{i}' for i, coeff in enumerate(original_coefficients))}\")\n",
    "print(\"***********\")\n",
    "# Associate coefficients with their respective variables\n",
    "print(\"\\nVariable mapping:\")\n",
    "variable_mapping = ['Intercept', 'Alcohol_Consumption', 'Sex', 'Heart_Disease']\n",
    "for i, variable in enumerate(variable_mapping):\n",
    "    print(f\"x_{i} corresponds to {variable}\")\n",
    "print(\"***********\")\n",
    "# Compute and display confidence intervals for coefficients\n",
    "confidence_intervals = []\n",
    "residuals = Y - np.dot(X, ols_coefficients)\n",
    "residuals_squared = residuals**2\n",
    "sigma_squared = residuals_squared.sum() \/ (X.shape[0] - X.shape[1])\n",
    "confidence_level = 0.95\n",
    "z_score = norm.ppf(1 - (1 - confidence_level) \/ 2)\n",
    "\n",
    "print(\"\\nConfidence Intervals:\")\n",
    "for i in range(len(original_coefficients)):\n",
    "    standard_error = np.sqrt(sigma_squared * np.linalg.inv(np.dot(X.T, X))[i, i])\n",
    "    margin_error = z_score * standard_error\n",
    "    confidence_interval = (ols_coefficients[i] - margin_error, ols_coefficients[i] + margin_error)\n",
    "    print(f\"CI for {variable_mapping[i]}: {confidence_interval}, Original data estimator: {original_coefficients[i]}\")\n",
    "    confidence_intervals.append(confidence_interval)\n",
    "    print(f\"Is the beta estimator from the full data for {variable_mapping[i]} inside the the CI based on the sample data? {original_coefficients[i] >= confidence_interval[0] and original_coefficients[i] <= confidence_interval[1]}\")\n",
    "    print(\"***********\")"
   ],
   "execution_count":55,
   "outputs":[
    {
     "name":"stdout",
     "text":[
      "OLS Coefficients for original data: [29.15429033 -0.08769409 -0.29445336  0.88518992]\n",
      "\n",
      "The linear model is:\n",
      "y = 29.15 * x_0 + -0.09 * x_1 + -0.29 * x_2 + 0.89 * x_3\n",
      "***********\n",
      "\n",
      "Variable mapping:\n",
      "x_0 corresponds to Intercept\n",
      "x_1 corresponds to Alcohol_Consumption\n",
      "x_2 corresponds to Sex\n",
      "x_3 corresponds to Heart_Disease\n",
      "***********\n",
      "\n",
      "Confidence Intervals:\n",
      "CI for Intercept: (28.473704213288944, 31.728516089250572), Original data estimator: 29.154290334443182\n",
      "Is the beta estimator from the full data for Intercept inside the the CI based on the sample data? True\n",
      "***********\n",
      "CI for Alcohol_Consumption: (-0.2564402406471024, -0.028678508769503466), Original data estimator: -0.08769408567641124\n",
      "Is the beta estimator from the full data for Alcohol_Consumption inside the the CI based on the sample data? True\n",
      "***********\n",
      "CI for Sex: (-1.4447941043521215, 2.3913164588086513), Original data estimator: -0.2944533553574322\n",
      "Is the beta estimator from the full data for Sex inside the the CI based on the sample data? True\n",
      "***********\n",
      "CI for Heart_Disease: (-3.557182379666124, 2.42514044055816), Original data estimator: 0.8851899211175436\n",
      "Is the beta estimator from the full data for Heart_Disease inside the the CI based on the sample data? True\n",
      "***********\n"
     ],
     "output_type":"stream"
    }
   ],
   "metadata":{
    "datalore":{
     "node_id":"121vHWJpyXepWkgGOs4X3V",
     "type":"CODE",
     "hide_input_from_viewers":true,
     "hide_output_from_viewers":true
    }
   }
  },
  {
   "cell_type":"markdown",
   "source":[
    "## Q7"
   ],
   "attachments":{
    
   },
   "metadata":{
    "datalore":{
     "node_id":"O2mY9Ra4zdcfuirqqtxBdq",
     "type":"MD",
     "hide_input_from_viewers":true,
     "hide_output_from_viewers":true
    }
   }
  },
  {
   "cell_type":"markdown",
   "source":[
    "To test whether each of the OLS coefficients ($\\beta_i$) is significantly different from zero, we will use a F test. The null and alternative hypotheses for each coefficient are formulated as follows:\n",
    "\n",
    "\n",
    "**$H_0$:**     $\\beta_1^* = \\ldots = \\beta_k^* = 0$.\n",
    "\n",
    "**$H_1$:**     $\\beta_1^* \\neq 0 \\vee \\ldots\\vee  \\beta_k^* \\neq 0$.\n",
    "\n",
    "\n",
    "### Test Statistic:\n",
    "\n",
    "$$\n",
    "F = \\frac{MSR}{MS_{Res}}\n",
    "$$\n",
    "\n",
    "Where:\n",
    "- $MSR$ (Mean Square Regression) is the mean squared due to the regression (explained variance).\n",
    "- $MS_{Res}$ (Mean Square Residual) is the mean squared due to the residuals (unexplained variance).\n",
    "\n",
    "We reject the null hypothesis If $F > F_{\\alpha,k,n-p}$, where $\\alpha$ is the significance level. In our case we have n=200, p = 4 (number of coefficients), k = p - 1 = 3 (number of independent variables)."
   ],
   "attachments":{
    
   },
   "metadata":{
    "datalore":{
     "node_id":"RdNQxLYVHDLbymm7I6zESI",
     "type":"MD",
     "hide_input_from_viewers":true,
     "hide_output_from_viewers":true
    }
   }
  },
  {
   "cell_type":"code",
   "source":[
    "#Q7\n",
    "n = 200\n",
    "p = 4\n",
    "k = p - 1\n",
    "alpha = 0.05\n",
    "dof = n - p\n",
    "# F statistic and p-value for the regression model significance\n",
    "F_statistic = mean_square_regression \/ mean_square_residuals\n",
    "p_value = 1 - stats.f.cdf(F_statistic, num_independent_vars, dof)\n",
    "\n",
    "quantile = stats.f.ppf(alpha, k, dof)\n",
    "print(f\"P-value : {p_value}\")\n",
    "print(f\"Should we reject H0? : {p_value < alpha}\")"
   ],
   "execution_count":56,
   "outputs":[
    {
     "name":"stdout",
     "text":[
      "P-value : 0.08619444908921825\n",
      "Should we reject H0? : False\n"
     ],
     "output_type":"stream"
    }
   ],
   "metadata":{
    "datalore":{
     "node_id":"NPE12kxgISQnVedUau2DQR",
     "type":"CODE",
     "hide_input_from_viewers":true,
     "hide_output_from_viewers":true
    }
   }
  },
  {
   "cell_type":"markdown",
   "source":[
    "## Q8"
   ],
   "attachments":{
    
   },
   "metadata":{
    "datalore":{
     "node_id":"Bo91FMtBiEVD1aIAsAcrBJ",
     "type":"MD",
     "hide_input_from_viewers":true,
     "hide_output_from_viewers":true
    }
   }
  },
  {
   "cell_type":"code",
   "source":[
    "#q8\n",
    "\n",
    "res = Y - predicted_BMI\n",
    "\n",
    "# Generate a Q-Q plot\n",
    "stats.probplot(res, dist=\"norm\", plot=plt, fit=True)\n",
    "\n",
    "plt.title(\"QQ plot \", fontsize=13, fontweight=\"bold\")\n",
    "plt.show()"
   ],
   "execution_count":57,
   "outputs":[
    {
     "data":{
      "image\/png":"[encoded data removed]"
     },
     "metadata":{
      "image\/png":{
       
      }
     },
     "output_type":"display_data"
    }
   ],
   "metadata":{
    "datalore":{
     "node_id":"xRCLpAoftk6UISejt4JMTB",
     "type":"CODE",
     "hide_input_from_viewers":true,
     "hide_output_from_viewers":true
    }
   }
  },
  {
   "cell_type":"code",
   "source":[
    "# Creating a scatter plot of predicted values vs residuals\n",
    "plt.scatter(predicted_BMI, res)\n",
    "\n",
    "# Adding a horizontal line at the mean of the residuals\n",
    "plt.axhline(y=res.mean(), color=\"red\", label=\"residuals mean value\")\n",
    "\n",
    "# Labeling the x-axis\n",
    "plt.xlabel(\"y pred values\")\n",
    "\n",
    "# Labeling the y-axis\n",
    "plt.ylabel(\"residual values\")\n",
    "\n",
    "# Adding a title and configuring its appearance\n",
    "plt.title(\"y pred vs residual values\", fontweight=\"bold\", fontsize=15)\n",
    "\n",
    "# Adding a legend to the plot\n",
    "plt.legend()\n",
    "\n",
    "# Displaying the plot\n",
    "plt.show()"
   ],
   "execution_count":58,
   "outputs":[
    {
     "data":{
      "image\/png":"[encoded data removed]"
     },
     "metadata":{
      "image\/png":{
       
      }
     },
     "output_type":"display_data"
    }
   ],
   "metadata":{
    "datalore":{
     "node_id":"i8hNV6U5UQgLcXB1Ci6gTZ",
     "type":"CODE",
     "hide_input_from_viewers":true,
     "hide_output_from_viewers":true
    }
   }
  },
  {
   "cell_type":"markdown",
   "source":[
    "To evaluate the assumptions of a linear regression model, we can use graphical tools like residual plots and Q-Q plots:\n",
    "\n",
    "1. **Assumption of Linearity:** Looking at the residual plot, we can't see a clear pattern. The data is symmetrical around the Y axis. Therefore this assumption holds.\n",
    "\n",
    "2. **Assumption of Equal Variances (Homoscedasticity):** This is assessed by looking for a \"funnel\" shape in the residual plot. A funnel shape would indicate heteroscedasticity, where the residuals' variance changes across the levels of the independent variables. Looking at the residual plot, it is hard to give a definite answer because we have more data points in higher BMI predictions region, there seems to be a funnel shape, which means this assumption doesn't necessarily hold.\n",
    "3. **Assumption of Normality:** The QQ plot shows that the assumption that the noise is normally distributed is not exactly true (especially at both ends), but could be close enough for our model."
   ],
   "attachments":{
    
   },
   "metadata":{
    "datalore":{
     "node_id":"b2uLe4dItUTpWaHLLz7FO0",
     "type":"MD",
     "hide_input_from_viewers":true,
     "hide_output_from_viewers":true
    }
   }
  },
  {
   "cell_type":"markdown",
   "source":[
    "## Q9"
   ],
   "attachments":{
    
   },
   "metadata":{
    "datalore":{
     "node_id":"qyscKG4t7IB6tEpS4O07Gm",
     "type":"MD",
     "hide_input_from_viewers":true,
     "hide_output_from_viewers":true
    }
   }
  },
  {
   "cell_type":"code",
   "source":[
    "df_all = df.merge(df_sampled, how='left', indicator=True)\n",
    "not_in_sampled = df_all[df_all[\"_merge\"] == \"left_only\"]\n",
    "df_sampled_1000 = not_in_sampled.sample(1000).drop(\"_merge\", axis=1)"
   ],
   "execution_count":59,
   "outputs":[
    
   ],
   "metadata":{
    "datalore":{
     "node_id":"b5j4Xv2XOEKx6sAhGRY41p",
     "type":"CODE",
     "hide_input_from_viewers":true,
     "hide_output_from_viewers":true
    }
   }
  },
  {
   "cell_type":"markdown",
   "source":[
    "### א"
   ],
   "attachments":{
    
   },
   "metadata":{
    "datalore":{
     "node_id":"FKgR35dyXTOm18T7GzKefB",
     "type":"MD",
     "hide_input_from_viewers":true,
     "hide_output_from_viewers":true
    }
   }
  },
  {
   "cell_type":"code",
   "source":[
    "X_1000 = df_sampled_1000[['Alcohol_Consumption', 'Sex', 'Heart_Disease']].to_numpy()\n",
    "X_1000 = np.c_[np.ones(X_1000.shape[0]), X_1000]\n",
    "Y_1000 = np.matmul(X_1000, ols_coefficients)"
   ],
   "execution_count":60,
   "outputs":[
    
   ],
   "metadata":{
    "datalore":{
     "node_id":"XCJuiLAUSVly4ZWganaI5x",
     "type":"CODE",
     "hide_input_from_viewers":true,
     "hide_output_from_viewers":true
    }
   }
  },
  {
   "cell_type":"markdown",
   "source":[
    "### ב ו-ג"
   ],
   "attachments":{
    
   },
   "metadata":{
    "datalore":{
     "node_id":"EYmNGjwQuBDAG4It4HAJAX",
     "type":"MD",
     "hide_input_from_viewers":true,
     "hide_output_from_viewers":true
    }
   }
  },
  {
   "cell_type":"code",
   "source":[
    "n = 1000\n",
    "y_actual = df_sampled_1000['BMI'].to_numpy()\n",
    "residuals = y_actual - Y_1000  \n",
    "variance_estimate = np.sum(residuals**2) \/ (n - p) \n",
    "\n",
    "count_within_confidence_interval = 0\n",
    "\n",
    "for i in range(1000):\n",
    "    y_i = Y_1000[i] \n",
    "    hat_m = np.matmul(X_1000[i], np.matmul(inverse_X_transpose_X, X_1000[i].T))  # Leverage of the i-th observation\n",
    "    ci_width = stats.norm.ppf(0.975) * np.sqrt(variance_estimate * (1 + hat_m))  # CI width for the i-th prediction\n",
    "\n",
    "    CI_lower = y_i - ci_width\n",
    "    CI_upper = y_i + ci_width\n",
    "\n",
    "    if CI_lower <= y_actual[i] <= CI_upper:\n",
    "        count_within_confidence_interval += 1\n",
    "\n",
    "percentage_within_CI = round((count_within_confidence_interval \/ n) * 100,1)\n",
    "print(f\"Actual values appeared in the confidence interval {percentage_within_CI}% of the time.\")"
   ],
   "execution_count":61,
   "outputs":[
    {
     "name":"stdout",
     "text":[
      "Actual values appeared in the confidence interval 95.7% of the time.\n"
     ],
     "output_type":"stream"
    }
   ],
   "metadata":{
    "datalore":{
     "node_id":"994ogNG9hu0O3BFtl42yM1",
     "type":"CODE",
     "hide_input_from_viewers":true,
     "hide_output_from_viewers":true
    }
   }
  },
  {
   "cell_type":"markdown",
   "source":[
    "Our result is close to the 95% mark, which means that the linear regression model does seem to fit the data, and it is reliable in the sense that its predictions, along with the associated confidence intervals, consistently contains the true observed values."
   ],
   "attachments":{
    
   },
   "metadata":{
    "datalore":{
     "node_id":"OVHxVP7IqFyK1FFs9UddUv",
     "type":"MD",
     "hide_input_from_viewers":true,
     "hide_output_from_viewers":true
    }
   }
  },
  {
   "cell_type":"markdown",
   "source":[
    "## Q10"
   ],
   "attachments":{
    
   },
   "metadata":{
    "datalore":{
     "node_id":"XgzsXqTBfc9nDeKfXdKkuf",
     "type":"MD",
     "hide_input_from_viewers":true,
     "hide_output_from_viewers":true
    }
   }
  },
  {
   "cell_type":"code",
   "source":[
    "# Extracting independent variables and dependent variable\n",
    "x_1 = df_sampled['Alcohol_Consumption'].to_numpy()\n",
    "x_2 = df_sampled['Sex'].to_numpy()\n",
    "x_3 = df_sampled['Heart_Disease'].to_numpy()\n",
    "y = df_sampled['BMI'].to_numpy()\n",
    "\n",
    "# Creating interaction terms\n",
    "x_1_2 = np.multiply(x_1, x_2)\n",
    "x_1_3 = np.multiply(x_1, x_3)\n",
    "x_2_3 = np.multiply(x_2, x_3)\n",
    "\n",
    "# Assembling the design matrix with interaction terms\n",
    "X_inter = np.c_[X, x_1_2, x_1_3, x_2_3]\n",
    "\n",
    "# Performing OLS regression with interaction terms\n",
    "xTx_inter = np.matmul(X_inter.T, X_inter)\n",
    "xTx_inter_inv = np.linalg.inv(xTx_inter)\n",
    "xTy_inter = np.matmul(X_inter.T, y)\n",
    "ols_inter = np.matmul(xTx_inter_inv, xTy_inter)\n",
    "y_pred_inter=np.matmul(X_inter,ols_inter)\n",
    "print(\"OLS coefficients with interaction terms:\")\n",
    "print(f\"beta_0 = {ols_inter[0]:.3f}\")  # Intercept\n",
    "print(f\"beta_1 = {ols_inter[1]:.3f}\")  # x_1\n",
    "print(f\"beta_2 = {ols_inter[2]:.3f}\")  # x_2\n",
    "print(f\"beta_3 = {ols_inter[3]:.3f}\")  # x_3\n",
    "print(f\"beta_1_2 = {ols_inter[4]:.3f}\")  # Interaction x_1_x_2\n",
    "print(f\"beta_1_3 = {ols_inter[5]:.3f}\")  # Interaction x_1_x_3\n",
    "print(f\"beta_2_3 = {ols_inter[6]:.3f}\")  # Interaction x_2_x_3\n",
    "\n",
    "# Printing the model with x notation and interaction terms\n",
    "print(\"\\nThe model equation with x notation is: \")\n",
    "print(\"y = \", end=\"\")\n",
    "labels = [\"x0\", \"x1\", \"x2\", \"x3\", \"x1x2\", \"x1x3\", \"x2x3\"]\n",
    "for i, label in enumerate(labels):\n",
    "    print(f\"{ols_inter[i]:.3f}*{label}\" + (\" + \" if i != len(ols_inter) - 1 else \"\"), end=\" \")\n",
    "\n",
    "# Printing the model with actual variable names and interaction terms\n",
    "variable_names = [\"Intercept\", \"Alcohol_Consumption\", \"Sex\", \"Heart_Disease\", \n",
    "                  \"Alcohol_Consumption*Sex\", \"Alcohol_Consumption*Heart_Disease\", \"Sex*Heart_Disease\"]\n",
    "print(\"\\n\\nThe model with actual variable names is: \")\n",
    "print(\"BMI = \", end=\"\")\n",
    "for i, name in enumerate(variable_names):\n",
    "    print(f\"{ols_inter[i]:.3f}*{name}\" + (\" + \" if i != len(variable_names) - 1 else \"\"), end=\" \")"
   ],
   "execution_count":62,
   "outputs":[
    {
     "name":"stdout",
     "text":[
      "OLS coefficients with interaction terms:\n",
      "beta_0 = 30.111\n",
      "beta_1 = -0.124\n",
      "beta_2 = 0.587\n",
      "beta_3 = -2.062\n",
      "beta_1_2 = -0.066\n",
      "beta_1_3 = 0.119\n",
      "beta_2_3 = 2.578\n",
      "\n",
      "The model equation with x notation is: \n",
      "y = 30.111*x0 +  -0.124*x1 +  0.587*x2 +  -2.062*x3 +  -0.066*x1x2 +  0.119*x1x3 +  2.578*x2x3 \n",
      "\n",
      "The model with actual variable names is: \n",
      "BMI = 30.111*Intercept +  -0.124*Alcohol_Consumption +  0.587*Sex +  -2.062*Heart_Disease +  -0.066*Alcohol_Consumption*Sex +  0.119*Alcohol_Consumption*Heart_Disease +  2.578*Sex*Heart_Disease "
     ],
     "output_type":"stream"
    }
   ],
   "metadata":{
    "datalore":{
     "node_id":"UCV5oatfngsaWV6iT5uS2K",
     "type":"CODE",
     "hide_input_from_viewers":true,
     "hide_output_from_viewers":true
    }
   }
  },
  {
   "cell_type":"code",
   "source":[
    "def calculate_mallows_cp(y_actual, y_predicted, p):\n",
    "    \"\"\"\n",
    "    Calculate Mallows' Cp statistic for model evaluation.\n",
    "    \"\"\"\n",
    "    n = len(y_actual)\n",
    "    RSS = np.sum((y_actual - y_predicted)**2)\n",
    "    res = y_actual-y_predicted\n",
    "    var_estimate = 1\/(n-p)*sum([x**2 for x in res])\n",
    "    Cp = RSS + 2 * p * var_estimate\n",
    "    return Cp\n",
    "\n",
    "def calculate_aic(y_actual, y_predicted, p):\n",
    "    \"\"\"\n",
    "    Calculate Akaike Information Criterion (AIC) for model evaluation.\n",
    "    \"\"\"\n",
    "    n = len(y_actual)\n",
    "    RSS = np.sum((y_actual - y_predicted)**2)\n",
    "    AIC = n * np.log(RSS \/ n) + 2 * p\n",
    "    return AIC\n",
    "\n",
    "\n",
    "# 3 predictors (Alcohol_Consumption, Sex, Heart_Disease) + 1 intercept\n",
    "p_model1 = 4\n",
    "# 3 predictors + 3 interaction terms + 1 intercept\n",
    "p_model2 = 7\n",
    "Cp_model1 = calculate_mallows_cp(y, predicted_BMI, p_model1)\n",
    "AIC_model1 = calculate_aic(y, predicted_BMI, p_model1)\n",
    "\n",
    "Cp_model2 = calculate_mallows_cp(y, y_pred_inter, p_model2)\n",
    "AIC_model2 = calculate_aic(y, y_pred_inter, p_model2)\n",
    "\n",
    "\n",
    "# Output the results\n",
    "print(f\"Model 1 (Without Interactions): Cp = {Cp_model1}, AIC = {AIC_model1}\")\n",
    "print(f\"Model 2 (With Interactions): Cp = {Cp_model2}, AIC = {AIC_model2}\")\n"
   ],
   "execution_count":63,
   "outputs":[
    {
     "name":"stdout",
     "text":[
      "Model 1 (Without Interactions): Cp = 9471.409663962659, AIC = 771.5420659383086\n",
      "Model 2 (With Interactions): Cp = 9689.027180410978, AIC = 776.080666951605\n"
     ],
     "output_type":"stream"
    }
   ],
   "metadata":{
    "datalore":{
     "node_id":"7khnQiYTYE0mk1N10axpNP",
     "type":"CODE",
     "hide_input_from_viewers":true,
     "hide_output_from_viewers":true
    }
   }
  },
  {
   "cell_type":"markdown",
   "source":[
    "The comparison reveals that, according to Mallows' Cp statistic (which we want to minimize), Model 1 (which includes interaction terms) outperforms Model 2 (lacking interaction terms).We can also see that according to the AIC score (which we want to maximize), there is a preference for Model 1 over Model 2. \n",
    "\n",
    "Therefore model 1 is superior."
   ],
   "attachments":{
    
   },
   "metadata":{
    "datalore":{
     "node_id":"Lt67pjEsEPRhc8kQ2aGcoT",
     "type":"MD",
     "hide_input_from_viewers":true,
     "hide_output_from_viewers":true
    }
   }
  },
  {
   "cell_type":"markdown",
   "source":[
    "# חלק שני – רגרסיה לוגיסטית"
   ],
   "attachments":{
    
   },
   "metadata":{
    "datalore":{
     "node_id":"uHNGc1a3szqjNWD0D9o4Ue",
     "type":"MD",
     "hide_input_from_viewers":true,
     "hide_output_from_viewers":true
    }
   }
  },
  {
   "cell_type":"markdown",
   "source":[
    "## Q1"
   ],
   "attachments":{
    
   },
   "metadata":{
    "datalore":{
     "node_id":"xJjvkqUTXY5A6fJ4jNsVfM",
     "type":"MD",
     "hide_input_from_viewers":true,
     "hide_output_from_viewers":true
    }
   }
  },
  {
   "cell_type":"markdown",
   "source":[
    "**Our research question is:** How does alcohol consumption, BMI, and gender affect heart disease?"
   ],
   "attachments":{
    
   },
   "metadata":{
    "datalore":{
     "node_id":"BYU0DOQL3uQizSyTWMVFkg",
     "type":"MD",
     "hide_input_from_viewers":true,
     "hide_output_from_viewers":true
    }
   }
  },
  {
   "cell_type":"markdown",
   "source":[
    "## Q2"
   ],
   "attachments":{
    
   },
   "metadata":{
    "datalore":{
     "node_id":"nbhAnRspvvDzmcv8JPtqBw",
     "type":"MD",
     "hide_input_from_viewers":true,
     "hide_output_from_viewers":true
    }
   }
  },
  {
   "cell_type":"code",
   "source":[
    "df2 = df.copy(deep=True)\n",
    "\n",
    "# df2.drop(columns=['Age_Category'], inplace=True)\n",
    "desired_order = ['Sex', 'BMI','Alcohol_Consumption', 'Heart_Disease']\n",
    "df2 = df2[desired_order]\n",
    "\n",
    "np.random.seed(7878)\n",
    "df2_sampled = df2.sample(200)\n",
    "df2_sampled.head()"
   ],
   "execution_count":64,
   "outputs":[
    {
     "data":{
      "text\/html":[
       "<div>\n",
       "<style scoped>\n",
       "    .dataframe tbody tr th:only-of-type {\n",
       "        vertical-align: middle;\n",
       "    }\n",
       "\n",
       "    .dataframe tbody tr th {\n",
       "        vertical-align: top;\n",
       "    }\n",
       "\n",
       "    .dataframe thead th {\n",
       "        text-align: right;\n",
       "    }\n",
       "<\/style>\n",
       "<table border=\"1\" class=\"dataframe\">\n",
       "  <thead>\n",
       "    <tr style=\"text-align: right;\">\n",
       "      <th><\/th>\n",
       "      <th>Sex<\/th>\n",
       "      <th>BMI<\/th>\n",
       "      <th>Alcohol_Consumption<\/th>\n",
       "      <th>Heart_Disease<\/th>\n",
       "    <\/tr>\n",
       "  <\/thead>\n",
       "  <tbody>\n",
       "    <tr>\n",
       "      <th>54559<\/th>\n",
       "      <td>0<\/td>\n",
       "      <td>27.89<\/td>\n",
       "      <td>15.0<\/td>\n",
       "      <td>0<\/td>\n",
       "    <\/tr>\n",
       "    <tr>\n",
       "      <th>232285<\/th>\n",
       "      <td>1<\/td>\n",
       "      <td>25.61<\/td>\n",
       "      <td>0.0<\/td>\n",
       "      <td>0<\/td>\n",
       "    <\/tr>\n",
       "    <tr>\n",
       "      <th>170354<\/th>\n",
       "      <td>1<\/td>\n",
       "      <td>24.51<\/td>\n",
       "      <td>4.0<\/td>\n",
       "      <td>0<\/td>\n",
       "    <\/tr>\n",
       "    <tr>\n",
       "      <th>174040<\/th>\n",
       "      <td>1<\/td>\n",
       "      <td>26.63<\/td>\n",
       "      <td>28.0<\/td>\n",
       "      <td>0<\/td>\n",
       "    <\/tr>\n",
       "    <tr>\n",
       "      <th>34685<\/th>\n",
       "      <td>0<\/td>\n",
       "      <td>27.89<\/td>\n",
       "      <td>2.0<\/td>\n",
       "      <td>0<\/td>\n",
       "    <\/tr>\n",
       "  <\/tbody>\n",
       "<\/table>\n",
       "<\/div>"
      ]
     },
     "metadata":{
      
     },
     "output_type":"display_data"
    }
   ],
   "metadata":{
    "datalore":{
     "node_id":"yJwvz9hMC2gZm4M1lbwaMT",
     "type":"CODE",
     "hide_input_from_viewers":true,
     "hide_output_from_viewers":true
    }
   }
  },
  {
   "cell_type":"markdown",
   "source":[
    "## Q3"
   ],
   "attachments":{
    
   },
   "metadata":{
    "datalore":{
     "node_id":"aEW9zZXK0XxZGp1gqHsRGe",
     "type":"MD",
     "hide_input_from_viewers":true,
     "hide_output_from_viewers":true
    }
   }
  },
  {
   "cell_type":"markdown",
   "source":[
    "### א+ב\n",
    "We used the same variables as part 1."
   ],
   "attachments":{
    
   },
   "metadata":{
    "datalore":{
     "node_id":"jIyjTkDPWPTWsq9TjCEaLe",
     "type":"MD",
     "hide_input_from_viewers":true,
     "hide_output_from_viewers":true
    }
   }
  },
  {
   "cell_type":"markdown",
   "source":[
    "### ג"
   ],
   "attachments":{
    
   },
   "metadata":{
    "datalore":{
     "node_id":"g6vr5lDnmdLO9qgmqXTSQF",
     "type":"MD",
     "hide_input_from_viewers":true,
     "hide_output_from_viewers":true
    }
   }
  },
  {
   "cell_type":"code",
   "source":[
    "def box_plot(y_column, df):\n",
    "    plt.boxplot([df[df[\"Heart_Disease\"] == 1][y_column], df[df[\"Heart_Disease\"] == 0][y_column]], showmeans=True, labels = [\"Yes\", \"No\"])\n",
    "    plt.title(f\"{y_column} per Heart Disease\", size=17)\n",
    "    plt.xlabel(\"Heart_Disease\")\n",
    "    plt.ylabel(y_column)\n",
    "    plt.plot()\n",
    "    plt.show()\n",
    "\n",
    "\n",
    "for y_column in ['BMI','Alcohol_Consumption']:\n",
    "    box_plot(y_column, df2_sampled)"
   ],
   "execution_count":65,
   "outputs":[
    {
     "data":{
      "image\/png":"[encoded data removed]"
     },
     "metadata":{
      "image\/png":{
       
      }
     },
     "output_type":"display_data"
    },
    {
     "data":{
      "image\/png":"[encoded data removed]"
     },
     "metadata":{
      "image\/png":{
       
      }
     },
     "output_type":"display_data"
    }
   ],
   "metadata":{
    "datalore":{
     "node_id":"EG56zsgNhs8Pz7fkVPW9um",
     "type":"CODE",
     "hide_input_from_viewers":true,
     "hide_output_from_viewers":true
    }
   }
  },
  {
   "cell_type":"markdown",
   "source":[
    "The alcohol consumption boxplot for people with heart disease is a bit problematic (because of the lack of samples in that category), so we want to use a histogram to see the full picture."
   ],
   "attachments":{
    
   },
   "metadata":{
    "datalore":{
     "node_id":"IlpotjYcZJG2fZBUhdEPRr",
     "type":"MD",
     "hide_input_from_viewers":true,
     "hide_output_from_viewers":true
    }
   }
  },
  {
   "cell_type":"code",
   "source":[
    "\n",
    "def hist_plot(y_column, df):\n",
    "    # Define the bins for the histogram\n",
    "    bins = np.linspace(min(df[y_column]), max(df[y_column]), 20)\n",
    "\n",
    "    # Plot the histogram for individuals with heart disease\n",
    "    plt.hist(df[df[\"Heart_Disease\"] == 1][y_column], bins, alpha=0.5, label='Yes', color='red')\n",
    "\n",
    "    # Plot the histogram for individuals without heart disease\n",
    "    plt.hist(df[df[\"Heart_Disease\"] == 0][y_column], bins, alpha=0.5, label='No', color='blue')\n",
    "\n",
    "    # Adding plot titles and labels\n",
    "    plt.title(f\"{y_column} Distribution per Heart Disease\", size=17)\n",
    "    plt.xlabel(y_column)\n",
    "    plt.ylabel('Frequency')\n",
    "    \n",
    "    # Adding a legend to differentiate the two histograms\n",
    "    plt.legend(title='Heart Disease')\n",
    "\n",
    "    # Display the plot\n",
    "    plt.show()\n",
    "\n",
    "\n",
    "hist_plot('Alcohol_Consumption', df2_sampled)"
   ],
   "execution_count":66,
   "outputs":[
    {
     "data":{
      "image\/png":"[encoded data removed]"
     },
     "metadata":{
      "image\/png":{
       
      }
     },
     "output_type":"display_data"
    }
   ],
   "metadata":{
    "datalore":{
     "node_id":"RP6jgOKgmvH7LWGsQUMNcr",
     "type":"CODE",
     "hide_input_from_viewers":true,
     "hide_output_from_viewers":true
    }
   }
  },
  {
   "cell_type":"markdown",
   "source":[
    "We can see that in our sample, all of the people with heart disease consume little or no alcohol."
   ],
   "attachments":{
    
   },
   "metadata":{
    "datalore":{
     "node_id":"ApUL7Gz6srlCBnY39nN3ee",
     "type":"MD",
     "hide_input_from_viewers":true,
     "hide_output_from_viewers":true
    }
   }
  },
  {
   "cell_type":"markdown",
   "source":[
    "It's hard to decide which of 2 variables have more impact on heart disease, as we don't have a lot of data of people with heart disease in our sample. It appears that people with heart disease consume more alcohol (based on the average, median and upper whisker)."
   ],
   "attachments":{
    
   },
   "metadata":{
    "datalore":{
     "node_id":"pTxSBGvYtpcYDoglNSTTQ8",
     "type":"MD",
     "hide_input_from_viewers":true,
     "hide_output_from_viewers":true
    }
   }
  },
  {
   "cell_type":"markdown",
   "source":[
    "## Q4"
   ],
   "attachments":{
    
   },
   "metadata":{
    "datalore":{
     "node_id":"IPK5ByOk3yTvPnS8KvOW6n",
     "type":"MD",
     "hide_input_from_viewers":true,
     "hide_output_from_viewers":true
    }
   }
  },
  {
   "cell_type":"code",
   "source":[
    "x_list =['Sex', 'BMI', 'Alcohol_Consumption']\n",
    "y_title= 'Heart_Disease'"
   ],
   "execution_count":67,
   "outputs":[
    
   ],
   "metadata":{
    "datalore":{
     "node_id":"wd9C0KckTMo0k4fNOILeIM",
     "type":"CODE",
     "hide_input_from_viewers":true,
     "hide_output_from_viewers":true
    }
   }
  },
  {
   "cell_type":"code",
   "source":[
    "# Prepare the feature matrix X of the sampled data by selecting specific variables and adding an intercept term.\n",
    "X = df2_sampled[x_list].to_numpy()\n",
    "X = np.c_[np.ones(X.shape[0]), X]  # Add a column of ones to represent the intercept.\n",
    "\n",
    "# Prepare the target variable array y.\n",
    "y = df2_sampled[y_title].to_numpy()\n",
    "\n",
    "# Fit a logistic regression model without regularization (penalty='none') and without fitting the intercept (already included).\n",
    "model = LogisticRegression(penalty=None, fit_intercept=False).fit(X, y)\n",
    "\n",
    "# Retrieve the estimated coefficients from the model.\n",
    "beta_est = model.coef_[0]\n",
    "print(f\"Coefficients: {beta_est}\")\n",
    "\n",
    "# Display the logistic model equation in a human-readable format.\n",
    "print(\"The logistic model equation is: \")\n",
    "print(\"Heart_Disease = \", end=\"\")\n",
    "for i, coef in enumerate(beta_est):\n",
    "    # Format the intercept separately from the other coefficients.\n",
    "    if i == 0:\n",
    "        print(f\"{coef:.3f} + \", end=\"\")\n",
    "    elif i == len(beta_est) - 1:\n",
    "        print(f\"{coef:.3f} * x_{i}\")\n",
    "    else:\n",
    "        print(f\"{coef:.3f} * x_{i} + \", end=\"\")\n",
    "\n",
    "# Provide an interpretation for the coefficients in terms of change in log-odds.\n",
    "print(\"\\nInterpretation of the coefficients (change in log-odds):\")\n",
    "for i in range(1, len(beta_est)):\n",
    "    # Explain how a one-unit change in each feature affects the odds ratio.\n",
    "    print(f\"If we increase x{i-1} by 1 unit, the odds multiply by a factor of: {np.exp(beta_est[i]):.5f}\")"
   ],
   "execution_count":68,
   "outputs":[
    {
     "name":"stdout",
     "text":[
      "Coefficients: [-3.55704603 -0.39566336  0.05415845 -0.16197259]\n",
      "The logistic model equation is: \n",
      "Heart_Disease = -3.557 + -0.396 * x_1 + 0.054 * x_2 + -0.162 * x_3\n",
      "\n",
      "Interpretation of the coefficients (change in log-odds):\n",
      "If we increase x0 by 1 unit, the odds multiply by a factor of: 0.67323\n",
      "If we increase x1 by 1 unit, the odds multiply by a factor of: 1.05565\n",
      "If we increase x2 by 1 unit, the odds multiply by a factor of: 0.85046\n"
     ],
     "output_type":"stream"
    }
   ],
   "metadata":{
    "datalore":{
     "node_id":"D9SWpfMDOtrezwgFG1JEHi",
     "type":"CODE",
     "hide_input_from_viewers":true,
     "hide_output_from_viewers":true
    }
   }
  },
  {
   "cell_type":"markdown",
   "source":[
    "For logistic regression, the $\\beta$ coefficients relate the independent variables to the log odds of the dependent variable. Their interpretations are as follows:\n",
    "\n",
    "1. Intercept ($\\beta_0$): This coefficient represents the log odds of the dependent variable $Y$ when all the independent variables $X$ are at their zero level.\n",
    "\n",
    "2. Slope Coefficients ($\\beta_1, \\beta_2, \\ldots, \\beta_k$): These coefficients correspond to the independent variables in the model. A coefficient $\\beta_i$ represents the expected change in the log odds of the dependent variable $Y$ for a one-unit increase in the independent variable $X_i$, assuming all other variables are held constant.\n",
    "\n",
    "Effect of Increasing a Variable by One Unit:\n",
    "\n",
    "If you increase an independent variable $X_i$ by 1 unit, while holding other variables constant, the log odds of $Y$ are expected to change by $\\beta_i$ units.\n",
    "In terms of the probability of $Y$, for a one-unit increase in $X_i$, the odds of $Y$ occurring are multiplied by $e^{\\beta_i}$, known as the odds ratio (OR)."
   ],
   "attachments":{
    
   },
   "metadata":{
    "datalore":{
     "node_id":"bwFYF3ymR4oJIpvgW37rgK",
     "type":"MD",
     "hide_input_from_viewers":true,
     "hide_output_from_viewers":true
    }
   }
  },
  {
   "cell_type":"markdown",
   "source":[
    "## Q5"
   ],
   "attachments":{
    
   },
   "metadata":{
    "datalore":{
     "node_id":"RiEQNrBRHYKXybJIhIsww2",
     "type":"MD",
     "hide_input_from_viewers":true,
     "hide_output_from_viewers":true
    }
   }
  },
  {
   "cell_type":"code",
   "source":[
    "def calculate_pi(i,X):\n",
    "    # For building the Covariance matrix\n",
    "    bT_Xi = np.matmul(beta_est.T, X[i])\n",
    "    return np.exp(bT_Xi) \/ (1 + np.exp(bT_Xi))\n",
    "\n",
    "#find the beta coeffients for the original data.\n",
    "X_original = df2[x_list].to_numpy()\n",
    "X_original = np.c_[np.ones(X_original.shape[0]), X_original]  # Add intercept term.\n",
    "Y_original = df2[y_title].to_numpy()\n",
    "model_original = LogisticRegression(penalty=None, fit_intercept=False).fit(X_original, Y_original)\n",
    "beta_est_original = model_original.coef_[0]\n",
    "\n",
    "# Compute the diagonal elements for the variance-covariance matrix of the sample data.\n",
    "diagonal = [calculate_pi(i,X) * (1 - calculate_pi(i,X)) for i in range(X.shape[0])]\n",
    "\n",
    "# Calculate the variance-covariance matrix for the sampled data.\n",
    "V = np.diag(diagonal)\n",
    "C = np.linalg.inv(X.T @ V @ X)\n",
    "\n",
    "# Get the z-score for a 95% confidence interval.\n",
    "norm_quantile = stats.norm.ppf(0.975)\n",
    "\n",
    "# Iterate through each coefficient (of the sampled data) to calculate and display its confidence interval\n",
    "for i, variable in zip(range(beta_est_original.shape[0]), ['Intercept (beta_0)'] + x_list):\n",
    "    std_estimate = np.sqrt(C[i][i])\n",
    "    CI_lower = beta_est[i] - norm_quantile * std_estimate\n",
    "    CI_upper = beta_est[i] + norm_quantile * std_estimate\n",
    "    print(f\"Confidence Interval (95%) for {variable}: [{CI_lower:.3f}, {CI_upper:.3f}]. Original estimator: {beta_est_original[i]}\")\n",
    "\n",
    "    # Check and display whether the CI includes the original estimator.\n",
    "    print(f\"Is the original estimator within the CI for {variable}? {CI_lower <= beta_est_original[i] <= CI_upper}\\n\")\n",
    "    print('******************')"
   ],
   "execution_count":69,
   "outputs":[
    {
     "name":"stdout",
     "text":[
      "Confidence Interval (95%) for Intercept (beta_0): [-5.949, -1.165]. Original estimator: -2.6480974631736425\n",
      "Is the original estimator within the CI for Intercept (beta_0)? True\n",
      "\n",
      "******************\n",
      "Confidence Interval (95%) for Sex: [-1.487, 0.695]. Original estimator: -0.5816555470713388\n",
      "Is the original estimator within the CI for Sex? True\n",
      "\n",
      "******************\n",
      "Confidence Interval (95%) for BMI: [-0.019, 0.127]. Original estimator: 0.020144876518576178\n",
      "Is the original estimator within the CI for BMI? True\n",
      "\n",
      "******************\n",
      "Confidence Interval (95%) for Alcohol_Consumption: [-0.381, 0.057]. Original estimator: -0.02145467978888308\n",
      "Is the original estimator within the CI for Alcohol_Consumption? True\n",
      "\n",
      "******************\n"
     ],
     "output_type":"stream"
    }
   ],
   "metadata":{
    "datalore":{
     "node_id":"Qqs7KSuaB6mo9lNrruh7Yp",
     "type":"CODE",
     "hide_input_from_viewers":true,
     "hide_output_from_viewers":true
    }
   }
  },
  {
   "cell_type":"markdown",
   "source":[
    "## Q6"
   ],
   "attachments":{
    
   },
   "metadata":{
    "datalore":{
     "node_id":"ubnm374NcV7qF2AjjmOtMQ",
     "type":"MD",
     "hide_input_from_viewers":true,
     "hide_output_from_viewers":true
    }
   }
  },
  {
   "cell_type":"markdown",
   "source":[
    "**The full calculation of the test statistic and the test details can be found in this link:**\n",
    "\n",
    "https:\/\/drive.google.com\/file\/d\/1Ckp-Zur1U9tXAeqSoIKnc2lxiiNveJYT\/view?usp=sharing"
   ],
   "attachments":{
    
   },
   "metadata":{
    "datalore":{
     "node_id":"BNNgp3i7uCDkxZX7XGuubT",
     "type":"MD",
     "hide_input_from_viewers":true,
     "hide_output_from_viewers":true
    }
   }
  },
  {
   "cell_type":"code",
   "source":[
    "# building the dataset with interaction terms \n",
    "x_1 = df2_sampled['Sex'].to_numpy()\n",
    "x_2 = df2_sampled['BMI'].to_numpy()\n",
    "x_3 = df2_sampled['Alcohol_Consumption'].to_numpy()\n",
    "y = df2_sampled['Heart_Disease'].to_numpy()\n",
    "\n",
    "# making interactions\n",
    "x_1_2 = np.multiply(x_1,x_2)\n",
    "x_1_3 = np.multiply(x_1,x_3)\n",
    "x_2_3 = np.multiply(x_2,x_3)\n",
    "interaction_terms = [x_1_2, x_1_3,x_2_3]\n",
    "\n",
    "interactions_df = df2_sampled[x_list].copy()\n",
    "interactions_df[\"Sex&BMI\"] = x_1_2\n",
    "interactions_df[\"Sex&Alcohol_Consumption\"] = x_1_3\n",
    "interactions_df[\"BMI&Alcohol_Consumption\"] = x_2_3    \n",
    "\n",
    "interactions_df.head()"
   ],
   "execution_count":70,
   "outputs":[
    {
     "data":{
      "text\/html":[
       "<div>\n",
       "<style scoped>\n",
       "    .dataframe tbody tr th:only-of-type {\n",
       "        vertical-align: middle;\n",
       "    }\n",
       "\n",
       "    .dataframe tbody tr th {\n",
       "        vertical-align: top;\n",
       "    }\n",
       "\n",
       "    .dataframe thead th {\n",
       "        text-align: right;\n",
       "    }\n",
       "<\/style>\n",
       "<table border=\"1\" class=\"dataframe\">\n",
       "  <thead>\n",
       "    <tr style=\"text-align: right;\">\n",
       "      <th><\/th>\n",
       "      <th>Sex<\/th>\n",
       "      <th>BMI<\/th>\n",
       "      <th>Alcohol_Consumption<\/th>\n",
       "      <th>Sex&amp;BMI<\/th>\n",
       "      <th>Sex&amp;Alcohol_Consumption<\/th>\n",
       "      <th>BMI&amp;Alcohol_Consumption<\/th>\n",
       "    <\/tr>\n",
       "  <\/thead>\n",
       "  <tbody>\n",
       "    <tr>\n",
       "      <th>54559<\/th>\n",
       "      <td>0<\/td>\n",
       "      <td>27.89<\/td>\n",
       "      <td>15.0<\/td>\n",
       "      <td>0.00<\/td>\n",
       "      <td>0.0<\/td>\n",
       "      <td>418.35<\/td>\n",
       "    <\/tr>\n",
       "    <tr>\n",
       "      <th>232285<\/th>\n",
       "      <td>1<\/td>\n",
       "      <td>25.61<\/td>\n",
       "      <td>0.0<\/td>\n",
       "      <td>25.61<\/td>\n",
       "      <td>0.0<\/td>\n",
       "      <td>0.00<\/td>\n",
       "    <\/tr>\n",
       "    <tr>\n",
       "      <th>170354<\/th>\n",
       "      <td>1<\/td>\n",
       "      <td>24.51<\/td>\n",
       "      <td>4.0<\/td>\n",
       "      <td>24.51<\/td>\n",
       "      <td>4.0<\/td>\n",
       "      <td>98.04<\/td>\n",
       "    <\/tr>\n",
       "    <tr>\n",
       "      <th>174040<\/th>\n",
       "      <td>1<\/td>\n",
       "      <td>26.63<\/td>\n",
       "      <td>28.0<\/td>\n",
       "      <td>26.63<\/td>\n",
       "      <td>28.0<\/td>\n",
       "      <td>745.64<\/td>\n",
       "    <\/tr>\n",
       "    <tr>\n",
       "      <th>34685<\/th>\n",
       "      <td>0<\/td>\n",
       "      <td>27.89<\/td>\n",
       "      <td>2.0<\/td>\n",
       "      <td>0.00<\/td>\n",
       "      <td>0.0<\/td>\n",
       "      <td>55.78<\/td>\n",
       "    <\/tr>\n",
       "  <\/tbody>\n",
       "<\/table>\n",
       "<\/div>"
      ]
     },
     "metadata":{
      
     },
     "output_type":"display_data"
    }
   ],
   "metadata":{
    "datalore":{
     "node_id":"n1ERU5c8uz7muloPbi4m3H",
     "type":"CODE",
     "hide_input_from_viewers":true,
     "hide_output_from_viewers":true
    }
   }
  },
  {
   "cell_type":"code",
   "source":[
    "# Get logistic regression coeffients for the model with interactions\n",
    "\n",
    "X_inter = np.c_[X, x_1_2, x_1_3, x_2_3]\n",
    "\n",
    "interaction_model = LogisticRegression(penalty=None, fit_intercept=False).fit(X_inter, y)\n",
    "beta_interaction = interaction_model.coef_[0]\n",
    "\n",
    "\n",
    "\n",
    "print(\"OLS coefficients with interaction terms:\")\n",
    "print(f\"beta_0 = {beta_interaction[0]:.3f}\")  # Intercept\n",
    "print(f\"beta_1 = {beta_interaction[1]:.3f}\")  # x_1\n",
    "print(f\"beta_2 = {beta_interaction[2]:.3f}\")  # x_2\n",
    "print(f\"beta_3 = {beta_interaction[3]:.3f}\")  # x_3\n",
    "print(f\"beta_1_2 = {beta_interaction[4]:.3f}\")  # Interaction x_1_x_2\n",
    "print(f\"beta_1_3 = {beta_interaction[5]:.3f}\")  # Interaction x_1_x_3\n",
    "print(f\"beta_2_3 = {beta_interaction[6]:.3f}\")  # Interaction x_2_x_3\n",
    "\n",
    "# Printing the model with x notation and interaction terms\n",
    "print(\"\\nThe model equation with x notation is: \")\n",
    "print(\"y = \", end=\"\")\n",
    "labels = [\"x0\", \"x1\", \"x2\", \"x3\", \"x1x2\", \"x1x3\", \"x2x3\"]\n",
    "for i, label in enumerate(labels):\n",
    "    print(f\"{beta_interaction[i]:.3f}*{label}\" + (\" + \" if i != len(beta_interaction) - 1 else \"\"), end=\" \")\n",
    "\n",
    "# Printing the model with actual variable names and interaction terms\n",
    "variable_names = [\"Intercept (beta_0)\", \"Sex\", \"BMI\", \"Alcohol_Consumption\", \n",
    "                  \"Sex*BMI\", \"Sex*Alcohol_Consumption\", \"BMI*Alcohol_Consumption\"]\n",
    "print(\"\\n\\nThe model with actual variable names is: \")\n",
    "print(\"Heart_Disease = \", end=\"\")\n",
    "for i, name in enumerate(variable_names):\n",
    "    print(f\"{beta_interaction[i]:.3f}*{name}\" + (\" + \" if i != len(variable_names) - 1 else \"\"), end=\" \")"
   ],
   "execution_count":71,
   "outputs":[
    {
     "name":"stdout",
     "text":[
      "OLS coefficients with interaction terms:\n",
      "beta_0 = -3.809\n",
      "beta_1 = -0.000\n",
      "beta_2 = 0.059\n",
      "beta_3 = 0.260\n",
      "beta_1_2 = -0.000\n",
      "beta_1_3 = -6.012\n",
      "beta_2_3 = -0.014\n",
      "\n",
      "The model equation with x notation is: \n",
      "y = -3.809*x0 +  -0.000*x1 +  0.059*x2 +  0.260*x3 +  -0.000*x1x2 +  -6.012*x1x3 +  -0.014*x2x3 \n",
      "\n",
      "The model with actual variable names is: \n",
      "Heart_Disease = -3.809*Intercept (beta_0) +  -0.000*Sex +  0.059*BMI +  0.260*Alcohol_Consumption +  -0.000*Sex*BMI +  -6.012*Sex*Alcohol_Consumption +  -0.014*BMI*Alcohol_Consumption "
     ],
     "output_type":"stream"
    }
   ],
   "metadata":{
    "datalore":{
     "node_id":"E34qzEojy0mmNjBygk4uem",
     "type":"CODE",
     "hide_input_from_viewers":true,
     "hide_output_from_viewers":true
    }
   }
  },
  {
   "cell_type":"code",
   "source":[
    "def log_value(i):\n",
    "    \"\"\"\n",
    "    Compute the log of the ratio of two logistic functions evaluated at the i-th observation.\n",
    "    \"\"\"\n",
    "    return np.log((1 + np.exp(beta_interaction[:4] @ X[i])) \/ (1 + np.exp(beta_interaction @ X_inter[i])))\n",
    "\n",
    "def first_value(i):\n",
    "    \"\"\"\n",
    "    Compute the product of y[i] and the dot product of the interaction coefficients and the interaction terms.\n",
    "    \"\"\"\n",
    "    return y[i] * beta_interaction[4:] @ X_inter[i][4:]"
   ],
   "execution_count":72,
   "outputs":[
    
   ],
   "metadata":{
    "datalore":{
     "node_id":"rqrTG6IxtY1eGYykbSSyaQ",
     "type":"CODE",
     "hide_input_from_viewers":true,
     "hide_output_from_viewers":true
    }
   }
  },
  {
   "cell_type":"code",
   "source":[
    "# Calculate the test statistic as twice the sum of first_value(i) and log_value(i) for all observations.\n",
    "statistic = 2 * sum([first_value(i) + log_value(i) for i in range(X.shape[0])])\n",
    "\n",
    "# Determine the critical value from the chi-squared distribution with 3 degrees of freedom at the 95% confidence level.\n",
    "quantile = stats.chi2.ppf(0.95, 3)\n",
    "# Calculate the p-value\n",
    "p_value = 1 - stats.chi2.cdf(statistic, 3)\n",
    "alpha = 0.05\n",
    "\n",
    "print(f\"Statistic: {statistic}\")\n",
    "print(f\"p-value: {p_value}\")\n",
    "print(f\"Should we Reject H0? {p_value < alpha}\")"
   ],
   "execution_count":73,
   "outputs":[
    {
     "name":"stdout",
     "text":[
      "Statistic: 237.89892620511864\n",
      "p-value: 0.0\n",
      "Should we Reject H0? True\n"
     ],
     "output_type":"stream"
    }
   ],
   "metadata":{
    "datalore":{
     "node_id":"YvaOTmCi34xKwY7585l6RU",
     "type":"CODE",
     "hide_input_from_viewers":true,
     "hide_output_from_viewers":true
    }
   }
  },
  {
   "cell_type":"markdown",
   "source":[
    "According to the likelihood ratio test, we rejected the null hypothesis that $\\beta_{12} = \\beta_{23} = \\beta_{13} = 0$. Hence, the model with the interactions $(\\beta_{1,2}, \\beta_{13}, \\beta_{23})$ is better than the model without the interactions $(\\beta_{1,2}, \\beta_{13}, \\beta_{23})$.\n"
   ],
   "attachments":{
    
   },
   "metadata":{
    "datalore":{
     "node_id":"nRleNYZu82nzU5vh6hdkwG",
     "type":"MD",
     "hide_input_from_viewers":true,
     "hide_output_from_viewers":true
    }
   }
  },
  {
   "cell_type":"code",
   "source":[
    "def AIC(X, y, beta_est):\n",
    "    \"\"\"\n",
    "    Calculate the Akaike Information Criterion (AIC) score for a logistic regression model.\n",
    "    \"\"\"\n",
    "    score = 0\n",
    "    # Iterate over each observation in the dataset.\n",
    "    for i in range(X.shape[0]):\n",
    "        # Compute the linear combination of features and coefficients.\n",
    "        lin_comb = beta_est @ X[i]\n",
    "        # Increment the score by the log-likelihood contribution of the current observation.\n",
    "        score += y[i] * lin_comb - np.log(1 + np.exp(lin_comb))\n",
    "    # Adjust the score for the number of parameters (excluding the intercept) and return.\n",
    "    return round(score - (beta_est.shape[0] - 1), 3)\n",
    "\n",
    "# Print the AIC values for both models.\n",
    "print(f\"AIC of regular model: {AIC(X, y, beta_est)}\")\n",
    "print(f\"AIC of model with interactions: {AIC(X_inter, y, beta_interaction)}\")\n"
   ],
   "execution_count":74,
   "outputs":[
    {
     "name":"stdout",
     "text":[
      "AIC of regular model: -52.135\n",
      "AIC of model with interactions: -52.793\n"
     ],
     "output_type":"stream"
    }
   ],
   "metadata":{
    "datalore":{
     "node_id":"23OhVmb8Mzl0bBoF0UK8Pc",
     "type":"CODE",
     "hide_input_from_viewers":true,
     "hide_output_from_viewers":true
    }
   }
  },
  {
   "cell_type":"markdown",
   "source":[
    "The AIC score of the model was calculated according to the formula for MLE from class:\n",
    "\n",
    "$\n",
    "\n",
    "\\ell_n(\\beta) = \\sum_{i=1}^{n} \\left( Y_i \\beta^t X_i - \\log(1 + e^{\\beta^t X_i}) \\right)\n",
    "\n",
    "$\n",
    "\n",
    "Based on the AIC criterion, the model with the interactions $(\\beta_{1,2}, \\beta_{13}, \\beta_{23})$ is better, because it has a lower score. \n",
    "All in all, based on two model selection methods, the model with the interactions terms is better."
   ],
   "attachments":{
    
   },
   "metadata":{
    "datalore":{
     "node_id":"VvKMMO8QAPPJDJVwhulym4",
     "type":"MD",
     "hide_input_from_viewers":true,
     "hide_output_from_viewers":true
    }
   }
  },
  {
   "cell_type":"markdown",
   "source":[
    "## Q7"
   ],
   "attachments":{
    
   },
   "metadata":{
    "datalore":{
     "node_id":"GNAu3IKyj80u2GRaSnlAr6",
     "type":"MD",
     "hide_input_from_viewers":true,
     "hide_output_from_viewers":true
    }
   }
  },
  {
   "cell_type":"code",
   "source":[
    "def select_variable_forward(X, y, chosen_vars, remaining_vars, compute_score):\n",
    "    \"\"\"\n",
    "    Select a new variable for the forward stepwise variable selection. \n",
    "    \"\"\"\n",
    "    # Initialize variables to track the best candidate for inclusion and its score.\n",
    "    optimal_var = None\n",
    "    optimal_score = -math.inf\n",
    "    \n",
    "    # Iterate over all variables that are pending selection.\n",
    "    for candidate_var in remaining_vars:\n",
    "        # Create the feature matrix for the current selection of variables plus the candidate.\n",
    "        X_current = X[chosen_vars + [candidate_var]].to_numpy()\n",
    "        \n",
    "        # Train the logistic regression model without any regularization.\n",
    "        logistic_model = LogisticRegression(penalty=None, fit_intercept=False)\n",
    "        logistic_model.fit(X_current, y)\n",
    "        \n",
    "        # Obtain the model's coefficients.\n",
    "        coefficients = logistic_model.coef_[0]\n",
    "        \n",
    "        # Use the provided scoring function to evaluate the model.\n",
    "        score_current = compute_score(X_current, y, coefficients)\n",
    "        \n",
    "        # Update the optimal choice if the current score is an improvement.\n",
    "        if score_current > optimal_score:\n",
    "            optimal_var = candidate_var\n",
    "            optimal_score = score_current\n",
    "    \n",
    "    # Exclude the chosen variable from the set of remaining variables.\n",
    "    if optimal_var is not None:\n",
    "        remaining_vars.remove(optimal_var)\n",
    "    \n",
    "    # Return the updated best score, the selected variables including the new addition, and the updated set of variables.\n",
    "    return optimal_score, chosen_vars + [optimal_var], remaining_vars\n",
    "\n",
    "def forward_stepwise(X, y, get_score_func):\n",
    "    \"\"\"\n",
    "    Perform forward stepwise variable selection based on a specified scoring function.\n",
    "    \"\"\"\n",
    "\n",
    "    # Initialize the set of all variables and the set of variables left to select.\n",
    "    variables = set(X.columns)\n",
    "    left_variables = variables.copy()\n",
    "    \n",
    "    # Initialize the score and selected variables.\n",
    "    score, selected_var = -math.inf, []\n",
    "    \n",
    "    # Perform the first step of forward selection.\n",
    "    next_score, selected_var, left_variables = select_variable_forward(X, y, selected_var, left_variables, get_score_func)\n",
    "    \n",
    "    # Continue adding variables as long as the score improves.\n",
    "    while score < next_score:\n",
    "        score = next_score  # Update the current best score to the new score.\n",
    "        # Update selected variables and remaining variables based on the current selection step.\n",
    "        next_score, selected_var, left_variables = select_variable_forward(X, y, selected_var, left_variables, get_score_func)\n",
    "    \n",
    "    # Return the final set of selected variables and the corresponding score.\n",
    "    return selected_var, score"
   ],
   "execution_count":75,
   "outputs":[
    
   ],
   "metadata":{
    "datalore":{
     "node_id":"R5I4ilL7XJhyHNoGs6yubc",
     "type":"CODE",
     "hide_input_from_viewers":true,
     "hide_output_from_viewers":true
    }
   }
  },
  {
   "cell_type":"code",
   "source":[
    "from sklearn.linear_model import LogisticRegression\n",
    "\n",
    "def select_variable_backward(X, y, current_vars, evaluate_score):\n",
    "    \"\"\"\n",
    "    Iteratively remove variables to find the optimal subset using backward selection.\n",
    "    \"\"\"\n",
    "    # Initialize variables for tracking the optimal subset of variables and its score.\n",
    "    optimal_subset = None\n",
    "    max_score = -math.inf\n",
    "    \n",
    "    # Iterate over the currently selected variables to determine which one to remove.\n",
    "    for variable in current_vars:\n",
    "        trial_vars = current_vars.copy()\n",
    "        trial_vars.remove(variable)\n",
    "        \n",
    "        # Construct the feature matrix for the current subset of variables.\n",
    "        X_trial = X[list(trial_vars)].to_numpy()\n",
    "        \n",
    "        # Train the logistic regression model on the reduced set of variables.\n",
    "        trial_model = LogisticRegression(penalty=None, fit_intercept=False, max_iter=1000)\n",
    "        trial_model.fit(X_trial, y)\n",
    "        \n",
    "        # Extract the model's coefficients and evaluate the score.\n",
    "        trial_coef = trial_model.coef_[0]\n",
    "        trial_score = evaluate_score(X_trial, y, trial_coef)\n",
    "        \n",
    "        # Update the optimal subset if the current score is an improvement.\n",
    "        if trial_score > max_score:\n",
    "            optimal_subset = trial_vars\n",
    "            max_score = trial_score\n",
    "    \n",
    "    # Return the best score and the corresponding subset of variables.\n",
    "    return max_score, optimal_subset\n",
    "\n",
    "def backward_stepwise(X, y, evaluate_score):\n",
    "    \"\"\"\n",
    "    Perform backward stepwise variable selection.\n",
    "    \"\"\"\n",
    "    # Initialize the set of all variables.\n",
    "    all_vars = set(X.columns)\n",
    "    \n",
    "    # Train the logistic regression model using all variables.\n",
    "    full_model = LogisticRegression(penalty=None, fit_intercept=False, max_iter=1000)\n",
    "    full_model.fit(X, y)\n",
    "    \n",
    "    # Extract the model's coefficients and compute the initial score.\n",
    "    full_coef = full_model.coef_[0]\n",
    "    current_vars = all_vars.copy()\n",
    "    best_score = evaluate_score(X.to_numpy(), y, full_coef)\n",
    "    \n",
    "    # Begin the backward elimination process.\n",
    "    improved_score, current_vars = select_variable_backward(X, y, current_vars, evaluate_score)\n",
    "    \n",
    "    # Iteratively remove variables while the score improves.\n",
    "    while best_score < improved_score:\n",
    "        best_score = improved_score\n",
    "        improved_score, current_vars = select_variable_backward(X, y, current_vars, evaluate_score)\n",
    "    \n",
    "    # Return the final subset of variables and the best score achieved.\n",
    "    return current_vars, best_score"
   ],
   "execution_count":76,
   "outputs":[
    
   ],
   "metadata":{
    "datalore":{
     "node_id":"9aavVYt7uM9BvxS0E6K2Xi",
     "type":"CODE",
     "hide_input_from_viewers":true,
     "hide_output_from_viewers":true
    }
   }
  },
  {
   "cell_type":"code",
   "source":[
    "# Apply the variable selection methods using the AIC score as the criterion.\n",
    "\n",
    "selected_variables, score = forward_stepwise(interactions_df, y, AIC)\n",
    "print(f\"Selected variables using forward stepwise: {list(selected_variables)}, AIC score: {score}\")\n",
    "\n",
    "selected_variables, score = backward_stepwise(interactions_df, y, AIC)\n",
    "print(f\"Selected variables using backward stepwise: {list(selected_variables)}, AIC score: {score}\")"
   ],
   "execution_count":77,
   "outputs":[
    {
     "name":"stdout",
     "text":[
      "Selected variables using forward stepwise: ['BMI', 'Alcohol_Consumption', 'Sex&Alcohol_Consumption', 'Sex'], AIC score: -53.303\n",
      "Selected variables using backward stepwise: ['Sex', 'Alcohol_Consumption', 'Sex&BMI', 'BMI'], AIC score: -52.913\n"
     ],
     "output_type":"stream"
    }
   ],
   "metadata":{
    "datalore":{
     "node_id":"D8zYuZvraGag5vUMqen5gr",
     "type":"CODE",
     "hide_input_from_viewers":true,
     "hide_output_from_viewers":true
    }
   }
  },
  {
   "cell_type":"markdown",
   "source":[
    "The best model that we got with the AIC scoring function was achieved with the backward stepwise method, although the difference is marginal, both in terms of the scores and the models, which differ only in 1 variable. "
   ],
   "attachments":{
    
   },
   "metadata":{
    "datalore":{
     "node_id":"hxHVJJPgd69aKkv0cnSJBY",
     "type":"MD",
     "hide_input_from_viewers":true,
     "hide_output_from_viewers":true
    }
   }
  },
  {
   "cell_type":"markdown",
   "source":[
    "## Q8"
   ],
   "attachments":{
    
   },
   "metadata":{
    "datalore":{
     "node_id":"o69ExUk9gNKvZgB2bG3gv8",
     "type":"MD",
     "hide_input_from_viewers":true,
     "hide_output_from_viewers":true
    }
   }
  },
  {
   "cell_type":"code",
   "source":[
    "def BIC(X, y, beta_est):\n",
    "    \"\"\"\n",
    "    Calculate the Bayesian Information Criterion (BIC) score for a logistic regression model.\n",
    "    \"\"\"\n",
    "    score = 0\n",
    "    # Iterate over each observation in the dataset.\n",
    "    for i in range(X.shape[0]):\n",
    "        # Compute the linear combination of features and coefficients.\n",
    "        lin_comb = beta_est @ X[i]\n",
    "        # Increment the score by the log-likelihood contribution of the current observation.\n",
    "        score += y[i] * lin_comb - np.log(1 + math.exp(lin_comb))\n",
    "    # Adjust the score for the number of parameters and the sample size, then return.\n",
    "    return round(score - (beta_est.shape[0] - 1) * math.log(y.shape[0]) \/ 2, 3)\n",
    "\n",
    "\n",
    "# Apply the variable selection methods using the BIC score as the criterion.\n",
    "selected_variables, score = forward_stepwise(interactions_df, y, BIC)\n",
    "print(f\"Selected variables using forward stepwise: {list(selected_variables)}, BIC score: {score}\")\n",
    "\n",
    "selected_variables, score = backward_stepwise(interactions_df, y, BIC)\n",
    "print(f\"Selected variables using backward stepwise: {list(selected_variables)}, BIC score: {score}\")\n"
   ],
   "execution_count":78,
   "outputs":[
    {
     "name":"stdout",
     "text":[
      "Selected variables using forward stepwise: ['BMI', 'Alcohol_Consumption', 'Sex&Alcohol_Consumption', 'Sex'], BIC score: -56.601\n",
      "Selected variables using backward stepwise: ['BMI'], BIC score: -56.64\n"
     ],
     "output_type":"stream"
    }
   ],
   "metadata":{
    "datalore":{
     "node_id":"UqFvv4ZMe1Rsg14NWdbtCW",
     "type":"CODE",
     "hide_input_from_viewers":true,
     "hide_output_from_viewers":true
    }
   }
  },
  {
   "cell_type":"markdown",
   "source":[
    "The best model that we got with the BIC scoring function was achieved with the forward stepwise method, although the difference is marginal again. We can also see that we got the same model that we got earlier using AIC and forward stepwise.\n",
    "\n",
    "Interestingly,  a very simple model that includes only the BMI variable still gets a good score (the one chosen by the backward stepwise method), which makes sense because BIC punishes the complexity of the model more heavily than AIC."
   ],
   "attachments":{
    
   },
   "metadata":{
    "datalore":{
     "node_id":"nREbvdA4RT4OMfGBk7OemB",
     "type":"MD",
     "hide_input_from_viewers":true,
     "hide_output_from_viewers":true
    }
   }
  }
 ],
 "metadata":{
  "kernelspec":{
   "display_name":"Python",
   "language":"python",
   "name":"python"
  },
  "datalore":{
   "computation_mode":"JUPYTER",
   "package_manager":"pip",
   "base_environment":"default",
   "packages":[
    
   ],
   "report_row_ids":[
    
   ],
   "version":3
  }
 },
 "nbformat":4,
 "nbformat_minor":4
}