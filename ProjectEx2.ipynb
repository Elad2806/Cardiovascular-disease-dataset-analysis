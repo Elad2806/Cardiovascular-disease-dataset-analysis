{
 "cells":[
  {
   "cell_type":"markdown",
   "source":[
    "# Sheet 2"
   ],
   "attachments":{
    
   },
   "metadata":{
    "datalore":{
     "node_id":"Sheet 2",
     "type":"MD",
     "hide_input_from_viewers":false,
     "hide_output_from_viewers":false,
     "sheet_delimiter":true
    }
   }
  },
  {
   "cell_type":"markdown",
   "source":[
    "**Link to the dataset**: https:\/\/www.kaggle.com\/datasets\/alphiree\/cardiovascular-diseases-risk-prediction-dataset"
   ],
   "attachments":{
    
   },
   "metadata":{
    "datalore":{
     "node_id":"e0Tiuvc35KATPfakju7QIL",
     "type":"MD",
     "hide_input_from_viewers":true,
     "hide_output_from_viewers":true
    }
   }
  },
  {
   "cell_type":"markdown",
   "source":[
    "# Pre-processing (same as part 1):"
   ],
   "attachments":{
    
   },
   "metadata":{
    "datalore":{
     "node_id":"LyK3N3KvBtspBB5EmFVGEK",
     "type":"MD",
     "hide_input_from_viewers":true,
     "hide_output_from_viewers":true
    }
   }
  },
  {
   "cell_type":"code",
   "source":[
    "import numpy as np\n",
    "import matplotlib.pyplot as plt\n",
    "import pandas as pd\n",
    "import seaborn as sns\n",
    "\n",
    "df = pd.read_csv('\/data\/notebook_files\/CVD_cleaned.csv')\n",
    "# Binary columns transformation\n",
    "\n",
    "df['Heart_Disease'] = df['Heart_Disease'].map({'Yes': 1, 'No': 0})\n",
    "df['Sex'] = df['Sex'].map({'Female': 1, 'Male': 0})\n",
    "# Dropping columns we don't need\n",
    "\n",
    "df.drop(columns=['General_Health','Checkup','Exercise','Skin_Cancer','Other_Cancer','Depression','Diabetes','Arthritis','Smoking_History','Fruit_Consumption','Green_Vegetables_Consumption','FriedPotato_Consumption', 'Weight_(kg)', 'Height_(cm)'], inplace=True)\n",
    "df.head()"
   ],
   "execution_count":690,
   "outputs":[
    {
     "data":{
      "text\/html":[
       "<div>\n",
       "<style scoped>\n",
       "    .dataframe tbody tr th:only-of-type {\n",
       "        vertical-align: middle;\n",
       "    }\n",
       "\n",
       "    .dataframe tbody tr th {\n",
       "        vertical-align: top;\n",
       "    }\n",
       "\n",
       "    .dataframe thead th {\n",
       "        text-align: right;\n",
       "    }\n",
       "<\/style>\n",
       "<table border=\"1\" class=\"dataframe\">\n",
       "  <thead>\n",
       "    <tr style=\"text-align: right;\">\n",
       "      <th><\/th>\n",
       "      <th>Heart_Disease<\/th>\n",
       "      <th>Sex<\/th>\n",
       "      <th>Age_Category<\/th>\n",
       "      <th>BMI<\/th>\n",
       "      <th>Alcohol_Consumption<\/th>\n",
       "    <\/tr>\n",
       "  <\/thead>\n",
       "  <tbody>\n",
       "    <tr>\n",
       "      <th>0<\/th>\n",
       "      <td>0<\/td>\n",
       "      <td>1<\/td>\n",
       "      <td>70-74<\/td>\n",
       "      <td>14.54<\/td>\n",
       "      <td>0.0<\/td>\n",
       "    <\/tr>\n",
       "    <tr>\n",
       "      <th>1<\/th>\n",
       "      <td>1<\/td>\n",
       "      <td>1<\/td>\n",
       "      <td>70-74<\/td>\n",
       "      <td>28.29<\/td>\n",
       "      <td>0.0<\/td>\n",
       "    <\/tr>\n",
       "    <tr>\n",
       "      <th>2<\/th>\n",
       "      <td>0<\/td>\n",
       "      <td>1<\/td>\n",
       "      <td>60-64<\/td>\n",
       "      <td>33.47<\/td>\n",
       "      <td>4.0<\/td>\n",
       "    <\/tr>\n",
       "    <tr>\n",
       "      <th>3<\/th>\n",
       "      <td>1<\/td>\n",
       "      <td>0<\/td>\n",
       "      <td>75-79<\/td>\n",
       "      <td>28.73<\/td>\n",
       "      <td>0.0<\/td>\n",
       "    <\/tr>\n",
       "    <tr>\n",
       "      <th>4<\/th>\n",
       "      <td>0<\/td>\n",
       "      <td>0<\/td>\n",
       "      <td>80+<\/td>\n",
       "      <td>24.37<\/td>\n",
       "      <td>0.0<\/td>\n",
       "    <\/tr>\n",
       "  <\/tbody>\n",
       "<\/table>\n",
       "<\/div>"
      ]
     },
     "metadata":{
      
     },
     "output_type":"display_data"
    }
   ],
   "metadata":{
    "datalore":{
     "node_id":"cUPAoTTP9t2Jy0BIRXiels",
     "type":"CODE",
     "hide_input_from_viewers":true,
     "hide_output_from_viewers":true
    }
   }
  },
  {
   "cell_type":"markdown",
   "source":[
    "# Question 1\n",
    "\n",
    "Our research question:\n",
    "\n",
    "**Is there a difference in mean BMI between males and females?**"
   ],
   "attachments":{
    
   },
   "metadata":{
    "datalore":{
     "node_id":"WkuXbcFbWHdbfU6fWT5Bhy",
     "type":"MD",
     "hide_input_from_viewers":true,
     "hide_output_from_viewers":true
    }
   }
  },
  {
   "cell_type":"markdown",
   "source":[
    "a. Mean value of alcohol consumption for each gender:"
   ],
   "attachments":{
    
   },
   "metadata":{
    "datalore":{
     "node_id":"g04oWHe1EfO5lpcopbEV1G",
     "type":"MD",
     "hide_input_from_viewers":true,
     "hide_output_from_viewers":true
    }
   }
  },
  {
   "cell_type":"code",
   "source":[
    "males_df = df[df['Sex'] == 0]\n",
    "females_df = df[df['Sex'] == 1]\n",
    "mean_BMI_males = males_df['BMI'].mean()\n",
    "mean_BMI_females = females_df['BMI'].mean()\n",
    "print(\"Mean BMI of males: {}\".format(mean_BMI_males))\n",
    "print(\"Mean BMI of females: {}\".format(mean_BMI_females))"
   ],
   "execution_count":691,
   "outputs":[
    {
     "name":"stdout",
     "text":[
      "Mean BMI of males: 28.700612076040308\n",
      "Mean BMI of females: 28.557167719543553\n"
     ],
     "output_type":"stream"
    }
   ],
   "metadata":{
    "datalore":{
     "node_id":"dsWtydOeZ0c2Q2PzaiXxnK",
     "type":"CODE",
     "hide_input_from_viewers":true,
     "hide_output_from_viewers":true
    }
   }
  },
  {
   "cell_type":"markdown",
   "source":[
    "b. Confidence interval for mean BMI, for each gender:"
   ],
   "attachments":{
    
   },
   "metadata":{
    "datalore":{
     "node_id":"sy9AIN2AO2v7R81V8uKvHe",
     "type":"MD",
     "hide_input_from_viewers":true,
     "hide_output_from_viewers":true
    }
   }
  },
  {
   "cell_type":"code",
   "source":[
    "n_males = len(males_df)\n",
    "n_females = len(females_df)\n",
    "\n",
    "# unbiased estimator for variance\n",
    "BMI_var_males = males_df['BMI'].var()\n",
    "BMI_var_females = females_df['BMI'].var()\n",
    "# the se estimator for the mean is sqrt(var(BMI)\/n)\n",
    "se_males = ((1\/n_males)*BMI_var_males)**(1\/2)\n",
    "se_females = ((1\/n_females)*BMI_var_females)**(1\/2)\n",
    "# using the standard confidence level of 95%, the critical z values for the normal distribution is ~2.\n",
    "CI_BMI_males = [mean_BMI_males - 2 * se_males, mean_BMI_males + 2 * se_males]\n",
    "CI_BMI_females = [mean_BMI_females - 2 * se_females, mean_BMI_females + 2 * se_females]\n",
    "print(\"CI for mean BMI of males (95% condifence level): {}\".format(CI_BMI_males))\n",
    "print(\"CI for mean BMI of females (95% condifence level): {}\".format(CI_BMI_females))"
   ],
   "execution_count":692,
   "outputs":[
    {
     "name":"stdout",
     "text":[
      "CI for mean BMI of males (95% condifence level): [28.67009504064714, 28.731129111433475]\n",
      "CI for mean BMI of females (95% condifence level): [28.521873006446658, 28.59246243264045]\n"
     ],
     "output_type":"stream"
    }
   ],
   "metadata":{
    "datalore":{
     "node_id":"TCe9cnmm4EkPZXNLcf3LrC",
     "type":"CODE",
     "hide_input_from_viewers":true,
     "hide_output_from_viewers":true
    }
   }
  },
  {
   "cell_type":"markdown",
   "source":[
    "We saw in the lectures that the average is an MLE for the mean and is asymptotically normal. Also note that we assume that BMI of different people are independent of each other, and we have more than enough samples from both categories to use the normal distribution assumption."
   ],
   "attachments":{
    
   },
   "metadata":{
    "datalore":{
     "node_id":"I7Erx9p4cl88wrM6OIWD6O",
     "type":"MD",
     "hide_input_from_viewers":true,
     "hide_output_from_viewers":true
    }
   }
  },
  {
   "cell_type":"markdown",
   "source":[
    "## Section C (ג)\n",
    "\n",
    "We can see that there is NO overlap between the 2 confidence intervals.\n",
    "The meaning of this result is that there is a statistically significant difference between the genders regarding mean BMI. "
   ],
   "attachments":{
    
   },
   "metadata":{
    "datalore":{
     "node_id":"NS8vBPCIwgYLt0gP2ztBaE",
     "type":"MD",
     "hide_input_from_viewers":true,
     "hide_output_from_viewers":true
    }
   }
  },
  {
   "cell_type":"markdown",
   "source":[
    "# Question 2"
   ],
   "attachments":{
    
   },
   "metadata":{
    "datalore":{
     "node_id":"IUgpGCvk9oXs5nIVqu9Y3E",
     "type":"MD",
     "hide_input_from_viewers":true,
     "hide_output_from_viewers":true
    }
   }
  },
  {
   "cell_type":"markdown",
   "source":[
    "## section a (א)\n",
    "\n",
    "\n",
    "a.  H0: The mean BMI of men and women is the same.\n",
    "\n",
    "H1: The mean BMI of men and women is different.\n",
    "\n",
    "In mathematical notation, where $\\mu_x$ is the mean BMI of men and $\\mu_Y$ is the mean BMI of women:\n",
    "\n",
    "$H_0: \\mu_x - \\mu_Y = 0$\n",
    "\n",
    "$H_0: \\mu_x - \\mu_Y \\neq 0$"
   ],
   "attachments":{
    
   },
   "metadata":{
    "datalore":{
     "node_id":"SRpfiyJCTdjYoDm1XN9X1l",
     "type":"MD",
     "hide_input_from_viewers":true,
     "hide_output_from_viewers":true
    }
   }
  },
  {
   "cell_type":"markdown",
   "source":[
    "## section B (ב)"
   ],
   "attachments":{
    
   },
   "metadata":{
    "datalore":{
     "node_id":"WwyBKHKTnqsWIdTcFaYTJp",
     "type":"MD",
     "hide_input_from_viewers":true,
     "hide_output_from_viewers":true
    }
   }
  },
  {
   "cell_type":"code",
   "source":[
    "fig, (ax1, ax2) = plt.subplots(1, 2, figsize=(15, 6))\n",
    "\n",
    "males_df['BMI'].hist(edgecolor=\"black\", grid=False, bins=20, ax=ax1)\n",
    "ax1.set_title(\"BMI distribution of males\", size=15, fontweight=\"bold\")\n",
    "ax1.set_xlabel(\"BMI\")\n",
    "ax1.set_ylabel(\"Count\")\n",
    "\n",
    "females_df['BMI'].hist(edgecolor=\"black\", grid=False, bins=20, ax=ax2, color=\"orange\")\n",
    "ax2.set_title(\"BMI distribution of females\", size=15, fontweight=\"bold\")\n",
    "ax2.set_xlabel(\"BMI\")\n",
    "ax2.set_ylabel(\"Count\")\n",
    "\n",
    "plt.show()"
   ],
   "execution_count":693,
   "outputs":[
    {
     "data":{
      "image\/png":"[encoded data removed]"
     },
     "metadata":{
      "image\/png":{
       
      }
     },
     "output_type":"display_data"
    }
   ],
   "metadata":{
    "datalore":{
     "node_id":"Wp6vq5dIOruMWSYadd70W7",
     "type":"CODE",
     "hide_input_from_viewers":true,
     "hide_output_from_viewers":true
    }
   }
  },
  {
   "cell_type":"code",
   "source":[
    "# using F test for equal variances\n",
    "import scipy.stats as stats\n",
    "F_statistic = max(females_df['BMI'].var(),males_df['BMI'].var()) \/ min(females_df['BMI'].var(),males_df['BMI'].var())\n",
    "p_value = 1 - stats.f.cdf(F_statistic, n_males - 1, n_females - 1)\n",
    "F_test_quantile = stats.f.ppf(0.95, n_males - 1, n_females - 1)\n",
    "\n",
    "print(\"P value: {}\".format(p_value))\n",
    "print(\"F statistic value: {} , F test critical value:: {}\".format(F_statistic, F_test_quantile))\n",
    "print(\"Should reject H_0? {}\".format(F_statistic > F_test_quantile))"
   ],
   "execution_count":694,
   "outputs":[
    {
     "name":"stdout",
     "text":[
      "P value: 1.1102230246251565e-16\n",
      "F statistic value: 1.441444785266057 , F test critical value:: 1.0084116742595286\n",
      "Should reject H_0? True\n"
     ],
     "output_type":"stream"
    }
   ],
   "metadata":{
    "datalore":{
     "node_id":"QLXUQwedACqWE6OCeC8fEq",
     "type":"CODE",
     "hide_input_from_viewers":true,
     "hide_output_from_viewers":true
    }
   }
  },
  {
   "cell_type":"markdown",
   "source":[
    "T-Test assumptions:\n",
    "- Independent Samples: holds.\n",
    "- Normality: Histograms have a bell shape but not a symmetrical one, so this assumption doesn't necessarily hold.\n",
    "- Equal Variances: according to the F test above, doesn't hold."
   ],
   "attachments":{
    
   },
   "metadata":{
    "datalore":{
     "node_id":"CiorIC1gU5aiB6JG0KkZzX",
     "type":"MD",
     "hide_input_from_viewers":true,
     "hide_output_from_viewers":true
    }
   }
  },
  {
   "cell_type":"markdown",
   "source":[
    "## section C (ג)"
   ],
   "attachments":{
    
   },
   "metadata":{
    "datalore":{
     "node_id":"tzr3NO8A6cimowo1xIXhsU",
     "type":"MD",
     "hide_input_from_viewers":true,
     "hide_output_from_viewers":true
    }
   }
  },
  {
   "cell_type":"code",
   "source":[
    "# T test\n",
    "alpha = 0.05\n",
    "T_statistic, p_value = stats.ttest_ind(males_df['BMI'], females_df['BMI']) # 2 tail T-Test\n",
    "print(\"P value: {}\".format(p_value))\n",
    "print(\"T statistic: {}\".format(T_statistic))\n",
    "print(\"Should reject H_0? {}\".format(p_value < alpha))"
   ],
   "execution_count":695,
   "outputs":[
    {
     "name":"stdout",
     "text":[
      "P value: 1.0144387299235462e-09\n",
      "T statistic: 6.107311046084703\n",
      "Should reject H_0? True\n"
     ],
     "output_type":"stream"
    }
   ],
   "metadata":{
    "datalore":{
     "node_id":"UZx7y227wyCrv4UUakC2h9",
     "type":"CODE",
     "hide_input_from_viewers":true,
     "hide_output_from_viewers":true
    }
   }
  },
  {
   "cell_type":"markdown",
   "source":[
    "## section D (ד)"
   ],
   "attachments":{
    
   },
   "metadata":{
    "datalore":{
     "node_id":"nRfKYLXapmz3bmrJpv2WZr",
     "type":"MD",
     "hide_input_from_viewers":true,
     "hide_output_from_viewers":true
    }
   }
  },
  {
   "cell_type":"code",
   "source":[
    "# Wald test\n",
    "wald_statistic = (mean_BMI_males - mean_BMI_females) \/ ((BMI_var_males \/ n_males + BMI_var_females \/ n_females) ** (1 \/ 2))\n",
    "p_value = 2 * stats.norm.cdf(-abs(wald_statistic))\n",
    "print(\"P value: {}\".format(p_value))\n",
    "print(\"Wald statistic: {}\".format(wald_statistic))\n",
    "print(\"Should reject H_0? {}\".format(p_value < alpha))"
   ],
   "execution_count":696,
   "outputs":[
    {
     "name":"stdout",
     "text":[
      "P value: 7.811832459903407e-10\n",
      "Wald statistic: 6.148704574641596\n",
      "Should reject H_0? True\n"
     ],
     "output_type":"stream"
    }
   ],
   "metadata":{
    "datalore":{
     "node_id":"xUu0TpSE4en5wiiU8O3tHQ",
     "type":"CODE",
     "hide_input_from_viewers":true,
     "hide_output_from_viewers":true
    }
   }
  },
  {
   "cell_type":"markdown",
   "source":[
    "## section E (ה)"
   ],
   "attachments":{
    
   },
   "metadata":{
    "datalore":{
     "node_id":"DPlubJ8t30f3Zh2NvVEqny",
     "type":"MD",
     "hide_input_from_viewers":true,
     "hide_output_from_viewers":true
    }
   }
  },
  {
   "cell_type":"markdown",
   "source":[
    "In both the T-test and the Wald test we rejected the null hypothesis and found p-values that are extremely small. It was to be expected based on the non-intersecting confidence intervals we found in q1. "
   ],
   "attachments":{
    
   },
   "metadata":{
    "datalore":{
     "node_id":"dWN5ZElAZZiFSvZVT0s8I9",
     "type":"MD",
     "hide_input_from_viewers":true,
     "hide_output_from_viewers":true
    }
   }
  },
  {
   "cell_type":"markdown",
   "source":[
    "## section F (ו)"
   ],
   "attachments":{
    
   },
   "metadata":{
    "datalore":{
     "node_id":"BEcVX1RysuvkMCdX8INdEM",
     "type":"MD",
     "hide_input_from_viewers":true,
     "hide_output_from_viewers":true
    }
   }
  },
  {
   "cell_type":"markdown",
   "source":[
    "`f`. \n",
    "<img src=\"https:\/\/i.postimg.cc\/MZ7z89pZ\/fb4ba5affccba0bcb8f492405d26b35c.png\">"
   ],
   "attachments":{
    
   },
   "metadata":{
    "datalore":{
     "node_id":"gd3XxqtTrQTHAElimX7hm4",
     "type":"MD",
     "hide_input_from_viewers":true,
     "hide_output_from_viewers":true
    }
   }
  },
  {
   "cell_type":"code",
   "source":[
    "#2.f\n",
    "def get_sum(values, n_category, S_p_squared, variance_estimate, mu_estimate_category, mu_estimate_all):\n",
    "    total_sum = 0\n",
    "    for i in range(n_category):\n",
    "        total_sum += (values[i] - mu_estimate_category) ** 2 \/ S_p_squared - (values[i] - mu_estimate_all) ** 2 \/ variance_estimate\n",
    "    return total_sum\n",
    "\n",
    "import math\n",
    "\n",
    "S_p_squared = ((n_males-1)*BMI_var_males+(n_females-1)*BMI_var_females)\/(n_males+n_females-2)\n",
    "\n",
    "m_values = males_df[\"BMI\"].values\n",
    "f_values = females_df[\"BMI\"].values\n",
    "\n",
    "sample_variance = df[\"BMI\"].var()\n",
    "mean_BMI = df[\"BMI\"].mean()\n",
    "n = n_males + n_females\n",
    "log_sum = n * math.log(sample_variance \/ S_p_squared)\n",
    "\n",
    "males_sum = get_sum(m_values, n_males, S_p_squared, sample_variance, mean_BMI_males, mean_BMI)\n",
    "females_sum = get_sum(f_values, n_females, S_p_squared, sample_variance, mean_BMI_females, mean_BMI)\n",
    "\n",
    "statistic = log_sum - males_sum - females_sum\n",
    "p_value = stats.chi2.sf(statistic, 1)\n",
    "\n",
    "print(f\"The LR-test statistic is: {statistic}, \")\n",
    "print(f\"p-value: {p_value}\")\n",
    "print(f\"Should reject H_0? {p_value < alpha}\")"
   ],
   "execution_count":697,
   "outputs":[
    {
     "name":"stdout",
     "text":[
      "The LR-test statistic is: 37.29723279208619, \n",
      "p-value: 1.0142842283915584e-09\n",
      "Should reject H_0? True\n"
     ],
     "output_type":"stream"
    }
   ],
   "metadata":{
    "datalore":{
     "node_id":"X0meAfATZtIu7oLtwBYlya",
     "type":"CODE",
     "hide_input_from_viewers":true,
     "hide_output_from_viewers":true
    }
   }
  },
  {
   "cell_type":"markdown",
   "source":[
    "# Question 3"
   ],
   "attachments":{
    
   },
   "metadata":{
    "datalore":{
     "node_id":"mgX1A2JXZDKSGCGEA8M5vy",
     "type":"MD",
     "hide_input_from_viewers":true,
     "hide_output_from_viewers":true
    }
   }
  },
  {
   "cell_type":"markdown",
   "source":[
    "## section A,B,C (א,ב,ג)"
   ],
   "attachments":{
    
   },
   "metadata":{
    "datalore":{
     "node_id":"jG2gnhmdfMMKpEHni4tph0",
     "type":"MD",
     "hide_input_from_viewers":true,
     "hide_output_from_viewers":true
    }
   }
  },
  {
   "cell_type":"code",
   "source":[
    "def wald_test_q3(sample_BMI_m, sample_BMI_f, sample_variance_males, sample_variance_females, sample_n_males, sample_n_females, section):\n",
    "    q3_wald_statistic = (sample_BMI_m - sample_BMI_f) \/ ((sample_variance_males \/ sample_n_males + sample_variance_females \/ sample_n_females) ** 0.5)\n",
    "    \n",
    "    w_p_value = 2*stats.norm.cdf(-abs(q3_wald_statistic))\n",
    "\n",
    "    if section == 'c':\n",
    "        print(\"Performing Wald test: \")\n",
    "        print(\"P value: {}\".format(w_p_value))\n",
    "        print(\"Wald statistic: {}\".format(q3_wald_statistic))\n",
    "        print(f\"Should reject H_0?: {w_p_value < alpha}\")\n",
    "        print(\"*************\")\n",
    "    return w_p_value"
   ],
   "execution_count":698,
   "outputs":[
    
   ],
   "metadata":{
    "datalore":{
     "node_id":"efNi6mYXBdxQXCqzXaqBrI",
     "type":"CODE",
     "hide_input_from_viewers":true,
     "hide_output_from_viewers":true
    }
   }
  },
  {
   "cell_type":"code",
   "source":[
    "CI_dict = {\n",
    "    30: [0, 0],\n",
    "    50: [0, 0],\n",
    "    100: [0, 0],\n",
    "    500: [0, 0]\n",
    "}\n",
    "\n",
    "def q3(section):\n",
    "    \"\"\"\n",
    "    Performs random sampling of different sizes from the dataset, calculates wald test, CI.    \n",
    " \n",
    "    Args:\n",
    "        section: which section in q3 is being performed.\n",
    " \n",
    "    Returns (relevant for section d only):\n",
    "        CI_list_m (list): confidence interval of mean BMI of males for each of the sample sizes.\n",
    "        CI_list_f (list): confidence interval of mean BMI of females for each of the sample sizes.\n",
    "        p_values (list): p-values recieved by the wald test, for each of the sample sizes.\n",
    "\n",
    "    \"\"\"\n",
    "    CI_list_m = {}\n",
    "    CI_list_f = {}\n",
    "    q3_p_values = {}\n",
    "\n",
    "    for i in [30, 50, 100, 500]:\n",
    "        sample_n_males = 0\n",
    "        sample_n_females = 0\n",
    "\n",
    "        # we want to make sure our data contains at least 1 sample from each group\n",
    "        while sample_n_males == 0 or sample_n_females == 0:\n",
    "            sample_df = df.sample(i)\n",
    "            males_sample_df = sample_df[sample_df['Sex'] == 0]\n",
    "            females_sample_df = sample_df[sample_df['Sex'] == 1]\n",
    "            sample_n_males = len(males_sample_df['BMI'])\n",
    "            sample_n_females = len(females_sample_df['BMI'])\n",
    "\n",
    "        sample_mean_BMI_m = males_sample_df['BMI'].mean()\n",
    "        sample_mean_BMI_f = females_sample_df['BMI'].mean()\n",
    "        sample_var_BMI_m = males_sample_df['BMI'].var()\n",
    "        sample_var_BMI_f = females_sample_df['BMI'].var()\n",
    "        sample_se_m = ((1 \/ sample_n_males) * sample_var_BMI_m) ** (1 \/ 2)\n",
    "        sample_se_f = ((1 \/ sample_n_females) * sample_var_BMI_f) ** (1 \/ 2)\n",
    "        sample_CI_m = [sample_mean_BMI_m - 2 * sample_se_m, sample_mean_BMI_m + 2 * sample_se_m]\n",
    "        sample_CI_f = [sample_mean_BMI_f - 2 * sample_se_f, sample_mean_BMI_f + 2 * sample_se_f]\n",
    "        CI_males_length = sample_CI_m[1] - sample_CI_m[0]\n",
    "        CI_females_length = sample_CI_f[1] - sample_CI_f[0]\n",
    "\n",
    "        if section == 'b':\n",
    "            print(\"sample size: {}\".format(i))\n",
    "            print(\"Confidence interval for BMI among males: {}, its length is: {}\".format(sample_CI_m,CI_males_length))\n",
    "            print(\"Confidence interval for BMI among females: {}, its length is: {}\".format(sample_CI_f,CI_females_length))\n",
    "            print()\n",
    "\n",
    "        if section == 'c':\n",
    "            print(\"sample size: {}\".format(i))\n",
    "            wald_test_q3(sample_mean_BMI_m, sample_mean_BMI_f, sample_var_BMI_m, sample_var_BMI_f, sample_n_males, sample_n_females, 'c')            \n",
    "\n",
    "        if section == 'd':\n",
    "            #checking if the mean for the entire data is within the sample CI\n",
    "            if mean_BMI_males >= sample_CI_m[0] and mean_BMI_males <= sample_CI_m[1]:\n",
    "                CI_dict[i][0] += 1\n",
    "            if mean_BMI_females >= sample_CI_f[0] and mean_BMI_females <= sample_CI_f[1]:\n",
    "                CI_dict[i][1] += 1\n",
    "\n",
    "            q3_p_values[i] = wald_test_q3(sample_mean_BMI_m, sample_mean_BMI_f, sample_var_BMI_m, sample_var_BMI_f, sample_n_males, sample_n_females, False)\n",
    "            CI_list_m[i] = CI_males_length\n",
    "            CI_list_f[i] = CI_females_length\n",
    "        \n",
    "\n",
    "\n",
    "    return CI_list_m, CI_list_f, q3_p_values"
   ],
   "execution_count":699,
   "outputs":[
    
   ],
   "metadata":{
    "datalore":{
     "node_id":"k1blVIfDmXmXitSaGQoc8N",
     "type":"CODE",
     "hide_input_from_viewers":true,
     "hide_output_from_viewers":true
    }
   }
  },
  {
   "cell_type":"markdown",
   "source":[
    "## section B (ב)"
   ],
   "attachments":{
    
   },
   "metadata":{
    "datalore":{
     "node_id":"frrSfBvNXVl0Ay20DHkYsi",
     "type":"MD",
     "hide_input_from_viewers":true,
     "hide_output_from_viewers":true
    }
   }
  },
  {
   "cell_type":"code",
   "source":[
    "#b\n",
    "_, _, _ = q3('b')"
   ],
   "execution_count":700,
   "outputs":[
    {
     "name":"stdout",
     "text":[
      "sample size: 30\n",
      "Confidence interval for BMI among males: [25.388930277966125, 32.02606972203388], its length is: 6.637139444067756\n",
      "Confidence interval for BMI among females: [25.820957588190552, 33.13761384038088], its length is: 7.316656252190327\n",
      "\n",
      "sample size: 50\n",
      "Confidence interval for BMI among males: [25.72674144946854, 29.09040140767432], its length is: 3.36365995820578\n",
      "Confidence interval for BMI among females: [24.742501655296806, 29.635680162885016], its length is: 4.89317850758821\n",
      "\n",
      "sample size: 100\n",
      "Confidence interval for BMI among males: [28.322446778748755, 32.02307046263056], its length is: 3.700623683881801\n",
      "Confidence interval for BMI among females: [25.850953861360217, 28.944284233877866], its length is: 3.0933303725176486\n",
      "\n",
      "sample size: 500\n",
      "Confidence interval for BMI among males: [28.43465980784238, 30.057860517360872], its length is: 1.6232007095184926\n",
      "Confidence interval for BMI among females: [27.83611747614479, 29.502780161650488], its length is: 1.666662685505699\n",
      "\n"
     ],
     "output_type":"stream"
    }
   ],
   "metadata":{
    "datalore":{
     "node_id":"O1pS7auntGjJLWKtULxfV1",
     "type":"CODE",
     "hide_input_from_viewers":true,
     "hide_output_from_viewers":true
    }
   }
  },
  {
   "cell_type":"markdown",
   "source":[
    "*Q1 RECAP:*\n",
    "\n",
    "CI for mean BMI of males (95% condifence level): [28.67009504064714, 28.731129111433475]\n",
    "\n",
    "CI for mean BMI of females (95% condifence level): [28.521873006446658, 28.59246243264045]\n",
    "\n",
    "In the making of CI in Q1, we considered the entire dataset which has ~15000 samples in each group, and we saw that the CI's did not intersect.\n",
    "In this question, we used much smaller sample size. As a result we can see a trend (for the most part, due to the randomization) that as the sample size gets bigger, the length of the CI gets smaller. We can also see that the CI's of both groups intersect, which shows that the statistical difference between their means is less significant."
   ],
   "attachments":{
    
   },
   "metadata":{
    "datalore":{
     "node_id":"FYrEC5D2SzLj1ng54V56t3",
     "type":"MD",
     "hide_input_from_viewers":true,
     "hide_output_from_viewers":true
    }
   }
  },
  {
   "cell_type":"markdown",
   "source":[
    "## section C (ג)"
   ],
   "attachments":{
    
   },
   "metadata":{
    "datalore":{
     "node_id":"FGx1pJRt9BvY27zqYDJhUM",
     "type":"MD",
     "hide_input_from_viewers":true,
     "hide_output_from_viewers":true
    }
   }
  },
  {
   "cell_type":"code",
   "source":[
    "#c\n",
    "_, _, _ = q3('c')"
   ],
   "execution_count":701,
   "outputs":[
    {
     "name":"stdout",
     "text":[
      "sample size: 30\n",
      "Performing Wald test: \n",
      "P value: 0.655154463321925\n",
      "Wald statistic: 0.4466130613663937\n",
      "Should reject H_0?: False\n",
      "*************\n",
      "sample size: 50\n",
      "Performing Wald test: \n",
      "P value: 0.2574441141127224\n",
      "Wald statistic: 1.1324528079675629\n",
      "Should reject H_0?: False\n",
      "*************\n",
      "sample size: 100\n",
      "Performing Wald test: \n",
      "P value: 0.1499034182779395\n",
      "Wald statistic: -1.4398726992897557\n",
      "Should reject H_0?: False\n",
      "*************\n",
      "sample size: 500\n",
      "Performing Wald test: \n",
      "P value: 0.027669116752198242\n",
      "Wald statistic: -2.2019460901885735\n",
      "Should reject H_0?: True\n",
      "*************\n"
     ],
     "output_type":"stream"
    }
   ],
   "metadata":{
    "datalore":{
     "node_id":"x2OirWpPB6jLPNQ56xiNev",
     "type":"CODE",
     "hide_input_from_viewers":true,
     "hide_output_from_viewers":true
    }
   }
  },
  {
   "cell_type":"markdown",
   "source":[
    "Q2 RECAP:\n",
    "\n",
    "P value: 7.811832459903407e-10\n",
    "\n",
    "Wald statistic: 6.148704574641596\n",
    "\n",
    "Should reject H_0? True\n",
    "\n",
    "\n",
    "In the making of the CI in Q2, we used the entire dataset, which gave us enough information to reject H0, but in the test above we used much smaller sample sizes, and as a result the power of our test got  smaller, and it became much harder to reject h_0."
   ],
   "attachments":{
    
   },
   "metadata":{
    "datalore":{
     "node_id":"M81LKAC8KDeE9thFy8bWM7",
     "type":"MD",
     "hide_input_from_viewers":true,
     "hide_output_from_viewers":true
    }
   }
  },
  {
   "cell_type":"markdown",
   "source":[
    "## section D (ד)"
   ],
   "attachments":{
    
   },
   "metadata":{
    "datalore":{
     "node_id":"UBdGSlIsmIwnnkVn9r3QAt",
     "type":"MD",
     "hide_input_from_viewers":true,
     "hide_output_from_viewers":true
    }
   }
  },
  {
   "cell_type":"code",
   "source":[
    "males_CI_dict = {\n",
    "    30: [],\n",
    "    50: [],\n",
    "    100: [],\n",
    "    500: []\n",
    "}\n",
    "females_CI_dict = {\n",
    "    30: [],\n",
    "    50: [],\n",
    "    100: [],\n",
    "    500: []\n",
    "}\n",
    "p_values_dict = {\n",
    "    30: [],\n",
    "    50: [],\n",
    "    100: [],\n",
    "    500: []\n",
    "}\n",
    "\n",
    "for j in range(100):\n",
    "    CI_list_males, CI_list_females, q3_p_values = q3('d')\n",
    "    for i in [30, 50, 100, 500]:\n",
    "        males_CI_dict[i].append(CI_list_males[i]) \n",
    "        females_CI_dict[i].append(CI_list_females[i]) \n",
    "        p_values_dict[i].append(q3_p_values[i])"
   ],
   "execution_count":702,
   "outputs":[
    
   ],
   "metadata":{
    "datalore":{
     "node_id":"P4zgWDMIi9yy55yRsRbMXI",
     "type":"CODE",
     "hide_input_from_viewers":true,
     "hide_output_from_viewers":true
    }
   }
  },
  {
   "cell_type":"code",
   "source":[
    "import seaborn as sns\n",
    "import matplotlib.pyplot as plt\n",
    "import warnings\n",
    "\n",
    "warnings.filterwarnings('ignore')\n",
    "\n",
    "for sample_size, CI_list in males_CI_dict.items():\n",
    "    sns.distplot(CI_list, label=f\"sample size: {sample_size}\", hist=False, kde=True)\n",
    "    plt.plot()\n",
    "    \n",
    "plt.title(\"CI length , Gender: Male\", size=15, fontweight=\"bold\")\n",
    "plt.xlabel(\"length\")\n",
    "plt.ylabel(\"density\")\n",
    "plt.legend()\n",
    "plt.show()\n",
    "\n",
    "for sample_size, CI_list in females_CI_dict.items():\n",
    "    sns.distplot(CI_list, label=f\"sample size: {sample_size}\", hist=False, kde=True)\n",
    "    plt.plot()\n",
    "    \n",
    "plt.title(\"CI length , Gender: Female\", size=15, fontweight=\"bold\")\n",
    "plt.xlabel(\"length\")\n",
    "plt.ylabel(\"density\")\n",
    "plt.legend()\n",
    "plt.show()   \n",
    "\n",
    "fig = plt.figure(figsize=(12, 10)) \n",
    "for sample_size, P_values_list in p_values_dict.items():\n",
    "    print(P_values_list)\n",
    "    sns.distplot(P_values_list, label=f\"sample size: {sample_size}\", hist=False,kde=True)\n",
    "    plt.plot()\n",
    "   \n",
    "plt.title(\"P values\", size=24, fontweight=\"bold\")\n",
    "plt.xlabel(\"values\")\n",
    "plt.ylabel(\"Occurance\")\n",
    "plt.xlim(0, 1)\n",
    "plt.legend()\n",
    "\n",
    "plt.show()\n",
    "\n"
   ],
   "execution_count":703,
   "outputs":[
    {
     "name":"stdout",
     "text":[
      "[0.629456787716056, 0.42797608793602715, 0.4294299193959684, 0.7067738268064949, 0.0343642592186128, 0.9430396242839988, 0.5203303692535202, 0.22507957369339804, 0.09628510374414238, 0.11366076204106698, 0.6698337459911736, 0.6827425432158436, 0.1627907890626169, 0.24364403381665634, 0.41400756737000033, 0.9067202276408222, 0.07460405420758223, 0.6231147581412739, 0.7715129049261131, 0.5802395412451617, 0.6344523593011214, 0.9198731210438722, 0.6400144395204236, 0.17165389832480538, 0.7522316686604124, 0.42769357763392124, 0.957922608455525, 0.6296556881410273, 0.3415193291977937, 0.08984502270138275, 0.6524358215343513, 0.5171317175749413, 0.3462251411314843, 0.0304708175189285, 0.3904453840005506, 0.2626063898637131, 0.045830254161216326, 0.5830260349125402, 0.89870609662118, 0.5906567361363658, 0.4758028357913521, 0.3702954266317865, 0.647004300208328, 0.8053577489576822, 0.09013913105159185, 0.2749225215819997, 0.8966466948031839, 0.7593606601709779, 0.5703834217224677, 0.5633261450325409, 0.8539233925709031, 0.8609456277311966, 0.4060758153368821, 0.18776156835651214, 0.3508937841511012, 0.0022574997308466463, 0.5644780831432876, 0.45218680624615726, 0.9401407149450692, 0.548432927585154, 0.36802108721857796, 0.5047594885278608, 0.12180959193049407, 0.14559079310220738, 0.5340309751310159, 0.5840406212658389, 0.8829679661177948, 0.035118588557352524, 0.19228771181076998, 0.075431180085942, 0.9102026419423533, 0.2695997497310926, 0.7756386692331753, 0.3595413405417517, 0.45007903655256465, 0.05852623071266449, 0.3173393440336052, 0.034385279729543916, 0.36875676405408897, 0.7950138289687183, 0.5407894793909455, 0.5646555114951232, 0.2196182309055219, 0.6643792058662306, 0.8563333943426218, 0.15144822946828543, 0.9358865355272551, 0.6117933699475655, 0.1910078802766576, 0.6762900475288889, 0.22063172247660234, 0.16242445231830893, 0.6321603899597437, 0.222813144552772, 0.5622680228880845, 0.6402526416571301, 0.43141179337593305, 0.6502515460564744, 0.9356998702838786, 0.821839805119997]\n",
      "[0.711013056505327, 0.25267309553792305, 0.9130603213007674, 0.2681944727089398, 0.7250882120085064, 0.01973658164334527, 0.33109618034261534, 0.43866105155714297, 0.7518392572960931, 0.760412430159104, 0.0192293163912509, 0.23494115642655666, 0.9509642631579162, 0.6275049688080163, 0.45027965297200523, 0.9603411300735734, 0.7168898000103313, 0.19941088608676583, 0.364523859714985, 0.6219902629398038, 0.6697536034690073, 0.9069964573220416, 0.6855337807780593, 0.15460344797371242, 0.9994206154585803, 0.9592344767314894, 0.6308062806451782, 0.015514051761254588, 0.26089852778245004, 0.299368033612179, 0.9404986548856696, 0.5189892305550313, 0.6169706407285149, 0.2989854352675738, 0.1967187245538633, 0.25092243229330136, 0.45252198525211484, 0.6348521713910613, 0.6751335555895039, 0.11541656026610052, 0.48207233943471695, 0.9382801154393614, 0.9768244570800031, 0.1781709529293618, 0.04508979359314278, 0.2799839205097382, 0.23883845641078394, 0.3506897759387616, 0.7631083620583264, 0.03810302209093294, 0.4332968844235302, 0.7044036572236698, 0.06586813476870367, 0.9810616572213454, 0.7545227052604847, 0.01817755829347632, 0.6568291367017347, 0.6984054698347116, 0.6354955913093672, 0.18696062790715606, 0.5069960752148901, 0.10062138789274655, 0.01046668927060446, 0.7298390176795944, 0.42610719532585317, 0.30564481821898515, 0.5477662006107548, 0.9527126499153684, 0.5744880779773558, 0.944493618154723, 0.833937623972694, 0.8950820879580044, 0.7703893856761892, 0.5256981516792492, 0.2719295551706191, 0.8026113158122047, 0.18456804072961974, 0.7921161900932485, 0.6921858552405811, 0.3324751425290904, 0.4052539748924836, 0.04112662754096154, 0.3849601193307901, 0.2242653008944442, 0.5752125808150663, 0.34735614353876354, 0.38993709483853545, 0.09724370880159879, 0.5438338241732189, 0.22499724253557818, 0.7675495673984172, 0.8265011046634954, 0.5587838903555158, 0.49654410244919367, 0.004201825520578001, 0.2290252529607345, 0.5489984715557038, 0.3834141749234189, 0.4638384221991282, 0.6767360386213594]\n",
      "[0.7681306577300411, 0.005743654213832499, 0.9763029954217626, 0.8637383573753543, 0.13875318645817383, 0.40259029281126746, 0.622459298623914, 0.9032700661765484, 0.805851690508252, 0.9649482892204557, 0.25621873516467975, 0.9540598472910115, 0.5590248648581847, 0.5900638504183169, 0.7282222918824914, 0.49757321677981414, 0.3181809815151061, 0.1265990893104519, 0.20125092020918078, 0.7584639866846916, 0.7437248820897593, 0.39163699263242513, 0.5278553406864837, 0.8000009779093731, 0.608093215185694, 0.015056905264048894, 0.9780561351785927, 0.9489147513683434, 0.4057026329886485, 0.23525430156230975, 0.6164483495929842, 0.20912810173951457, 0.5092186700908184, 0.17961366389422218, 0.5819806002441277, 0.11230133888197702, 0.10932223576670004, 0.44848078568841643, 0.24429676424341118, 0.44887622950680883, 0.6351061266978499, 0.17543727562531164, 0.5986060940342266, 0.010117803123713083, 0.08288894868614556, 0.3946423775299963, 0.7046512960924446, 0.5774121550377999, 0.43310664452279957, 0.8996417298589401, 0.5400475647443219, 0.8590994520202287, 0.6771674255687463, 0.3477888929337485, 0.9437950843604399, 0.9405518965421773, 0.6525583400238142, 0.5486537634169263, 0.9418699923013614, 0.5471064286520738, 0.3242999753664354, 0.8037344303576078, 0.38995247794582255, 0.4986428980097316, 0.9562589319537658, 0.8671953624348026, 0.47831803960568, 0.16480718613918133, 0.47639774756987685, 0.5495117700617755, 0.9694578673189691, 0.25248675933605436, 0.3674679920545997, 0.3754749340302702, 0.6474056245480109, 0.19384925034075684, 0.11350120617343369, 0.39589883251654434, 0.7838101817126083, 0.983951786958778, 0.6989170446271749, 0.27861901431932734, 0.789318343393039, 0.4192323927256725, 0.6850027721578997, 0.39244082852935525, 0.5314802627467201, 0.9997506066802178, 0.7046908792247359, 0.33744267858402877, 0.5115774885528371, 0.5878226520185728, 0.21709800843201255, 0.2374580230135297, 0.5245647351872593, 0.23511010546340305, 0.9415870573994384, 0.8887049650314829, 0.9334191407366927, 0.23935525736787455]\n",
      "[0.0020619472293943834, 0.7534689652009773, 0.40049315538254426, 0.19474048350981454, 0.7125584205343908, 0.004690068577398379, 0.12327859941345608, 0.9650382587043496, 0.650705467077683, 0.42930665488249264, 0.06795007102445856, 0.036936923518962446, 0.9084028826495271, 0.5038988433013605, 0.3352341101385362, 0.6454794012597722, 0.0233471416377648, 0.027532088123826858, 0.44243111572085014, 0.03146302155619814, 0.33202071795445387, 0.9612889928658663, 0.9778589747480066, 0.8942368597637886, 0.21994309685221236, 0.03862563829950243, 0.956862482538926, 0.86365231604252, 0.9963809289328074, 0.8982751024809685, 0.7592091650614018, 0.9930782030310964, 0.006523562810769336, 0.961335250814442, 0.2965896259414449, 0.7870319728573372, 0.10887848134664034, 0.6237312740294385, 0.5609132566885684, 0.08887543745070645, 0.36225749067803403, 0.3514695561240315, 0.015615146985438358, 0.8687979430483584, 0.30497732634573493, 0.02270910789549054, 0.9186723642944484, 0.7803489076110508, 0.9877107115737113, 0.14002770230168965, 0.545218127891475, 0.019166070334715554, 0.5023108311757761, 0.9118319130421357, 0.6617519612013778, 0.9023382365471069, 0.38035064870408786, 0.4665160830130467, 0.46572249258049114, 0.3230383203256575, 0.5152746926696596, 0.3486185253551427, 0.227124811307843, 0.18097206181682224, 0.6634696840369911, 0.23509716455853036, 0.10101724877399812, 0.5645032629435327, 0.7435735295753269, 0.23993378279820232, 0.9666535020240969, 0.7225873085948931, 0.7945286629296583, 0.12284495220670337, 0.45065969843165443, 0.1343538678954552, 0.059839996655879045, 0.15192388683235503, 0.9496244107299214, 0.9348610146739822, 0.7343596167651696, 0.29462503943279217, 0.924727998096445, 0.26223203791176763, 0.0604558271862392, 0.8494413941272959, 0.33765661078622555, 0.9638212363613912, 0.2812038076106683, 0.23340133775390415, 0.2985959998210671, 0.6351714122592959, 0.9118934872892545, 0.2167434007088791, 0.16724031562699293, 0.9054931462170692, 0.4363584241845263, 0.3985427421227994, 0.544028905804444, 0.5223402322321214]\n"
     ],
     "output_type":"stream"
    },
    {
     "data":{
      "image\/png":"[encoded data removed]"
     },
     "metadata":{
      "image\/png":{
       
      }
     },
     "output_type":"display_data"
    },
    {
     "data":{
      "image\/png":"[encoded data removed]"
     },
     "metadata":{
      "image\/png":{
       
      }
     },
     "output_type":"display_data"
    },
    {
     "data":{
      "image\/png":"[encoded data removed]"
     },
     "metadata":{
      "image\/png":{
       
      }
     },
     "output_type":"display_data"
    }
   ],
   "metadata":{
    "datalore":{
     "node_id":"zkSVFwhcZnjwYATnS1XHNv",
     "type":"CODE",
     "hide_input_from_viewers":true,
     "hide_output_from_viewers":true
    }
   }
  },
  {
   "cell_type":"code",
   "source":[
    "# Calculating the percentage of times that the average of each category appeared in the CI\n",
    "print(\"for males:\")\n",
    "for i in [30, 50, 100, 500]:\n",
    "    print(\"the real average appeared in {}% of the CI' for sample size of {} \".format(CI_dict[i][0], i))\n",
    "\n",
    "print(\"for females:\")\n",
    "for i in [30, 50, 100, 500]:\n",
    "    print(\"the real average appeared in {}% of the CI' for sample size of {}\".format(CI_dict[i][1], i))"
   ],
   "execution_count":704,
   "outputs":[
    {
     "name":"stdout",
     "text":[
      "for males:\n",
      "the real average appeared in 95% of the CI' for sample size of 30 \n",
      "the real average appeared in 96% of the CI' for sample size of 50 \n",
      "the real average appeared in 96% of the CI' for sample size of 100 \n",
      "the real average appeared in 92% of the CI' for sample size of 500 \n",
      "for females:\n",
      "the real average appeared in 96% of the CI' for sample size of 30\n",
      "the real average appeared in 94% of the CI' for sample size of 50\n",
      "the real average appeared in 92% of the CI' for sample size of 100\n",
      "the real average appeared in 91% of the CI' for sample size of 500\n"
     ],
     "output_type":"stream"
    }
   ],
   "metadata":{
    "datalore":{
     "node_id":"8rLaXjzC8memxbGYyUKxMr",
     "type":"CODE",
     "hide_input_from_viewers":true,
     "hide_output_from_viewers":true
    }
   }
  },
  {
   "cell_type":"markdown",
   "source":[
    "We chose to visualize the length of the C.I's and the P-values we received in the 100 repetitions by density functions. \n",
    "\n",
    "An insight from the C.I's graphs above is that as we saw before in the numbers, the bigger the sample size, the smaller the C.I length. This insight is derived from the fact that the sample size affects the SE estimator that is used in the CI formula.\n",
    "\n",
    "As for the p-values graph, we cannot see a clear trend in the graphs, even though we expected to see the peaks of the higher sample size curves closer to 0. Perhaps the reason for that is that the overall difference is quite small (~0.15 in the entire dataset), and the variance in the BMI category is quite high (the std of the BMI for the entire dataset is ~6.5), which reduces the overall effect of the sample size on the P-value. Another reason is that the estimator is not necessarily normally distributed as we discussed before.\n",
    "\n",
    "Also, we see that the real average appeared in about 95% of the times in the CI, no matter the sample size. This result is not surprising as we chose alpha to be 0.05, and alpha indicates the chance that the  real average will NOT appear in the CI by definition."
   ],
   "attachments":{
    
   },
   "metadata":{
    "datalore":{
     "node_id":"EHdGwLv20Do7Rn4aj7nD1q",
     "type":"MD",
     "hide_input_from_viewers":true,
     "hide_output_from_viewers":true
    }
   }
  }
 ],
 "metadata":{
  "kernelspec":{
   "display_name":"Python",
   "language":"python",
   "name":"python"
  },
  "datalore":{
   "computation_mode":"JUPYTER",
   "package_manager":"pip",
   "base_environment":"default",
   "packages":[
    
   ],
   "report_row_ids":[
    
   ],
   "version":3
  }
 },
 "nbformat":4,
 "nbformat_minor":4
}